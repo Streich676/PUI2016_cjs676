{
 "cells": [
  {
   "cell_type": "markdown",
   "metadata": {},
   "source": [
    "## Munge 1 Notebook by: \n",
    "\n",
    "### Author: Christopher Streich, cjs6762nyu.edu, \n",
    "### for PUI2016 Final, 12-17-2016"
   ]
  },
  {
   "cell_type": "markdown",
   "metadata": {},
   "source": [
    "## This notebook is designed to run on the PUI2016_Python2 Kernel. "
   ]
  },
  {
   "cell_type": "markdown",
   "metadata": {},
   "source": [
    "This notebook will Begin the overall Munging Phase. \n",
    "\n",
    "It may be replaced by a Notebook which only solves #1 and #2\n",
    "\n"
   ]
  },
  {
   "cell_type": "code",
   "execution_count": 1,
   "metadata": {
    "collapsed": false
   },
   "outputs": [
    {
     "name": "stderr",
     "output_type": "stream",
     "text": [
      "/opt/rh/anaconda/root/envs/PUI2016_Python2/lib/python2.7/site-packages/IPython/html.py:14: ShimWarning:\n",
      "\n",
      "The `IPython.html` package has been deprecated. You should import from `notebook` instead. `IPython.html.widgets` has moved to `ipywidgets`.\n",
      "\n"
     ]
    },
    {
     "name": "stdout",
     "output_type": "stream",
     "text": [
      "Populating the interactive namespace from numpy and matplotlib\n"
     ]
    },
    {
     "name": "stderr",
     "output_type": "stream",
     "text": [
      "/opt/rh/anaconda/root/envs/PUI2016_Python2/lib/python2.7/site-packages/IPython/core/magics/pylab.py:161: UserWarning:\n",
      "\n",
      "pylab import has clobbered these variables: ['plt', 'compress', 'datetime']\n",
      "`%matplotlib` prevents importing * from pylab and numpy\n",
      "\n"
     ]
    }
   ],
   "source": [
    "#Tools for import\n",
    "import numpy as np\n",
    "import pandas as pd\n",
    "import geopandas as gp\n",
    "import scipy.cluster as scp\n",
    "import shapely as shp\n",
    "import pylab as pl\n",
    "import pandas as pd\n",
    "import matplotlib.pylab as plt\n",
    "import scipy.cluster as scp\n",
    "import plotly.plotly as py\n",
    "\n",
    "from datetime import datetime\n",
    "from itertools import compress\n",
    "from fiona.crs import from_epsg\n",
    "from sklearn.cluster import KMeans\n",
    "from matplotlib import cm\n",
    "from descartes import PolygonPatch\n",
    "from pandas.io.common import ZipFile\n",
    "from sklearn.cluster import AgglomerativeClustering\n",
    "from IPython.html import widgets\n",
    "from IPython.display import display\n",
    "\n",
    "import seaborn\n",
    "import fiona\n",
    "import zipfile\n",
    "import os\n",
    "import subprocess\n",
    "\n",
    "%matplotlib inline\n",
    "%pylab inline"
   ]
  },
  {
   "cell_type": "code",
   "execution_count": null,
   "metadata": {
    "collapsed": false
   },
   "outputs": [],
   "source": []
  },
  {
   "cell_type": "code",
   "execution_count": 2,
   "metadata": {
    "collapsed": true
   },
   "outputs": [],
   "source": [
    "%matplotlib inline\n",
    "\n",
    "\n",
    "from pandas import DataFrame\n",
    "\n",
    "\n",
    "from geopandas import GeoDataFrame\n",
    "\n",
    "import fiona\n",
    "import shapely\n",
    "import os\n",
    "import pylab as pl\n"
   ]
  },
  {
   "cell_type": "markdown",
   "metadata": {},
   "source": [
    "### List of Variables defined in this notebook\n",
    "\n",
    "nycb2010.shp = NYC Census Tract shapefile\n",
    "\n",
    "ZIP_CODE_040114.shp = NYC zipcode shapefile\n",
    "\n",
    "nybb.shp = Borough Map\n",
    "\n",
    "zbp00totals.txt = yr2000 Biz Data \n",
    "\n",
    "zbp00totals.txt = yr2010 Biz Data.\n",
    "\n",
    "zc_shape = NYC geoJson\n",
    "\n",
    "biz2000 = Businesses in 2000 in NYC zipcodes by zipcode\n",
    "\n",
    "biz2010 = Businesses in 2000 in NYC zipcodes by zipcode\n",
    "\n",
    "postalcodes = Unique NYC Postal Codes. \n",
    "\n",
    "zc_shp_area = shapefile with calculated area (mi^2)\n",
    "\n",
    "zc_group = Zip Codes grouped by zipcode with summed area(mi^2)\n",
    "\n",
    "geo_zip_biz2000 = geo-dataframes of 2000 biz by zipcode\n",
    "\n",
    "geo_zip_biz2010 = geo-dataframes of 2010 biz by zipcode"
   ]
  },
  {
   "cell_type": "markdown",
   "metadata": {},
   "source": [
    "### Stats after raw import\n",
    "\n",
    "len(zip_shp) = 263\n",
    "\n",
    "len(zip_shp.ZIPCODE.unique()) = 248\n",
    "\n",
    "len(tract_shp) = 38794\n",
    "\n",
    "len(boro_shp) = 5\n",
    "\n",
    "len(zc_shape) = 262\n",
    "\n",
    "len(zc_shape.postalCode.unique()) = 247\n",
    "\n",
    "len(biz2000) = 239\n",
    "\n",
    "len(biz2010) = 239\n",
    "\n",
    "len(postalcodes) = 247\n",
    "\n",
    "\n"
   ]
  },
  {
   "cell_type": "markdown",
   "metadata": {},
   "source": [
    "### ZipCode Shapefile"
   ]
  },
  {
   "cell_type": "code",
   "execution_count": 3,
   "metadata": {
    "collapsed": false
   },
   "outputs": [],
   "source": [
    "zip_shape_path = (os.getenv(\"PUIDATA\") + \"/\" + \"ZIP_CODE_040114.shp\")\n",
    "zip_shp = gp.read_file(zip_shape_path)"
   ]
  },
  {
   "cell_type": "code",
   "execution_count": 4,
   "metadata": {
    "collapsed": false
   },
   "outputs": [
    {
     "data": {
      "text/html": [
       "<div>\n",
       "<table border=\"1\" class=\"dataframe\">\n",
       "  <thead>\n",
       "    <tr style=\"text-align: right;\">\n",
       "      <th></th>\n",
       "      <th>AREA</th>\n",
       "      <th>BLDGZIP</th>\n",
       "      <th>COUNTY</th>\n",
       "      <th>CTY_FIPS</th>\n",
       "      <th>POPULATION</th>\n",
       "      <th>PO_NAME</th>\n",
       "      <th>SHAPE_AREA</th>\n",
       "      <th>SHAPE_LEN</th>\n",
       "      <th>STATE</th>\n",
       "      <th>ST_FIPS</th>\n",
       "      <th>URL</th>\n",
       "      <th>ZIPCODE</th>\n",
       "      <th>geometry</th>\n",
       "    </tr>\n",
       "  </thead>\n",
       "  <tbody>\n",
       "    <tr>\n",
       "      <th>0</th>\n",
       "      <td>2.269930e+07</td>\n",
       "      <td>0</td>\n",
       "      <td>Queens</td>\n",
       "      <td>081</td>\n",
       "      <td>18681.0</td>\n",
       "      <td>Jamaica</td>\n",
       "      <td>0.0</td>\n",
       "      <td>0.0</td>\n",
       "      <td>NY</td>\n",
       "      <td>36</td>\n",
       "      <td>http://www.usps.com/</td>\n",
       "      <td>11436</td>\n",
       "      <td>POLYGON ((1038098.251871482 188138.3800067157,...</td>\n",
       "    </tr>\n",
       "    <tr>\n",
       "      <th>1</th>\n",
       "      <td>2.963100e+07</td>\n",
       "      <td>0</td>\n",
       "      <td>Kings</td>\n",
       "      <td>047</td>\n",
       "      <td>62426.0</td>\n",
       "      <td>Brooklyn</td>\n",
       "      <td>0.0</td>\n",
       "      <td>0.0</td>\n",
       "      <td>NY</td>\n",
       "      <td>36</td>\n",
       "      <td>http://www.usps.com/</td>\n",
       "      <td>11213</td>\n",
       "      <td>POLYGON ((1001613.712964058 186926.4395172149,...</td>\n",
       "    </tr>\n",
       "  </tbody>\n",
       "</table>\n",
       "</div>"
      ],
      "text/plain": [
       "           AREA BLDGZIP  COUNTY CTY_FIPS  POPULATION   PO_NAME  SHAPE_AREA  \\\n",
       "0  2.269930e+07       0  Queens      081     18681.0   Jamaica         0.0   \n",
       "1  2.963100e+07       0   Kings      047     62426.0  Brooklyn         0.0   \n",
       "\n",
       "   SHAPE_LEN STATE ST_FIPS                   URL ZIPCODE  \\\n",
       "0        0.0    NY      36  http://www.usps.com/   11436   \n",
       "1        0.0    NY      36  http://www.usps.com/   11213   \n",
       "\n",
       "                                            geometry  \n",
       "0  POLYGON ((1038098.251871482 188138.3800067157,...  \n",
       "1  POLYGON ((1001613.712964058 186926.4395172149,...  "
      ]
     },
     "execution_count": 4,
     "metadata": {},
     "output_type": "execute_result"
    }
   ],
   "source": [
    "zip_shp.head(2)"
   ]
  },
  {
   "cell_type": "code",
   "execution_count": 5,
   "metadata": {
    "collapsed": false
   },
   "outputs": [
    {
     "data": {
      "text/plain": [
       "263"
      ]
     },
     "execution_count": 5,
     "metadata": {},
     "output_type": "execute_result"
    }
   ],
   "source": [
    "len(zip_shp)"
   ]
  },
  {
   "cell_type": "code",
   "execution_count": 6,
   "metadata": {
    "collapsed": false
   },
   "outputs": [
    {
     "data": {
      "text/plain": [
       "248"
      ]
     },
     "execution_count": 6,
     "metadata": {},
     "output_type": "execute_result"
    }
   ],
   "source": [
    "len(zip_shp.ZIPCODE.unique())"
   ]
  },
  {
   "cell_type": "markdown",
   "metadata": {},
   "source": [
    "### Census tract Shapefile"
   ]
  },
  {
   "cell_type": "code",
   "execution_count": 7,
   "metadata": {
    "collapsed": false
   },
   "outputs": [],
   "source": [
    "tract_shape_path = (os.getenv(\"PUIDATA\") + \"/\" + \"nycb2010_16c/nycb2010.shp\")\n",
    "tract_shp = gp.read_file(tract_shape_path)"
   ]
  },
  {
   "cell_type": "code",
   "execution_count": 8,
   "metadata": {
    "collapsed": false
   },
   "outputs": [
    {
     "data": {
      "text/html": [
       "<div>\n",
       "<table border=\"1\" class=\"dataframe\">\n",
       "  <thead>\n",
       "    <tr style=\"text-align: right;\">\n",
       "      <th></th>\n",
       "      <th>BCTCB2010</th>\n",
       "      <th>BoroCode</th>\n",
       "      <th>BoroName</th>\n",
       "      <th>CB2010</th>\n",
       "      <th>CT2010</th>\n",
       "      <th>Shape_Area</th>\n",
       "      <th>Shape_Leng</th>\n",
       "      <th>geometry</th>\n",
       "    </tr>\n",
       "  </thead>\n",
       "  <tbody>\n",
       "    <tr>\n",
       "      <th>0</th>\n",
       "      <td>50009001000</td>\n",
       "      <td>5</td>\n",
       "      <td>Staten Island</td>\n",
       "      <td>1000</td>\n",
       "      <td>000900</td>\n",
       "      <td>244589.603884</td>\n",
       "      <td>2508.948115</td>\n",
       "      <td>POLYGON ((962269.1260375977 173705.5001831055,...</td>\n",
       "    </tr>\n",
       "    <tr>\n",
       "      <th>1</th>\n",
       "      <td>50020011000</td>\n",
       "      <td>5</td>\n",
       "      <td>Staten Island</td>\n",
       "      <td>1000</td>\n",
       "      <td>002001</td>\n",
       "      <td>111006.286826</td>\n",
       "      <td>1345.886422</td>\n",
       "      <td>POLYGON ((964642.2676391602 161835.2651977539,...</td>\n",
       "    </tr>\n",
       "  </tbody>\n",
       "</table>\n",
       "</div>"
      ],
      "text/plain": [
       "     BCTCB2010 BoroCode       BoroName CB2010  CT2010     Shape_Area  \\\n",
       "0  50009001000        5  Staten Island   1000  000900  244589.603884   \n",
       "1  50020011000        5  Staten Island   1000  002001  111006.286826   \n",
       "\n",
       "    Shape_Leng                                           geometry  \n",
       "0  2508.948115  POLYGON ((962269.1260375977 173705.5001831055,...  \n",
       "1  1345.886422  POLYGON ((964642.2676391602 161835.2651977539,...  "
      ]
     },
     "execution_count": 8,
     "metadata": {},
     "output_type": "execute_result"
    }
   ],
   "source": [
    "tract_shp.head(2)"
   ]
  },
  {
   "cell_type": "code",
   "execution_count": 9,
   "metadata": {
    "collapsed": false
   },
   "outputs": [
    {
     "data": {
      "text/plain": [
       "38794"
      ]
     },
     "execution_count": 9,
     "metadata": {},
     "output_type": "execute_result"
    }
   ],
   "source": [
    "len(tract_shp)"
   ]
  },
  {
   "cell_type": "markdown",
   "metadata": {},
   "source": [
    "### Borough SHapefile"
   ]
  },
  {
   "cell_type": "code",
   "execution_count": 10,
   "metadata": {
    "collapsed": true
   },
   "outputs": [],
   "source": [
    "tract_shape_path = (os.getenv(\"PUIDATA\") + \"/\" + \"nybb_16d/nybb.shp\")\n",
    "boro_shp = gp.read_file(tract_shape_path)"
   ]
  },
  {
   "cell_type": "code",
   "execution_count": 11,
   "metadata": {
    "collapsed": false
   },
   "outputs": [
    {
     "data": {
      "text/html": [
       "<div>\n",
       "<table border=\"1\" class=\"dataframe\">\n",
       "  <thead>\n",
       "    <tr style=\"text-align: right;\">\n",
       "      <th></th>\n",
       "      <th>BoroCode</th>\n",
       "      <th>BoroName</th>\n",
       "      <th>Shape_Area</th>\n",
       "      <th>Shape_Leng</th>\n",
       "      <th>geometry</th>\n",
       "    </tr>\n",
       "  </thead>\n",
       "  <tbody>\n",
       "    <tr>\n",
       "      <th>0</th>\n",
       "      <td>5</td>\n",
       "      <td>Staten Island</td>\n",
       "      <td>1.623819e+09</td>\n",
       "      <td>330476.02653</td>\n",
       "      <td>(POLYGON ((970217.0223999023 145643.3322143555...</td>\n",
       "    </tr>\n",
       "    <tr>\n",
       "      <th>1</th>\n",
       "      <td>2</td>\n",
       "      <td>Bronx</td>\n",
       "      <td>1.186816e+09</td>\n",
       "      <td>464081.17775</td>\n",
       "      <td>(POLYGON ((1012821.805786133 229228.2645874023...</td>\n",
       "    </tr>\n",
       "  </tbody>\n",
       "</table>\n",
       "</div>"
      ],
      "text/plain": [
       "   BoroCode       BoroName    Shape_Area    Shape_Leng  \\\n",
       "0         5  Staten Island  1.623819e+09  330476.02653   \n",
       "1         2          Bronx  1.186816e+09  464081.17775   \n",
       "\n",
       "                                            geometry  \n",
       "0  (POLYGON ((970217.0223999023 145643.3322143555...  \n",
       "1  (POLYGON ((1012821.805786133 229228.2645874023...  "
      ]
     },
     "execution_count": 11,
     "metadata": {},
     "output_type": "execute_result"
    }
   ],
   "source": [
    "boro_shp.head(2)"
   ]
  },
  {
   "cell_type": "code",
   "execution_count": 12,
   "metadata": {
    "collapsed": false
   },
   "outputs": [
    {
     "data": {
      "text/plain": [
       "5"
      ]
     },
     "execution_count": 12,
     "metadata": {},
     "output_type": "execute_result"
    }
   ],
   "source": [
    "len(boro_shp)"
   ]
  },
  {
   "cell_type": "markdown",
   "metadata": {},
   "source": [
    "### Zip Code GeoJson"
   ]
  },
  {
   "cell_type": "markdown",
   "metadata": {},
   "source": [
    "ref: (https://stackoverflow.com/questions/21546739/load-data-from-txt-with-pandas)"
   ]
  },
  {
   "cell_type": "markdown",
   "metadata": {},
   "source": [
    "### GeoJson used in Assignemnt 11"
   ]
  },
  {
   "cell_type": "code",
   "execution_count": 13,
   "metadata": {
    "collapsed": false
   },
   "outputs": [],
   "source": [
    "zc_shape = gp.read_file(os.getenv('PUIDATA') + '/' + 'nyc-zip-code-tabulation-areas-polygons.geojson')"
   ]
  },
  {
   "cell_type": "code",
   "execution_count": 14,
   "metadata": {
    "collapsed": false
   },
   "outputs": [
    {
     "data": {
      "text/html": [
       "<div>\n",
       "<table border=\"1\" class=\"dataframe\">\n",
       "  <thead>\n",
       "    <tr style=\"text-align: right;\">\n",
       "      <th></th>\n",
       "      <th>@id</th>\n",
       "      <th>BLDGpostalCode</th>\n",
       "      <th>CTY_FIPS</th>\n",
       "      <th>OBJECTID</th>\n",
       "      <th>PO_NAME</th>\n",
       "      <th>STATE</th>\n",
       "      <th>ST_FIPS</th>\n",
       "      <th>Shape_Area</th>\n",
       "      <th>Shape_Leng</th>\n",
       "      <th>borough</th>\n",
       "      <th>geometry</th>\n",
       "      <th>postalCode</th>\n",
       "    </tr>\n",
       "  </thead>\n",
       "  <tbody>\n",
       "    <tr>\n",
       "      <th>0</th>\n",
       "      <td>http://nyc.pediacities.com/Resource/PostalCode...</td>\n",
       "      <td>0</td>\n",
       "      <td>081</td>\n",
       "      <td>1</td>\n",
       "      <td>Jackson Heights</td>\n",
       "      <td>NY</td>\n",
       "      <td>36</td>\n",
       "      <td>2.016328e+07</td>\n",
       "      <td>20624.692317</td>\n",
       "      <td>Queens</td>\n",
       "      <td>POLYGON ((-73.86942457284175 40.74915687096787...</td>\n",
       "      <td>11372</td>\n",
       "    </tr>\n",
       "    <tr>\n",
       "      <th>1</th>\n",
       "      <td>http://nyc.pediacities.com/Resource/PostalCode...</td>\n",
       "      <td>0</td>\n",
       "      <td>081</td>\n",
       "      <td>2</td>\n",
       "      <td>Glen Oaks</td>\n",
       "      <td>NY</td>\n",
       "      <td>36</td>\n",
       "      <td>2.260653e+07</td>\n",
       "      <td>23002.816039</td>\n",
       "      <td>Queens</td>\n",
       "      <td>POLYGON ((-73.71068374074007 40.75004039450917...</td>\n",
       "      <td>11004</td>\n",
       "    </tr>\n",
       "    <tr>\n",
       "      <th>2</th>\n",
       "      <td>http://nyc.pediacities.com/Resource/PostalCode...</td>\n",
       "      <td>0</td>\n",
       "      <td>081</td>\n",
       "      <td>3</td>\n",
       "      <td>New Hyde Park</td>\n",
       "      <td>NY</td>\n",
       "      <td>36</td>\n",
       "      <td>6.269333e+06</td>\n",
       "      <td>15749.161511</td>\n",
       "      <td>Queens</td>\n",
       "      <td>POLYGON ((-73.70098278625547 40.73889569923034...</td>\n",
       "      <td>11040</td>\n",
       "    </tr>\n",
       "    <tr>\n",
       "      <th>3</th>\n",
       "      <td>http://nyc.pediacities.com/Resource/PostalCode...</td>\n",
       "      <td>0</td>\n",
       "      <td>081</td>\n",
       "      <td>4</td>\n",
       "      <td>Bellerose</td>\n",
       "      <td>NY</td>\n",
       "      <td>36</td>\n",
       "      <td>4.941836e+07</td>\n",
       "      <td>35932.810639</td>\n",
       "      <td>Queens</td>\n",
       "      <td>POLYGON ((-73.72270447144122 40.75373371438336...</td>\n",
       "      <td>11426</td>\n",
       "    </tr>\n",
       "    <tr>\n",
       "      <th>4</th>\n",
       "      <td>http://nyc.pediacities.com/Resource/PostalCode...</td>\n",
       "      <td>0</td>\n",
       "      <td>081</td>\n",
       "      <td>5</td>\n",
       "      <td>Fresh Meadows</td>\n",
       "      <td>NY</td>\n",
       "      <td>36</td>\n",
       "      <td>6.938587e+07</td>\n",
       "      <td>38693.565676</td>\n",
       "      <td>Queens</td>\n",
       "      <td>POLYGON ((-73.81088634744755 40.72717187575918...</td>\n",
       "      <td>11365</td>\n",
       "    </tr>\n",
       "  </tbody>\n",
       "</table>\n",
       "</div>"
      ],
      "text/plain": [
       "                                                 @id  BLDGpostalCode CTY_FIPS  \\\n",
       "0  http://nyc.pediacities.com/Resource/PostalCode...               0      081   \n",
       "1  http://nyc.pediacities.com/Resource/PostalCode...               0      081   \n",
       "2  http://nyc.pediacities.com/Resource/PostalCode...               0      081   \n",
       "3  http://nyc.pediacities.com/Resource/PostalCode...               0      081   \n",
       "4  http://nyc.pediacities.com/Resource/PostalCode...               0      081   \n",
       "\n",
       "   OBJECTID          PO_NAME STATE ST_FIPS    Shape_Area    Shape_Leng  \\\n",
       "0         1  Jackson Heights    NY      36  2.016328e+07  20624.692317   \n",
       "1         2        Glen Oaks    NY      36  2.260653e+07  23002.816039   \n",
       "2         3    New Hyde Park    NY      36  6.269333e+06  15749.161511   \n",
       "3         4        Bellerose    NY      36  4.941836e+07  35932.810639   \n",
       "4         5    Fresh Meadows    NY      36  6.938587e+07  38693.565676   \n",
       "\n",
       "  borough                                           geometry postalCode  \n",
       "0  Queens  POLYGON ((-73.86942457284175 40.74915687096787...      11372  \n",
       "1  Queens  POLYGON ((-73.71068374074007 40.75004039450917...      11004  \n",
       "2  Queens  POLYGON ((-73.70098278625547 40.73889569923034...      11040  \n",
       "3  Queens  POLYGON ((-73.72270447144122 40.75373371438336...      11426  \n",
       "4  Queens  POLYGON ((-73.81088634744755 40.72717187575918...      11365  "
      ]
     },
     "execution_count": 14,
     "metadata": {},
     "output_type": "execute_result"
    }
   ],
   "source": [
    "zc_shape.head(5)"
   ]
  },
  {
   "cell_type": "code",
   "execution_count": 15,
   "metadata": {
    "collapsed": false
   },
   "outputs": [
    {
     "data": {
      "text/plain": [
       "262"
      ]
     },
     "execution_count": 15,
     "metadata": {},
     "output_type": "execute_result"
    }
   ],
   "source": [
    "len(zc_shape)\n"
   ]
  },
  {
   "cell_type": "code",
   "execution_count": 16,
   "metadata": {
    "collapsed": false
   },
   "outputs": [
    {
     "data": {
      "text/plain": [
       "247"
      ]
     },
     "execution_count": 16,
     "metadata": {},
     "output_type": "execute_result"
    }
   ],
   "source": [
    "len(zc_shape.postalCode.unique())"
   ]
  },
  {
   "cell_type": "markdown",
   "metadata": {},
   "source": [
    "## Number of unique NYC Zips"
   ]
  },
  {
   "cell_type": "code",
   "execution_count": 17,
   "metadata": {
    "collapsed": false
   },
   "outputs": [],
   "source": [
    "postalcodes = (zc_shape.postalCode.unique())"
   ]
  },
  {
   "cell_type": "code",
   "execution_count": 18,
   "metadata": {
    "collapsed": false
   },
   "outputs": [
    {
     "data": {
      "text/plain": [
       "dtype('O')"
      ]
     },
     "execution_count": 18,
     "metadata": {},
     "output_type": "execute_result"
    }
   ],
   "source": [
    "postalcodes.dtype"
   ]
  },
  {
   "cell_type": "code",
   "execution_count": 19,
   "metadata": {
    "collapsed": false
   },
   "outputs": [
    {
     "data": {
      "text/plain": [
       "247"
      ]
     },
     "execution_count": 19,
     "metadata": {},
     "output_type": "execute_result"
    }
   ],
   "source": [
    "len(postalcodes)"
   ]
  },
  {
   "cell_type": "code",
   "execution_count": 20,
   "metadata": {
    "collapsed": false,
    "scrolled": true
   },
   "outputs": [
    {
     "data": {
      "text/plain": [
       "['11372',\n",
       " '11004',\n",
       " '11040',\n",
       " '11426',\n",
       " '11365',\n",
       " '11373',\n",
       " '11001',\n",
       " '11375',\n",
       " '11427',\n",
       " '11374',\n",
       " '11366',\n",
       " '11423',\n",
       " '11428',\n",
       " '11432',\n",
       " '11379',\n",
       " '11429',\n",
       " '11435',\n",
       " '11415',\n",
       " '11418',\n",
       " '11433',\n",
       " '11451',\n",
       " '11221',\n",
       " '11421',\n",
       " '11419',\n",
       " '11434',\n",
       " '11216',\n",
       " '11416',\n",
       " '11233',\n",
       " '11436',\n",
       " '11213',\n",
       " '11212',\n",
       " '11225',\n",
       " '11218',\n",
       " '11226',\n",
       " '11219',\n",
       " '11210',\n",
       " '11230',\n",
       " '11204',\n",
       " '10471',\n",
       " '10470',\n",
       " '10466',\n",
       " '10467',\n",
       " '10463',\n",
       " '10475',\n",
       " '10464',\n",
       " '10469',\n",
       " '10468',\n",
       " '10458',\n",
       " '10034',\n",
       " '10033',\n",
       " '10462',\n",
       " '10040',\n",
       " '10453',\n",
       " '10465',\n",
       " '10461',\n",
       " '10457',\n",
       " '10460',\n",
       " '10032',\n",
       " '10452',\n",
       " '10456',\n",
       " '10472',\n",
       " '10031',\n",
       " '10039',\n",
       " '10459',\n",
       " '10451',\n",
       " '10473',\n",
       " '10030',\n",
       " '10027',\n",
       " '10474',\n",
       " '10455',\n",
       " '10037',\n",
       " '10024',\n",
       " '10454',\n",
       " '10026',\n",
       " '10035',\n",
       " '10025',\n",
       " '11357',\n",
       " '10029',\n",
       " '00083',\n",
       " '11356',\n",
       " '11359',\n",
       " '11360',\n",
       " '11105',\n",
       " '10128',\n",
       " '11371',\n",
       " '10023',\n",
       " '11363',\n",
       " '10028',\n",
       " '11354',\n",
       " '11102',\n",
       " '11370',\n",
       " '10021',\n",
       " '11361',\n",
       " '11358',\n",
       " '11362',\n",
       " '10044',\n",
       " '11369',\n",
       " '11103',\n",
       " '11106',\n",
       " '11368',\n",
       " '11377',\n",
       " '10036',\n",
       " '11355',\n",
       " '11101',\n",
       " '11364',\n",
       " '10018',\n",
       " '10020',\n",
       " '11005',\n",
       " '10017',\n",
       " '10001',\n",
       " '10011',\n",
       " '10016',\n",
       " '11104',\n",
       " '11109',\n",
       " '10010',\n",
       " '11367',\n",
       " '10014',\n",
       " '10003',\n",
       " '11222',\n",
       " '10002',\n",
       " '11378',\n",
       " '10009',\n",
       " '10012',\n",
       " '10013',\n",
       " '11211',\n",
       " '10007',\n",
       " '11237',\n",
       " '11385',\n",
       " '10038',\n",
       " '11206',\n",
       " '10006',\n",
       " '11412',\n",
       " '10005',\n",
       " '11251',\n",
       " '10004',\n",
       " '11411',\n",
       " '11201',\n",
       " '11205',\n",
       " '11208',\n",
       " '11207',\n",
       " '11413',\n",
       " '11217',\n",
       " '11238',\n",
       " '11231',\n",
       " '11422',\n",
       " '11420',\n",
       " '11417',\n",
       " '11215',\n",
       " '11414',\n",
       " '11232',\n",
       " '11430',\n",
       " '11203',\n",
       " '11239',\n",
       " '11236',\n",
       " '11220',\n",
       " '10301',\n",
       " '10310',\n",
       " '10303',\n",
       " '11234',\n",
       " '10302',\n",
       " '11693',\n",
       " '11209',\n",
       " '10304',\n",
       " '10314',\n",
       " '11228',\n",
       " '11096',\n",
       " '10305',\n",
       " '11229',\n",
       " '11214',\n",
       " '11691',\n",
       " '11223',\n",
       " '11692',\n",
       " '11235',\n",
       " '10306',\n",
       " '11694',\n",
       " '11224',\n",
       " '10308',\n",
       " '11697',\n",
       " '10312',\n",
       " '10309',\n",
       " '10307',\n",
       " '10280',\n",
       " '10048',\n",
       " '10279',\n",
       " '10165',\n",
       " '10168',\n",
       " '10055',\n",
       " '10105',\n",
       " '10118',\n",
       " '10176',\n",
       " '10162',\n",
       " '10019',\n",
       " '10111',\n",
       " '10170',\n",
       " '10112',\n",
       " '10122',\n",
       " '10107',\n",
       " '10103',\n",
       " '10153',\n",
       " '10174',\n",
       " '10166',\n",
       " '10169',\n",
       " '10167',\n",
       " '10177',\n",
       " '10172',\n",
       " '10171',\n",
       " '10154',\n",
       " '10152',\n",
       " '10270',\n",
       " '10104',\n",
       " '10271',\n",
       " '10110',\n",
       " '10175',\n",
       " '10151',\n",
       " '10173',\n",
       " '10178',\n",
       " '10119',\n",
       " '10121',\n",
       " '10115',\n",
       " '10123',\n",
       " '10106',\n",
       " '10158',\n",
       " '10041',\n",
       " '10120',\n",
       " '10278',\n",
       " '10155',\n",
       " '10022',\n",
       " '10043',\n",
       " '10081',\n",
       " '10096',\n",
       " '10097',\n",
       " '10196',\n",
       " '10275',\n",
       " '10265',\n",
       " '10045',\n",
       " '10047',\n",
       " '10080',\n",
       " '10203',\n",
       " '10259',\n",
       " '10260',\n",
       " '10285',\n",
       " '10286',\n",
       " '10065',\n",
       " '10075',\n",
       " '10069',\n",
       " '10281',\n",
       " '10282']"
      ]
     },
     "execution_count": 20,
     "metadata": {},
     "output_type": "execute_result"
    }
   ],
   "source": [
    "map(str, postalcodes)"
   ]
  },
  {
   "cell_type": "code",
   "execution_count": 21,
   "metadata": {
    "collapsed": false
   },
   "outputs": [
    {
     "data": {
      "text/plain": [
       "247"
      ]
     },
     "execution_count": 21,
     "metadata": {},
     "output_type": "execute_result"
    }
   ],
   "source": [
    "len(postalcodes)"
   ]
  },
  {
   "cell_type": "code",
   "execution_count": 22,
   "metadata": {
    "collapsed": false
   },
   "outputs": [
    {
     "data": {
      "text/plain": [
       "dtype('O')"
      ]
     },
     "execution_count": 22,
     "metadata": {},
     "output_type": "execute_result"
    }
   ],
   "source": [
    "postalcodes.dtype"
   ]
  },
  {
   "cell_type": "markdown",
   "metadata": {},
   "source": [
    "### Biz 2000"
   ]
  },
  {
   "cell_type": "code",
   "execution_count": 23,
   "metadata": {
    "collapsed": false
   },
   "outputs": [
    {
     "name": "stderr",
     "output_type": "stream",
     "text": [
      "/opt/rh/anaconda/root/envs/PUI2016_Python2/lib/python2.7/site-packages/ipykernel/__main__.py:13: SettingWithCopyWarning:\n",
      "\n",
      "\n",
      "A value is trying to be set on a copy of a slice from a DataFrame\n",
      "\n",
      "See the caveats in the documentation: http://pandas.pydata.org/pandas-docs/stable/indexing.html#indexing-view-versus-copy\n",
      "\n"
     ]
    }
   ],
   "source": [
    "# Load year 2000 into dataframe\n",
    "\n",
    "filename = 'zbp00totals.zip'\n",
    "zf = zipfile.ZipFile(os.getenv('PUIDATA') + '/' + filename)\n",
    "df = pd.read_csv(zf.open(filename.replace('.zip','.txt')))\n",
    "df.columns = [x.lower() for x in df.columns]\n",
    "df['zip'] = df['zip'].astype(str)\n",
    "df['year'] = 2000\n",
    "df['est2000'] = df['est']\n",
    "df  = df[df['zip'].isin(postalcodes)]\n",
    "biz2000 = df[['zip', 'est2000', 'year']]\n",
    "biz2000.reset_index(inplace=True)\n",
    "biz2000.drop('index', axis=1, inplace=True)\n"
   ]
  },
  {
   "cell_type": "code",
   "execution_count": 24,
   "metadata": {
    "collapsed": false
   },
   "outputs": [
    {
     "data": {
      "text/html": [
       "<div>\n",
       "<table border=\"1\" class=\"dataframe\">\n",
       "  <thead>\n",
       "    <tr style=\"text-align: right;\">\n",
       "      <th></th>\n",
       "      <th>zip</th>\n",
       "      <th>est2000</th>\n",
       "      <th>year</th>\n",
       "    </tr>\n",
       "  </thead>\n",
       "  <tbody>\n",
       "    <tr>\n",
       "      <th>0</th>\n",
       "      <td>10001</td>\n",
       "      <td>7317</td>\n",
       "      <td>2000</td>\n",
       "    </tr>\n",
       "    <tr>\n",
       "      <th>1</th>\n",
       "      <td>10002</td>\n",
       "      <td>2277</td>\n",
       "      <td>2000</td>\n",
       "    </tr>\n",
       "    <tr>\n",
       "      <th>2</th>\n",
       "      <td>10003</td>\n",
       "      <td>3683</td>\n",
       "      <td>2000</td>\n",
       "    </tr>\n",
       "    <tr>\n",
       "      <th>3</th>\n",
       "      <td>10004</td>\n",
       "      <td>1294</td>\n",
       "      <td>2000</td>\n",
       "    </tr>\n",
       "    <tr>\n",
       "      <th>4</th>\n",
       "      <td>10005</td>\n",
       "      <td>1287</td>\n",
       "      <td>2000</td>\n",
       "    </tr>\n",
       "  </tbody>\n",
       "</table>\n",
       "</div>"
      ],
      "text/plain": [
       "     zip  est2000  year\n",
       "0  10001     7317  2000\n",
       "1  10002     2277  2000\n",
       "2  10003     3683  2000\n",
       "3  10004     1294  2000\n",
       "4  10005     1287  2000"
      ]
     },
     "execution_count": 24,
     "metadata": {},
     "output_type": "execute_result"
    }
   ],
   "source": [
    "biz2000.head(5) "
   ]
  },
  {
   "cell_type": "code",
   "execution_count": 25,
   "metadata": {
    "collapsed": false
   },
   "outputs": [
    {
     "data": {
      "text/plain": [
       "239"
      ]
     },
     "execution_count": 25,
     "metadata": {},
     "output_type": "execute_result"
    }
   ],
   "source": [
    "len(biz2000)"
   ]
  },
  {
   "cell_type": "markdown",
   "metadata": {},
   "source": [
    "Check For Null"
   ]
  },
  {
   "cell_type": "code",
   "execution_count": 26,
   "metadata": {
    "collapsed": false
   },
   "outputs": [
    {
     "data": {
      "text/plain": [
       "zip        False\n",
       "est2000    False\n",
       "year       False\n",
       "dtype: bool"
      ]
     },
     "execution_count": 26,
     "metadata": {},
     "output_type": "execute_result"
    }
   ],
   "source": [
    " biz2000.isnull().any()"
   ]
  },
  {
   "cell_type": "markdown",
   "metadata": {},
   "source": [
    "Count Number of Businesses in 2000 "
   ]
  },
  {
   "cell_type": "code",
   "execution_count": 27,
   "metadata": {
    "collapsed": false
   },
   "outputs": [
    {
     "data": {
      "text/plain": [
       "zip       -9223372036854775808\n",
       "est2000                 204505\n",
       "year                    478000\n",
       "dtype: int64"
      ]
     },
     "execution_count": 27,
     "metadata": {},
     "output_type": "execute_result"
    }
   ],
   "source": [
    "np.sum(biz2000, axis=0).astype(int)"
   ]
  },
  {
   "cell_type": "markdown",
   "metadata": {},
   "source": [
    "# --> In 2000 there were 204505 buisnesses in NYC zip codes <--"
   ]
  },
  {
   "cell_type": "markdown",
   "metadata": {},
   "source": [
    "### Biz 2010"
   ]
  },
  {
   "cell_type": "code",
   "execution_count": null,
   "metadata": {
    "collapsed": true
   },
   "outputs": [],
   "source": []
  },
  {
   "cell_type": "code",
   "execution_count": 28,
   "metadata": {
    "collapsed": false
   },
   "outputs": [
    {
     "name": "stderr",
     "output_type": "stream",
     "text": [
      "/opt/rh/anaconda/root/envs/PUI2016_Python2/lib/python2.7/site-packages/ipykernel/__main__.py:13: SettingWithCopyWarning:\n",
      "\n",
      "\n",
      "A value is trying to be set on a copy of a slice from a DataFrame\n",
      "\n",
      "See the caveats in the documentation: http://pandas.pydata.org/pandas-docs/stable/indexing.html#indexing-view-versus-copy\n",
      "\n"
     ]
    }
   ],
   "source": [
    "# Load year 2010 into dataframe\n",
    "\n",
    "filename10 = 'zbp10totals.zip'\n",
    "zf10 = zipfile.ZipFile(os.getenv('PUIDATA') + '/' + filename10)\n",
    "df10 = pd.read_csv(zf10.open(filename10.replace('.zip','.txt')))\n",
    "df10.columns = [x.lower() for x in df10.columns]\n",
    "df10['zip'] = df10['zip'].astype(str)\n",
    "df10['year'] = 2010\n",
    "df10['est2010'] = df10['est']\n",
    "df10 = df10[df10['zip'].isin(postalcodes)]\n",
    "biz2010 = df10[['zip', 'est2010', 'year']]\n",
    "biz2010.reset_index(inplace=True)\n",
    "biz2010.drop('index', axis=1, inplace=True)"
   ]
  },
  {
   "cell_type": "code",
   "execution_count": 29,
   "metadata": {
    "collapsed": false
   },
   "outputs": [
    {
     "data": {
      "text/html": [
       "<div>\n",
       "<table border=\"1\" class=\"dataframe\">\n",
       "  <thead>\n",
       "    <tr style=\"text-align: right;\">\n",
       "      <th></th>\n",
       "      <th>zip</th>\n",
       "      <th>est2010</th>\n",
       "      <th>year</th>\n",
       "    </tr>\n",
       "  </thead>\n",
       "  <tbody>\n",
       "    <tr>\n",
       "      <th>0</th>\n",
       "      <td>10001</td>\n",
       "      <td>7241</td>\n",
       "      <td>2010</td>\n",
       "    </tr>\n",
       "    <tr>\n",
       "      <th>1</th>\n",
       "      <td>10002</td>\n",
       "      <td>2872</td>\n",
       "      <td>2010</td>\n",
       "    </tr>\n",
       "    <tr>\n",
       "      <th>2</th>\n",
       "      <td>10003</td>\n",
       "      <td>4113</td>\n",
       "      <td>2010</td>\n",
       "    </tr>\n",
       "    <tr>\n",
       "      <th>3</th>\n",
       "      <td>10004</td>\n",
       "      <td>1398</td>\n",
       "      <td>2010</td>\n",
       "    </tr>\n",
       "    <tr>\n",
       "      <th>4</th>\n",
       "      <td>10005</td>\n",
       "      <td>1266</td>\n",
       "      <td>2010</td>\n",
       "    </tr>\n",
       "  </tbody>\n",
       "</table>\n",
       "</div>"
      ],
      "text/plain": [
       "     zip  est2010  year\n",
       "0  10001     7241  2010\n",
       "1  10002     2872  2010\n",
       "2  10003     4113  2010\n",
       "3  10004     1398  2010\n",
       "4  10005     1266  2010"
      ]
     },
     "execution_count": 29,
     "metadata": {},
     "output_type": "execute_result"
    }
   ],
   "source": [
    "biz2010.head(5) "
   ]
  },
  {
   "cell_type": "code",
   "execution_count": 30,
   "metadata": {
    "collapsed": false
   },
   "outputs": [
    {
     "data": {
      "text/plain": [
       "241"
      ]
     },
     "execution_count": 30,
     "metadata": {},
     "output_type": "execute_result"
    }
   ],
   "source": [
    "len(biz2010)"
   ]
  },
  {
   "cell_type": "markdown",
   "metadata": {},
   "source": [
    "Check for Null"
   ]
  },
  {
   "cell_type": "code",
   "execution_count": 31,
   "metadata": {
    "collapsed": false
   },
   "outputs": [
    {
     "data": {
      "text/plain": [
       "zip        False\n",
       "est2010    False\n",
       "year       False\n",
       "dtype: bool"
      ]
     },
     "execution_count": 31,
     "metadata": {},
     "output_type": "execute_result"
    }
   ],
   "source": [
    " biz2010.isnull().any()"
   ]
  },
  {
   "cell_type": "markdown",
   "metadata": {},
   "source": [
    "Count Number of Businesses in 2010 "
   ]
  },
  {
   "cell_type": "code",
   "execution_count": 32,
   "metadata": {
    "collapsed": false
   },
   "outputs": [
    {
     "data": {
      "text/plain": [
       "zip                 inf\n",
       "est2010    2.215170e+05\n",
       "year       4.844100e+05\n",
       "dtype: float64"
      ]
     },
     "execution_count": 32,
     "metadata": {},
     "output_type": "execute_result"
    }
   ],
   "source": [
    "biz2010.sum(axis = 0)"
   ]
  },
  {
   "cell_type": "code",
   "execution_count": 33,
   "metadata": {
    "collapsed": true
   },
   "outputs": [
    {
     "data": {
      "text/plain": [
       "zip       -9223372036854775808\n",
       "est2010                 221517\n",
       "year                    484410\n",
       "dtype: int64"
      ]
     },
     "execution_count": 33,
     "metadata": {},
     "output_type": "execute_result"
    }
   ],
   "source": [
    "np.sum(biz2010, axis=0).astype(int)"
   ]
  },
  {
   "cell_type": "markdown",
   "metadata": {},
   "source": [
    " # -->In 2010 there were 221517 buisness establishments in NYC zipcodes<--"
   ]
  },
  {
   "cell_type": "markdown",
   "metadata": {},
   "source": [
    "### merge 2010 and 2000 biz data with zip code file. \n"
   ]
  },
  {
   "cell_type": "markdown",
   "metadata": {},
   "source": [
    "### Prepare the zipcode file. (using the zc_shapes df. Source =  GeoJson used in Assignemnt 11)"
   ]
  },
  {
   "cell_type": "markdown",
   "metadata": {},
   "source": [
    "Plan = Get the area per zipcode including duplicates (262 shapes) then groupby zipcode and add area to get the total\n",
    "area"
   ]
  },
  {
   "cell_type": "markdown",
   "metadata": {},
   "source": [
    "Area"
   ]
  },
  {
   "cell_type": "code",
   "execution_count": 34,
   "metadata": {
    "collapsed": false
   },
   "outputs": [],
   "source": [
    "# set coordinate projection \n",
    "zc_shape.crs = from_epsg(4326) # epsg=4326: lat/on | 26918: NAD83/UTM zone 18N |\n",
    "# set to miles\n",
    "zc_shp_area = zc_shape.to_crs(epsg=2263).geometry.area.sum()/(2.788*10**7) # from ft2 to mi2"
   ]
  },
  {
   "cell_type": "code",
   "execution_count": 35,
   "metadata": {
    "collapsed": false
   },
   "outputs": [
    {
     "name": "stdout",
     "output_type": "stream",
     "text": [
      "total NYC land area: 300.1 (mi^2)\n"
     ]
    }
   ],
   "source": [
    "#sanity check\n",
    "print 'total NYC land area: %s (mi^2)'%str(zc_shp_area)[:5] # from ft2 to mi2 #epsg=2263 is US feet"
   ]
  },
  {
   "cell_type": "code",
   "execution_count": 36,
   "metadata": {
    "collapsed": false
   },
   "outputs": [
    {
     "data": {
      "text/html": [
       "<div>\n",
       "<table border=\"1\" class=\"dataframe\">\n",
       "  <thead>\n",
       "    <tr style=\"text-align: right;\">\n",
       "      <th></th>\n",
       "      <th>@id</th>\n",
       "      <th>BLDGpostalCode</th>\n",
       "      <th>CTY_FIPS</th>\n",
       "      <th>OBJECTID</th>\n",
       "      <th>PO_NAME</th>\n",
       "      <th>STATE</th>\n",
       "      <th>ST_FIPS</th>\n",
       "      <th>Shape_Area</th>\n",
       "      <th>Shape_Leng</th>\n",
       "      <th>borough</th>\n",
       "      <th>geometry</th>\n",
       "      <th>postalCode</th>\n",
       "    </tr>\n",
       "  </thead>\n",
       "  <tbody>\n",
       "    <tr>\n",
       "      <th>0</th>\n",
       "      <td>http://nyc.pediacities.com/Resource/PostalCode...</td>\n",
       "      <td>0</td>\n",
       "      <td>081</td>\n",
       "      <td>1</td>\n",
       "      <td>Jackson Heights</td>\n",
       "      <td>NY</td>\n",
       "      <td>36</td>\n",
       "      <td>2.016328e+07</td>\n",
       "      <td>20624.692317</td>\n",
       "      <td>Queens</td>\n",
       "      <td>POLYGON ((-73.86942457284175 40.74915687096787...</td>\n",
       "      <td>11372</td>\n",
       "    </tr>\n",
       "    <tr>\n",
       "      <th>1</th>\n",
       "      <td>http://nyc.pediacities.com/Resource/PostalCode...</td>\n",
       "      <td>0</td>\n",
       "      <td>081</td>\n",
       "      <td>2</td>\n",
       "      <td>Glen Oaks</td>\n",
       "      <td>NY</td>\n",
       "      <td>36</td>\n",
       "      <td>2.260653e+07</td>\n",
       "      <td>23002.816039</td>\n",
       "      <td>Queens</td>\n",
       "      <td>POLYGON ((-73.71068374074007 40.75004039450917...</td>\n",
       "      <td>11004</td>\n",
       "    </tr>\n",
       "    <tr>\n",
       "      <th>2</th>\n",
       "      <td>http://nyc.pediacities.com/Resource/PostalCode...</td>\n",
       "      <td>0</td>\n",
       "      <td>081</td>\n",
       "      <td>3</td>\n",
       "      <td>New Hyde Park</td>\n",
       "      <td>NY</td>\n",
       "      <td>36</td>\n",
       "      <td>6.269333e+06</td>\n",
       "      <td>15749.161511</td>\n",
       "      <td>Queens</td>\n",
       "      <td>POLYGON ((-73.70098278625547 40.73889569923034...</td>\n",
       "      <td>11040</td>\n",
       "    </tr>\n",
       "    <tr>\n",
       "      <th>3</th>\n",
       "      <td>http://nyc.pediacities.com/Resource/PostalCode...</td>\n",
       "      <td>0</td>\n",
       "      <td>081</td>\n",
       "      <td>4</td>\n",
       "      <td>Bellerose</td>\n",
       "      <td>NY</td>\n",
       "      <td>36</td>\n",
       "      <td>4.941836e+07</td>\n",
       "      <td>35932.810639</td>\n",
       "      <td>Queens</td>\n",
       "      <td>POLYGON ((-73.72270447144122 40.75373371438336...</td>\n",
       "      <td>11426</td>\n",
       "    </tr>\n",
       "    <tr>\n",
       "      <th>4</th>\n",
       "      <td>http://nyc.pediacities.com/Resource/PostalCode...</td>\n",
       "      <td>0</td>\n",
       "      <td>081</td>\n",
       "      <td>5</td>\n",
       "      <td>Fresh Meadows</td>\n",
       "      <td>NY</td>\n",
       "      <td>36</td>\n",
       "      <td>6.938587e+07</td>\n",
       "      <td>38693.565676</td>\n",
       "      <td>Queens</td>\n",
       "      <td>POLYGON ((-73.81088634744755 40.72717187575918...</td>\n",
       "      <td>11365</td>\n",
       "    </tr>\n",
       "  </tbody>\n",
       "</table>\n",
       "</div>"
      ],
      "text/plain": [
       "                                                 @id  BLDGpostalCode CTY_FIPS  \\\n",
       "0  http://nyc.pediacities.com/Resource/PostalCode...               0      081   \n",
       "1  http://nyc.pediacities.com/Resource/PostalCode...               0      081   \n",
       "2  http://nyc.pediacities.com/Resource/PostalCode...               0      081   \n",
       "3  http://nyc.pediacities.com/Resource/PostalCode...               0      081   \n",
       "4  http://nyc.pediacities.com/Resource/PostalCode...               0      081   \n",
       "\n",
       "   OBJECTID          PO_NAME STATE ST_FIPS    Shape_Area    Shape_Leng  \\\n",
       "0         1  Jackson Heights    NY      36  2.016328e+07  20624.692317   \n",
       "1         2        Glen Oaks    NY      36  2.260653e+07  23002.816039   \n",
       "2         3    New Hyde Park    NY      36  6.269333e+06  15749.161511   \n",
       "3         4        Bellerose    NY      36  4.941836e+07  35932.810639   \n",
       "4         5    Fresh Meadows    NY      36  6.938587e+07  38693.565676   \n",
       "\n",
       "  borough                                           geometry postalCode  \n",
       "0  Queens  POLYGON ((-73.86942457284175 40.74915687096787...      11372  \n",
       "1  Queens  POLYGON ((-73.71068374074007 40.75004039450917...      11004  \n",
       "2  Queens  POLYGON ((-73.70098278625547 40.73889569923034...      11040  \n",
       "3  Queens  POLYGON ((-73.72270447144122 40.75373371438336...      11426  \n",
       "4  Queens  POLYGON ((-73.81088634744755 40.72717187575918...      11365  "
      ]
     },
     "execution_count": 36,
     "metadata": {},
     "output_type": "execute_result"
    }
   ],
   "source": [
    "zc_shape.head(5)"
   ]
  },
  {
   "cell_type": "code",
   "execution_count": 37,
   "metadata": {
    "collapsed": false
   },
   "outputs": [],
   "source": [
    "zc_shape['area'] = zc_shape['geometry'].to_crs(epsg=2263).area /(2.788*10**7) # from ft2 to mi2"
   ]
  },
  {
   "cell_type": "code",
   "execution_count": 61,
   "metadata": {
    "collapsed": false
   },
   "outputs": [
    {
     "data": {
      "text/plain": [
       "dtype('float64')"
      ]
     },
     "execution_count": 61,
     "metadata": {},
     "output_type": "execute_result"
    }
   ],
   "source": [
    "dtype(zc_shape['area'])"
   ]
  },
  {
   "cell_type": "code",
   "execution_count": 38,
   "metadata": {
    "collapsed": false
   },
   "outputs": [
    {
     "data": {
      "text/html": [
       "<div>\n",
       "<table border=\"1\" class=\"dataframe\">\n",
       "  <thead>\n",
       "    <tr style=\"text-align: right;\">\n",
       "      <th></th>\n",
       "      <th>@id</th>\n",
       "      <th>BLDGpostalCode</th>\n",
       "      <th>CTY_FIPS</th>\n",
       "      <th>OBJECTID</th>\n",
       "      <th>PO_NAME</th>\n",
       "      <th>STATE</th>\n",
       "      <th>ST_FIPS</th>\n",
       "      <th>Shape_Area</th>\n",
       "      <th>Shape_Leng</th>\n",
       "      <th>borough</th>\n",
       "      <th>geometry</th>\n",
       "      <th>postalCode</th>\n",
       "      <th>area</th>\n",
       "    </tr>\n",
       "  </thead>\n",
       "  <tbody>\n",
       "    <tr>\n",
       "      <th>0</th>\n",
       "      <td>http://nyc.pediacities.com/Resource/PostalCode...</td>\n",
       "      <td>0</td>\n",
       "      <td>081</td>\n",
       "      <td>1</td>\n",
       "      <td>Jackson Heights</td>\n",
       "      <td>NY</td>\n",
       "      <td>36</td>\n",
       "      <td>2.016328e+07</td>\n",
       "      <td>20624.692317</td>\n",
       "      <td>Queens</td>\n",
       "      <td>POLYGON ((-73.86942457284175 40.74915687096787...</td>\n",
       "      <td>11372</td>\n",
       "      <td>0.724037</td>\n",
       "    </tr>\n",
       "    <tr>\n",
       "      <th>1</th>\n",
       "      <td>http://nyc.pediacities.com/Resource/PostalCode...</td>\n",
       "      <td>0</td>\n",
       "      <td>081</td>\n",
       "      <td>2</td>\n",
       "      <td>Glen Oaks</td>\n",
       "      <td>NY</td>\n",
       "      <td>36</td>\n",
       "      <td>2.260653e+07</td>\n",
       "      <td>23002.816039</td>\n",
       "      <td>Queens</td>\n",
       "      <td>POLYGON ((-73.71068374074007 40.75004039450917...</td>\n",
       "      <td>11004</td>\n",
       "      <td>0.811527</td>\n",
       "    </tr>\n",
       "    <tr>\n",
       "      <th>2</th>\n",
       "      <td>http://nyc.pediacities.com/Resource/PostalCode...</td>\n",
       "      <td>0</td>\n",
       "      <td>081</td>\n",
       "      <td>3</td>\n",
       "      <td>New Hyde Park</td>\n",
       "      <td>NY</td>\n",
       "      <td>36</td>\n",
       "      <td>6.269333e+06</td>\n",
       "      <td>15749.161511</td>\n",
       "      <td>Queens</td>\n",
       "      <td>POLYGON ((-73.70098278625547 40.73889569923034...</td>\n",
       "      <td>11040</td>\n",
       "      <td>0.224615</td>\n",
       "    </tr>\n",
       "    <tr>\n",
       "      <th>3</th>\n",
       "      <td>http://nyc.pediacities.com/Resource/PostalCode...</td>\n",
       "      <td>0</td>\n",
       "      <td>081</td>\n",
       "      <td>4</td>\n",
       "      <td>Bellerose</td>\n",
       "      <td>NY</td>\n",
       "      <td>36</td>\n",
       "      <td>4.941836e+07</td>\n",
       "      <td>35932.810639</td>\n",
       "      <td>Queens</td>\n",
       "      <td>POLYGON ((-73.72270447144122 40.75373371438336...</td>\n",
       "      <td>11426</td>\n",
       "      <td>1.771526</td>\n",
       "    </tr>\n",
       "    <tr>\n",
       "      <th>4</th>\n",
       "      <td>http://nyc.pediacities.com/Resource/PostalCode...</td>\n",
       "      <td>0</td>\n",
       "      <td>081</td>\n",
       "      <td>5</td>\n",
       "      <td>Fresh Meadows</td>\n",
       "      <td>NY</td>\n",
       "      <td>36</td>\n",
       "      <td>6.938587e+07</td>\n",
       "      <td>38693.565676</td>\n",
       "      <td>Queens</td>\n",
       "      <td>POLYGON ((-73.81088634744755 40.72717187575918...</td>\n",
       "      <td>11365</td>\n",
       "      <td>2.490261</td>\n",
       "    </tr>\n",
       "  </tbody>\n",
       "</table>\n",
       "</div>"
      ],
      "text/plain": [
       "                                                 @id  BLDGpostalCode CTY_FIPS  \\\n",
       "0  http://nyc.pediacities.com/Resource/PostalCode...               0      081   \n",
       "1  http://nyc.pediacities.com/Resource/PostalCode...               0      081   \n",
       "2  http://nyc.pediacities.com/Resource/PostalCode...               0      081   \n",
       "3  http://nyc.pediacities.com/Resource/PostalCode...               0      081   \n",
       "4  http://nyc.pediacities.com/Resource/PostalCode...               0      081   \n",
       "\n",
       "   OBJECTID          PO_NAME STATE ST_FIPS    Shape_Area    Shape_Leng  \\\n",
       "0         1  Jackson Heights    NY      36  2.016328e+07  20624.692317   \n",
       "1         2        Glen Oaks    NY      36  2.260653e+07  23002.816039   \n",
       "2         3    New Hyde Park    NY      36  6.269333e+06  15749.161511   \n",
       "3         4        Bellerose    NY      36  4.941836e+07  35932.810639   \n",
       "4         5    Fresh Meadows    NY      36  6.938587e+07  38693.565676   \n",
       "\n",
       "  borough                                           geometry postalCode  \\\n",
       "0  Queens  POLYGON ((-73.86942457284175 40.74915687096787...      11372   \n",
       "1  Queens  POLYGON ((-73.71068374074007 40.75004039450917...      11004   \n",
       "2  Queens  POLYGON ((-73.70098278625547 40.73889569923034...      11040   \n",
       "3  Queens  POLYGON ((-73.72270447144122 40.75373371438336...      11426   \n",
       "4  Queens  POLYGON ((-73.81088634744755 40.72717187575918...      11365   \n",
       "\n",
       "       area  \n",
       "0  0.724037  \n",
       "1  0.811527  \n",
       "2  0.224615  \n",
       "3  1.771526  \n",
       "4  2.490261  "
      ]
     },
     "execution_count": 38,
     "metadata": {},
     "output_type": "execute_result"
    }
   ],
   "source": [
    "zc_shape.head(5)"
   ]
  },
  {
   "cell_type": "code",
   "execution_count": 39,
   "metadata": {
    "collapsed": false
   },
   "outputs": [
    {
     "data": {
      "text/plain": [
       "BLDGpostalCode            57\n",
       "OBJECTID               34453\n",
       "Shape_Area        8367606492\n",
       "Shape_Leng           6570529\n",
       "area                     300\n",
       "dtype: int64"
      ]
     },
     "execution_count": 39,
     "metadata": {},
     "output_type": "execute_result"
    }
   ],
   "source": [
    "np.sum(zc_shape, axis=0).astype(int)"
   ]
  },
  {
   "cell_type": "markdown",
   "metadata": {},
   "source": [
    "Set new dataframe"
   ]
  },
  {
   "cell_type": "code",
   "execution_count": 40,
   "metadata": {
    "collapsed": false
   },
   "outputs": [
    {
     "data": {
      "text/plain": [
       "Index([           u'@id', u'BLDGpostalCode',       u'CTY_FIPS',\n",
       "             u'OBJECTID',        u'PO_NAME',          u'STATE',\n",
       "              u'ST_FIPS',     u'Shape_Area',     u'Shape_Leng',\n",
       "              u'borough',       u'geometry',     u'postalCode',\n",
       "                 u'area'],\n",
       "      dtype='object')"
      ]
     },
     "execution_count": 40,
     "metadata": {},
     "output_type": "execute_result"
    }
   ],
   "source": [
    "zc_shape.columns\n",
    "\n"
   ]
  },
  {
   "cell_type": "code",
   "execution_count": 41,
   "metadata": {
    "collapsed": true
   },
   "outputs": [],
   "source": [
    "zc_shp_area = zc_shape"
   ]
  },
  {
   "cell_type": "code",
   "execution_count": 42,
   "metadata": {
    "collapsed": true
   },
   "outputs": [],
   "source": [
    "zc_shp_area = zc_shape.drop([u'@id', u'BLDGpostalCode', u'OBJECTID', u'STATE', u'Shape_Area', u'Shape_Leng'], axis = 1)"
   ]
  },
  {
   "cell_type": "code",
   "execution_count": 43,
   "metadata": {
    "collapsed": false
   },
   "outputs": [
    {
     "data": {
      "text/plain": [
       "Index([  u'CTY_FIPS',    u'PO_NAME',    u'ST_FIPS',    u'borough',\n",
       "         u'geometry', u'postalCode',       u'area'],\n",
       "      dtype='object')"
      ]
     },
     "execution_count": 43,
     "metadata": {},
     "output_type": "execute_result"
    }
   ],
   "source": [
    "zc_shp_area.columns"
   ]
  },
  {
   "cell_type": "markdown",
   "metadata": {},
   "source": [
    "Groupby zipcode and aggregate the area(mi^2)\n",
    "\n",
    "Good ref: \n"
   ]
  },
  {
   "cell_type": "code",
   "execution_count": 44,
   "metadata": {
    "collapsed": false
   },
   "outputs": [],
   "source": [
    "aggregations = {'CTY_FIPS' : 'first', 'PO_NAME': 'first','ST_FIPS': 'first','borough': 'first', 'geometry': 'first', 'area': sum}   \n",
    "    \n",
    "zc_group = zc_shp_area.groupby(['postalCode']).agg(aggregations)"
   ]
  },
  {
   "cell_type": "code",
   "execution_count": null,
   "metadata": {
    "collapsed": true
   },
   "outputs": [],
   "source": []
  },
  {
   "cell_type": "code",
   "execution_count": 45,
   "metadata": {
    "collapsed": false
   },
   "outputs": [
    {
     "data": {
      "text/plain": [
       "247"
      ]
     },
     "execution_count": 45,
     "metadata": {},
     "output_type": "execute_result"
    }
   ],
   "source": [
    "len(zc_group)"
   ]
  },
  {
   "cell_type": "code",
   "execution_count": 46,
   "metadata": {
    "collapsed": false
   },
   "outputs": [
    {
     "data": {
      "text/html": [
       "<div>\n",
       "<table border=\"1\" class=\"dataframe\">\n",
       "  <thead>\n",
       "    <tr style=\"text-align: right;\">\n",
       "      <th></th>\n",
       "      <th>area</th>\n",
       "      <th>geometry</th>\n",
       "      <th>PO_NAME</th>\n",
       "      <th>CTY_FIPS</th>\n",
       "      <th>borough</th>\n",
       "      <th>ST_FIPS</th>\n",
       "    </tr>\n",
       "    <tr>\n",
       "      <th>postalCode</th>\n",
       "      <th></th>\n",
       "      <th></th>\n",
       "      <th></th>\n",
       "      <th></th>\n",
       "      <th></th>\n",
       "      <th></th>\n",
       "    </tr>\n",
       "  </thead>\n",
       "  <tbody>\n",
       "    <tr>\n",
       "      <th>00083</th>\n",
       "      <td>1.371683</td>\n",
       "      <td>POLYGON ((-73.94922045816276 40.79690988348276...</td>\n",
       "      <td>Central Park</td>\n",
       "      <td>061</td>\n",
       "      <td>Manhattan</td>\n",
       "      <td>36</td>\n",
       "    </tr>\n",
       "    <tr>\n",
       "      <th>10001</th>\n",
       "      <td>0.639092</td>\n",
       "      <td>POLYGON ((-74.00827017711134 40.75258714368449...</td>\n",
       "      <td>New York</td>\n",
       "      <td>061</td>\n",
       "      <td>Manhattan</td>\n",
       "      <td>36</td>\n",
       "    </tr>\n",
       "    <tr>\n",
       "      <th>10002</th>\n",
       "      <td>0.943279</td>\n",
       "      <td>POLYGON ((-73.97441674489379 40.73642441865476...</td>\n",
       "      <td>New York</td>\n",
       "      <td>061</td>\n",
       "      <td>Manhattan</td>\n",
       "      <td>36</td>\n",
       "    </tr>\n",
       "    <tr>\n",
       "      <th>10003</th>\n",
       "      <td>0.559127</td>\n",
       "      <td>POLYGON ((-73.97986374196766 40.73497446573838...</td>\n",
       "      <td>New York</td>\n",
       "      <td>061</td>\n",
       "      <td>Manhattan</td>\n",
       "      <td>36</td>\n",
       "    </tr>\n",
       "    <tr>\n",
       "      <th>10004</th>\n",
       "      <td>0.481879</td>\n",
       "      <td>POLYGON ((-74.00596661578348 40.7043243225291,...</td>\n",
       "      <td>New York</td>\n",
       "      <td>061</td>\n",
       "      <td>Manhattan</td>\n",
       "      <td>36</td>\n",
       "    </tr>\n",
       "  </tbody>\n",
       "</table>\n",
       "</div>"
      ],
      "text/plain": [
       "                area                                           geometry  \\\n",
       "postalCode                                                                \n",
       "00083       1.371683  POLYGON ((-73.94922045816276 40.79690988348276...   \n",
       "10001       0.639092  POLYGON ((-74.00827017711134 40.75258714368449...   \n",
       "10002       0.943279  POLYGON ((-73.97441674489379 40.73642441865476...   \n",
       "10003       0.559127  POLYGON ((-73.97986374196766 40.73497446573838...   \n",
       "10004       0.481879  POLYGON ((-74.00596661578348 40.7043243225291,...   \n",
       "\n",
       "                 PO_NAME CTY_FIPS    borough ST_FIPS  \n",
       "postalCode                                            \n",
       "00083       Central Park      061  Manhattan      36  \n",
       "10001           New York      061  Manhattan      36  \n",
       "10002           New York      061  Manhattan      36  \n",
       "10003           New York      061  Manhattan      36  \n",
       "10004           New York      061  Manhattan      36  "
      ]
     },
     "execution_count": 46,
     "metadata": {},
     "output_type": "execute_result"
    }
   ],
   "source": [
    "zc_group.head(5)"
   ]
  },
  {
   "cell_type": "code",
   "execution_count": 47,
   "metadata": {
    "collapsed": true
   },
   "outputs": [],
   "source": [
    "zc_group.reset_index(inplace=True)"
   ]
  },
  {
   "cell_type": "code",
   "execution_count": 48,
   "metadata": {
    "collapsed": false
   },
   "outputs": [
    {
     "data": {
      "text/plain": [
       "247"
      ]
     },
     "execution_count": 48,
     "metadata": {},
     "output_type": "execute_result"
    }
   ],
   "source": [
    "len(zc_group.postalCode.unique())"
   ]
  },
  {
   "cell_type": "code",
   "execution_count": 49,
   "metadata": {
    "collapsed": false
   },
   "outputs": [
    {
     "data": {
      "text/html": [
       "<div>\n",
       "<table border=\"1\" class=\"dataframe\">\n",
       "  <thead>\n",
       "    <tr style=\"text-align: right;\">\n",
       "      <th></th>\n",
       "      <th>postalCode</th>\n",
       "      <th>area</th>\n",
       "      <th>geometry</th>\n",
       "      <th>PO_NAME</th>\n",
       "      <th>CTY_FIPS</th>\n",
       "      <th>borough</th>\n",
       "      <th>ST_FIPS</th>\n",
       "    </tr>\n",
       "  </thead>\n",
       "  <tbody>\n",
       "    <tr>\n",
       "      <th>0</th>\n",
       "      <td>00083</td>\n",
       "      <td>1.371683</td>\n",
       "      <td>POLYGON ((-73.94922045816276 40.79690988348276...</td>\n",
       "      <td>Central Park</td>\n",
       "      <td>061</td>\n",
       "      <td>Manhattan</td>\n",
       "      <td>36</td>\n",
       "    </tr>\n",
       "    <tr>\n",
       "      <th>1</th>\n",
       "      <td>10001</td>\n",
       "      <td>0.639092</td>\n",
       "      <td>POLYGON ((-74.00827017711134 40.75258714368449...</td>\n",
       "      <td>New York</td>\n",
       "      <td>061</td>\n",
       "      <td>Manhattan</td>\n",
       "      <td>36</td>\n",
       "    </tr>\n",
       "    <tr>\n",
       "      <th>2</th>\n",
       "      <td>10002</td>\n",
       "      <td>0.943279</td>\n",
       "      <td>POLYGON ((-73.97441674489379 40.73642441865476...</td>\n",
       "      <td>New York</td>\n",
       "      <td>061</td>\n",
       "      <td>Manhattan</td>\n",
       "      <td>36</td>\n",
       "    </tr>\n",
       "    <tr>\n",
       "      <th>3</th>\n",
       "      <td>10003</td>\n",
       "      <td>0.559127</td>\n",
       "      <td>POLYGON ((-73.97986374196766 40.73497446573838...</td>\n",
       "      <td>New York</td>\n",
       "      <td>061</td>\n",
       "      <td>Manhattan</td>\n",
       "      <td>36</td>\n",
       "    </tr>\n",
       "    <tr>\n",
       "      <th>4</th>\n",
       "      <td>10004</td>\n",
       "      <td>0.481879</td>\n",
       "      <td>POLYGON ((-74.00596661578348 40.7043243225291,...</td>\n",
       "      <td>New York</td>\n",
       "      <td>061</td>\n",
       "      <td>Manhattan</td>\n",
       "      <td>36</td>\n",
       "    </tr>\n",
       "  </tbody>\n",
       "</table>\n",
       "</div>"
      ],
      "text/plain": [
       "  postalCode      area                                           geometry  \\\n",
       "0      00083  1.371683  POLYGON ((-73.94922045816276 40.79690988348276...   \n",
       "1      10001  0.639092  POLYGON ((-74.00827017711134 40.75258714368449...   \n",
       "2      10002  0.943279  POLYGON ((-73.97441674489379 40.73642441865476...   \n",
       "3      10003  0.559127  POLYGON ((-73.97986374196766 40.73497446573838...   \n",
       "4      10004  0.481879  POLYGON ((-74.00596661578348 40.7043243225291,...   \n",
       "\n",
       "        PO_NAME CTY_FIPS    borough ST_FIPS  \n",
       "0  Central Park      061  Manhattan      36  \n",
       "1      New York      061  Manhattan      36  \n",
       "2      New York      061  Manhattan      36  \n",
       "3      New York      061  Manhattan      36  \n",
       "4      New York      061  Manhattan      36  "
      ]
     },
     "execution_count": 49,
     "metadata": {},
     "output_type": "execute_result"
    }
   ],
   "source": [
    "zc_group.head(5)"
   ]
  },
  {
   "cell_type": "code",
   "execution_count": 50,
   "metadata": {
    "collapsed": true
   },
   "outputs": [],
   "source": [
    "zc_group['zip'] = zc_group['postalCode'].astype(str)"
   ]
  },
  {
   "cell_type": "code",
   "execution_count": 51,
   "metadata": {
    "collapsed": false
   },
   "outputs": [
    {
     "data": {
      "text/html": [
       "<div>\n",
       "<table border=\"1\" class=\"dataframe\">\n",
       "  <thead>\n",
       "    <tr style=\"text-align: right;\">\n",
       "      <th></th>\n",
       "      <th>postalCode</th>\n",
       "      <th>area</th>\n",
       "      <th>geometry</th>\n",
       "      <th>PO_NAME</th>\n",
       "      <th>CTY_FIPS</th>\n",
       "      <th>borough</th>\n",
       "      <th>ST_FIPS</th>\n",
       "      <th>zip</th>\n",
       "    </tr>\n",
       "  </thead>\n",
       "  <tbody>\n",
       "    <tr>\n",
       "      <th>0</th>\n",
       "      <td>00083</td>\n",
       "      <td>1.371683</td>\n",
       "      <td>POLYGON ((-73.94922045816276 40.79690988348276...</td>\n",
       "      <td>Central Park</td>\n",
       "      <td>061</td>\n",
       "      <td>Manhattan</td>\n",
       "      <td>36</td>\n",
       "      <td>00083</td>\n",
       "    </tr>\n",
       "    <tr>\n",
       "      <th>1</th>\n",
       "      <td>10001</td>\n",
       "      <td>0.639092</td>\n",
       "      <td>POLYGON ((-74.00827017711134 40.75258714368449...</td>\n",
       "      <td>New York</td>\n",
       "      <td>061</td>\n",
       "      <td>Manhattan</td>\n",
       "      <td>36</td>\n",
       "      <td>10001</td>\n",
       "    </tr>\n",
       "    <tr>\n",
       "      <th>2</th>\n",
       "      <td>10002</td>\n",
       "      <td>0.943279</td>\n",
       "      <td>POLYGON ((-73.97441674489379 40.73642441865476...</td>\n",
       "      <td>New York</td>\n",
       "      <td>061</td>\n",
       "      <td>Manhattan</td>\n",
       "      <td>36</td>\n",
       "      <td>10002</td>\n",
       "    </tr>\n",
       "    <tr>\n",
       "      <th>3</th>\n",
       "      <td>10003</td>\n",
       "      <td>0.559127</td>\n",
       "      <td>POLYGON ((-73.97986374196766 40.73497446573838...</td>\n",
       "      <td>New York</td>\n",
       "      <td>061</td>\n",
       "      <td>Manhattan</td>\n",
       "      <td>36</td>\n",
       "      <td>10003</td>\n",
       "    </tr>\n",
       "    <tr>\n",
       "      <th>4</th>\n",
       "      <td>10004</td>\n",
       "      <td>0.481879</td>\n",
       "      <td>POLYGON ((-74.00596661578348 40.7043243225291,...</td>\n",
       "      <td>New York</td>\n",
       "      <td>061</td>\n",
       "      <td>Manhattan</td>\n",
       "      <td>36</td>\n",
       "      <td>10004</td>\n",
       "    </tr>\n",
       "  </tbody>\n",
       "</table>\n",
       "</div>"
      ],
      "text/plain": [
       "  postalCode      area                                           geometry  \\\n",
       "0      00083  1.371683  POLYGON ((-73.94922045816276 40.79690988348276...   \n",
       "1      10001  0.639092  POLYGON ((-74.00827017711134 40.75258714368449...   \n",
       "2      10002  0.943279  POLYGON ((-73.97441674489379 40.73642441865476...   \n",
       "3      10003  0.559127  POLYGON ((-73.97986374196766 40.73497446573838...   \n",
       "4      10004  0.481879  POLYGON ((-74.00596661578348 40.7043243225291,...   \n",
       "\n",
       "        PO_NAME CTY_FIPS    borough ST_FIPS    zip  \n",
       "0  Central Park      061  Manhattan      36  00083  \n",
       "1      New York      061  Manhattan      36  10001  \n",
       "2      New York      061  Manhattan      36  10002  \n",
       "3      New York      061  Manhattan      36  10003  \n",
       "4      New York      061  Manhattan      36  10004  "
      ]
     },
     "execution_count": 51,
     "metadata": {},
     "output_type": "execute_result"
    }
   ],
   "source": [
    "zc_group.head()"
   ]
  },
  {
   "cell_type": "code",
   "execution_count": 52,
   "metadata": {
    "collapsed": false
   },
   "outputs": [
    {
     "data": {
      "text/plain": [
       "Index([u'postalCode', u'area', u'geometry', u'PO_NAME', u'CTY_FIPS',\n",
       "       u'borough', u'ST_FIPS', u'zip'],\n",
       "      dtype='object')"
      ]
     },
     "execution_count": 52,
     "metadata": {},
     "output_type": "execute_result"
    }
   ],
   "source": [
    "zc_group.columns"
   ]
  },
  {
   "cell_type": "code",
   "execution_count": 53,
   "metadata": {
    "collapsed": false
   },
   "outputs": [],
   "source": [
    "zc_group = zc_group.drop([u'postalCode', u'ST_FIPS'], axis=1)"
   ]
  },
  {
   "cell_type": "code",
   "execution_count": 54,
   "metadata": {
    "collapsed": false
   },
   "outputs": [
    {
     "data": {
      "text/html": [
       "<div>\n",
       "<table border=\"1\" class=\"dataframe\">\n",
       "  <thead>\n",
       "    <tr style=\"text-align: right;\">\n",
       "      <th></th>\n",
       "      <th>area</th>\n",
       "      <th>geometry</th>\n",
       "      <th>PO_NAME</th>\n",
       "      <th>CTY_FIPS</th>\n",
       "      <th>borough</th>\n",
       "      <th>zip</th>\n",
       "    </tr>\n",
       "  </thead>\n",
       "  <tbody>\n",
       "    <tr>\n",
       "      <th>0</th>\n",
       "      <td>1.371683</td>\n",
       "      <td>POLYGON ((-73.94922045816276 40.79690988348276...</td>\n",
       "      <td>Central Park</td>\n",
       "      <td>061</td>\n",
       "      <td>Manhattan</td>\n",
       "      <td>00083</td>\n",
       "    </tr>\n",
       "    <tr>\n",
       "      <th>1</th>\n",
       "      <td>0.639092</td>\n",
       "      <td>POLYGON ((-74.00827017711134 40.75258714368449...</td>\n",
       "      <td>New York</td>\n",
       "      <td>061</td>\n",
       "      <td>Manhattan</td>\n",
       "      <td>10001</td>\n",
       "    </tr>\n",
       "    <tr>\n",
       "      <th>2</th>\n",
       "      <td>0.943279</td>\n",
       "      <td>POLYGON ((-73.97441674489379 40.73642441865476...</td>\n",
       "      <td>New York</td>\n",
       "      <td>061</td>\n",
       "      <td>Manhattan</td>\n",
       "      <td>10002</td>\n",
       "    </tr>\n",
       "    <tr>\n",
       "      <th>3</th>\n",
       "      <td>0.559127</td>\n",
       "      <td>POLYGON ((-73.97986374196766 40.73497446573838...</td>\n",
       "      <td>New York</td>\n",
       "      <td>061</td>\n",
       "      <td>Manhattan</td>\n",
       "      <td>10003</td>\n",
       "    </tr>\n",
       "    <tr>\n",
       "      <th>4</th>\n",
       "      <td>0.481879</td>\n",
       "      <td>POLYGON ((-74.00596661578348 40.7043243225291,...</td>\n",
       "      <td>New York</td>\n",
       "      <td>061</td>\n",
       "      <td>Manhattan</td>\n",
       "      <td>10004</td>\n",
       "    </tr>\n",
       "  </tbody>\n",
       "</table>\n",
       "</div>"
      ],
      "text/plain": [
       "       area                                           geometry       PO_NAME  \\\n",
       "0  1.371683  POLYGON ((-73.94922045816276 40.79690988348276...  Central Park   \n",
       "1  0.639092  POLYGON ((-74.00827017711134 40.75258714368449...      New York   \n",
       "2  0.943279  POLYGON ((-73.97441674489379 40.73642441865476...      New York   \n",
       "3  0.559127  POLYGON ((-73.97986374196766 40.73497446573838...      New York   \n",
       "4  0.481879  POLYGON ((-74.00596661578348 40.7043243225291,...      New York   \n",
       "\n",
       "  CTY_FIPS    borough    zip  \n",
       "0      061  Manhattan  00083  \n",
       "1      061  Manhattan  10001  \n",
       "2      061  Manhattan  10002  \n",
       "3      061  Manhattan  10003  \n",
       "4      061  Manhattan  10004  "
      ]
     },
     "execution_count": 54,
     "metadata": {},
     "output_type": "execute_result"
    }
   ],
   "source": [
    "zc_group.head(5)"
   ]
  },
  {
   "cell_type": "markdown",
   "metadata": {},
   "source": [
    "## Merge the Biz files onto our new Zip Code file"
   ]
  },
  {
   "cell_type": "code",
   "execution_count": 55,
   "metadata": {
    "collapsed": true
   },
   "outputs": [],
   "source": [
    "#zip_biz2000 = zc_group.join(biz2000[['est2000']])"
   ]
  },
  {
   "cell_type": "code",
   "execution_count": 56,
   "metadata": {
    "collapsed": true
   },
   "outputs": [],
   "source": [
    "zip_biz2000 = zc_group.join(biz2000[['est2000']])"
   ]
  },
  {
   "cell_type": "code",
   "execution_count": 57,
   "metadata": {
    "collapsed": false
   },
   "outputs": [
    {
     "data": {
      "text/html": [
       "<div>\n",
       "<table border=\"1\" class=\"dataframe\">\n",
       "  <thead>\n",
       "    <tr style=\"text-align: right;\">\n",
       "      <th></th>\n",
       "      <th>area</th>\n",
       "      <th>geometry</th>\n",
       "      <th>PO_NAME</th>\n",
       "      <th>CTY_FIPS</th>\n",
       "      <th>borough</th>\n",
       "      <th>zip</th>\n",
       "      <th>est2000</th>\n",
       "    </tr>\n",
       "  </thead>\n",
       "  <tbody>\n",
       "    <tr>\n",
       "      <th>0</th>\n",
       "      <td>1.371683</td>\n",
       "      <td>POLYGON ((-73.94922045816276 40.79690988348276...</td>\n",
       "      <td>Central Park</td>\n",
       "      <td>061</td>\n",
       "      <td>Manhattan</td>\n",
       "      <td>00083</td>\n",
       "      <td>7317.0</td>\n",
       "    </tr>\n",
       "    <tr>\n",
       "      <th>1</th>\n",
       "      <td>0.639092</td>\n",
       "      <td>POLYGON ((-74.00827017711134 40.75258714368449...</td>\n",
       "      <td>New York</td>\n",
       "      <td>061</td>\n",
       "      <td>Manhattan</td>\n",
       "      <td>10001</td>\n",
       "      <td>2277.0</td>\n",
       "    </tr>\n",
       "    <tr>\n",
       "      <th>2</th>\n",
       "      <td>0.943279</td>\n",
       "      <td>POLYGON ((-73.97441674489379 40.73642441865476...</td>\n",
       "      <td>New York</td>\n",
       "      <td>061</td>\n",
       "      <td>Manhattan</td>\n",
       "      <td>10002</td>\n",
       "      <td>3683.0</td>\n",
       "    </tr>\n",
       "  </tbody>\n",
       "</table>\n",
       "</div>"
      ],
      "text/plain": [
       "       area                                           geometry       PO_NAME  \\\n",
       "0  1.371683  POLYGON ((-73.94922045816276 40.79690988348276...  Central Park   \n",
       "1  0.639092  POLYGON ((-74.00827017711134 40.75258714368449...      New York   \n",
       "2  0.943279  POLYGON ((-73.97441674489379 40.73642441865476...      New York   \n",
       "\n",
       "  CTY_FIPS    borough    zip  est2000  \n",
       "0      061  Manhattan  00083   7317.0  \n",
       "1      061  Manhattan  10001   2277.0  \n",
       "2      061  Manhattan  10002   3683.0  "
      ]
     },
     "execution_count": 57,
     "metadata": {},
     "output_type": "execute_result"
    }
   ],
   "source": [
    "zip_biz2000.head(3) "
   ]
  },
  {
   "cell_type": "code",
   "execution_count": 62,
   "metadata": {
    "collapsed": false
   },
   "outputs": [
    {
     "data": {
      "text/plain": [
       "dtype('float64')"
      ]
     },
     "execution_count": 62,
     "metadata": {},
     "output_type": "execute_result"
    }
   ],
   "source": [
    "dtype(zip_biz2000['est2000'])"
   ]
  },
  {
   "cell_type": "code",
   "execution_count": 58,
   "metadata": {
    "collapsed": false
   },
   "outputs": [],
   "source": [
    "zip_biz2010 = zc_group.join(biz2010[['est2010']])"
   ]
  },
  {
   "cell_type": "code",
   "execution_count": 59,
   "metadata": {
    "collapsed": false
   },
   "outputs": [
    {
     "data": {
      "text/html": [
       "<div>\n",
       "<table border=\"1\" class=\"dataframe\">\n",
       "  <thead>\n",
       "    <tr style=\"text-align: right;\">\n",
       "      <th></th>\n",
       "      <th>area</th>\n",
       "      <th>geometry</th>\n",
       "      <th>PO_NAME</th>\n",
       "      <th>CTY_FIPS</th>\n",
       "      <th>borough</th>\n",
       "      <th>zip</th>\n",
       "      <th>est2010</th>\n",
       "    </tr>\n",
       "  </thead>\n",
       "  <tbody>\n",
       "    <tr>\n",
       "      <th>0</th>\n",
       "      <td>1.371683</td>\n",
       "      <td>POLYGON ((-73.94922045816276 40.79690988348276...</td>\n",
       "      <td>Central Park</td>\n",
       "      <td>061</td>\n",
       "      <td>Manhattan</td>\n",
       "      <td>00083</td>\n",
       "      <td>7241.0</td>\n",
       "    </tr>\n",
       "    <tr>\n",
       "      <th>1</th>\n",
       "      <td>0.639092</td>\n",
       "      <td>POLYGON ((-74.00827017711134 40.75258714368449...</td>\n",
       "      <td>New York</td>\n",
       "      <td>061</td>\n",
       "      <td>Manhattan</td>\n",
       "      <td>10001</td>\n",
       "      <td>2872.0</td>\n",
       "    </tr>\n",
       "    <tr>\n",
       "      <th>2</th>\n",
       "      <td>0.943279</td>\n",
       "      <td>POLYGON ((-73.97441674489379 40.73642441865476...</td>\n",
       "      <td>New York</td>\n",
       "      <td>061</td>\n",
       "      <td>Manhattan</td>\n",
       "      <td>10002</td>\n",
       "      <td>4113.0</td>\n",
       "    </tr>\n",
       "  </tbody>\n",
       "</table>\n",
       "</div>"
      ],
      "text/plain": [
       "       area                                           geometry       PO_NAME  \\\n",
       "0  1.371683  POLYGON ((-73.94922045816276 40.79690988348276...  Central Park   \n",
       "1  0.639092  POLYGON ((-74.00827017711134 40.75258714368449...      New York   \n",
       "2  0.943279  POLYGON ((-73.97441674489379 40.73642441865476...      New York   \n",
       "\n",
       "  CTY_FIPS    borough    zip  est2010  \n",
       "0      061  Manhattan  00083   7241.0  \n",
       "1      061  Manhattan  10001   2872.0  \n",
       "2      061  Manhattan  10002   4113.0  "
      ]
     },
     "execution_count": 59,
     "metadata": {},
     "output_type": "execute_result"
    }
   ],
   "source": [
    "zip_biz2010.head(3) "
   ]
  },
  {
   "cell_type": "code",
   "execution_count": null,
   "metadata": {
    "collapsed": true
   },
   "outputs": [],
   "source": []
  },
  {
   "cell_type": "code",
   "execution_count": null,
   "metadata": {
    "collapsed": true
   },
   "outputs": [],
   "source": []
  },
  {
   "cell_type": "code",
   "execution_count": 63,
   "metadata": {
    "collapsed": false
   },
   "outputs": [],
   "source": [
    "zip_biz2000['densitybiz'] = (zip_biz2000['est2000'] / zip_biz2000['area'])"
   ]
  },
  {
   "cell_type": "code",
   "execution_count": 64,
   "metadata": {
    "collapsed": false
   },
   "outputs": [
    {
     "data": {
      "text/html": [
       "<div>\n",
       "<table border=\"1\" class=\"dataframe\">\n",
       "  <thead>\n",
       "    <tr style=\"text-align: right;\">\n",
       "      <th></th>\n",
       "      <th>area</th>\n",
       "      <th>geometry</th>\n",
       "      <th>PO_NAME</th>\n",
       "      <th>CTY_FIPS</th>\n",
       "      <th>borough</th>\n",
       "      <th>zip</th>\n",
       "      <th>est2000</th>\n",
       "      <th>densitybiz</th>\n",
       "    </tr>\n",
       "  </thead>\n",
       "  <tbody>\n",
       "    <tr>\n",
       "      <th>0</th>\n",
       "      <td>1.371683</td>\n",
       "      <td>POLYGON ((-73.94922045816276 40.79690988348276...</td>\n",
       "      <td>Central Park</td>\n",
       "      <td>061</td>\n",
       "      <td>Manhattan</td>\n",
       "      <td>00083</td>\n",
       "      <td>7317.0</td>\n",
       "      <td>5334.321950</td>\n",
       "    </tr>\n",
       "    <tr>\n",
       "      <th>1</th>\n",
       "      <td>0.639092</td>\n",
       "      <td>POLYGON ((-74.00827017711134 40.75258714368449...</td>\n",
       "      <td>New York</td>\n",
       "      <td>061</td>\n",
       "      <td>Manhattan</td>\n",
       "      <td>10001</td>\n",
       "      <td>2277.0</td>\n",
       "      <td>3562.868915</td>\n",
       "    </tr>\n",
       "    <tr>\n",
       "      <th>2</th>\n",
       "      <td>0.943279</td>\n",
       "      <td>POLYGON ((-73.97441674489379 40.73642441865476...</td>\n",
       "      <td>New York</td>\n",
       "      <td>061</td>\n",
       "      <td>Manhattan</td>\n",
       "      <td>10002</td>\n",
       "      <td>3683.0</td>\n",
       "      <td>3904.466742</td>\n",
       "    </tr>\n",
       "  </tbody>\n",
       "</table>\n",
       "</div>"
      ],
      "text/plain": [
       "       area                                           geometry       PO_NAME  \\\n",
       "0  1.371683  POLYGON ((-73.94922045816276 40.79690988348276...  Central Park   \n",
       "1  0.639092  POLYGON ((-74.00827017711134 40.75258714368449...      New York   \n",
       "2  0.943279  POLYGON ((-73.97441674489379 40.73642441865476...      New York   \n",
       "\n",
       "  CTY_FIPS    borough    zip  est2000   densitybiz  \n",
       "0      061  Manhattan  00083   7317.0  5334.321950  \n",
       "1      061  Manhattan  10001   2277.0  3562.868915  \n",
       "2      061  Manhattan  10002   3683.0  3904.466742  "
      ]
     },
     "execution_count": 64,
     "metadata": {},
     "output_type": "execute_result"
    }
   ],
   "source": [
    "zip_biz2000.head(3) "
   ]
  },
  {
   "cell_type": "code",
   "execution_count": 76,
   "metadata": {
    "collapsed": false
   },
   "outputs": [
    {
     "data": {
      "text/plain": [
       "dtype('float64')"
      ]
     },
     "execution_count": 76,
     "metadata": {},
     "output_type": "execute_result"
    }
   ],
   "source": [
    "dtype(zip_biz2000['densitybiz'])"
   ]
  },
  {
   "cell_type": "code",
   "execution_count": null,
   "metadata": {
    "collapsed": false
   },
   "outputs": [],
   "source": [
    "zip_biz2010['densitybiz'] = (zip_biz2010['est2010'] / zip_biz2010['area']).astype(int)"
   ]
  },
  {
   "cell_type": "code",
   "execution_count": null,
   "metadata": {
    "collapsed": false
   },
   "outputs": [],
   "source": [
    "zip_biz2010.head(3) "
   ]
  },
  {
   "cell_type": "code",
   "execution_count": null,
   "metadata": {
    "collapsed": true
   },
   "outputs": [],
   "source": []
  },
  {
   "cell_type": "code",
   "execution_count": null,
   "metadata": {
    "collapsed": true
   },
   "outputs": [],
   "source": [
    "Make Sure it failrs here"
   ]
  },
  {
   "cell_type": "code",
   "execution_count": null,
   "metadata": {
    "collapsed": false
   },
   "outputs": [],
   "source": [
    "zip_biz2000.head(5)"
   ]
  },
  {
   "cell_type": "code",
   "execution_count": null,
   "metadata": {
    "collapsed": false
   },
   "outputs": [],
   "source": [
    "zip_biz2000.columns\n"
   ]
  },
  {
   "cell_type": "code",
   "execution_count": null,
   "metadata": {
    "collapsed": true
   },
   "outputs": [],
   "source": [
    "#Clean\n",
    "zip_biz2000 = zip_biz2000.drop([u'PO_NAME', u'year'], axis = 1)"
   ]
  },
  {
   "cell_type": "code",
   "execution_count": null,
   "metadata": {
    "collapsed": false
   },
   "outputs": [],
   "source": [
    "#create Density field\n",
    "zip_biz2000['densitybiz'] = (zip_biz2000['est2000'] / zip_biz2000['area'])"
   ]
  },
  {
   "cell_type": "code",
   "execution_count": null,
   "metadata": {
    "collapsed": false
   },
   "outputs": [],
   "source": [
    "zip_biz2000.head(5)"
   ]
  },
  {
   "cell_type": "code",
   "execution_count": 96,
   "metadata": {
    "collapsed": true
   },
   "outputs": [],
   "source": [
    "geo_zip_biz2000 = GeoDataFrame(zip_biz2000, geometry= zip_biz2000['geometry'])"
   ]
  },
  {
   "cell_type": "markdown",
   "metadata": {},
   "source": [
    "### Second biz 2010"
   ]
  },
  {
   "cell_type": "code",
   "execution_count": null,
   "metadata": {
    "collapsed": false
   },
   "outputs": [],
   "source": [
    "dtype(biz2010['zip'])"
   ]
  },
  {
   "cell_type": "code",
   "execution_count": null,
   "metadata": {
    "collapsed": true
   },
   "outputs": [],
   "source": [
    "zip_biz2010 = pd.merge(zc_group, biz2010, left_on='postalCode', right_on='zip', how='right',)"
   ]
  },
  {
   "cell_type": "code",
   "execution_count": null,
   "metadata": {
    "collapsed": false
   },
   "outputs": [],
   "source": [
    "zip_biz2010.head(5)"
   ]
  },
  {
   "cell_type": "code",
   "execution_count": null,
   "metadata": {
    "collapsed": true
   },
   "outputs": [],
   "source": [
    "#Clean\n",
    "zip_biz2010 = zip_biz2010.drop([u'PO_NAME', u'year'], axis = 1)"
   ]
  },
  {
   "cell_type": "code",
   "execution_count": 80,
   "metadata": {
    "collapsed": false
   },
   "outputs": [],
   "source": [
    "#create Density field\n",
    "zip_biz2010['densitybiz'] = (zip_biz2010['est2010'] / zip_biz2010['area'])"
   ]
  },
  {
   "cell_type": "code",
   "execution_count": 81,
   "metadata": {
    "collapsed": false
   },
   "outputs": [
    {
     "data": {
      "text/html": [
       "<div>\n",
       "<table border=\"1\" class=\"dataframe\">\n",
       "  <thead>\n",
       "    <tr style=\"text-align: right;\">\n",
       "      <th></th>\n",
       "      <th>area</th>\n",
       "      <th>geometry</th>\n",
       "      <th>PO_NAME</th>\n",
       "      <th>CTY_FIPS</th>\n",
       "      <th>borough</th>\n",
       "      <th>zip</th>\n",
       "      <th>est2010</th>\n",
       "      <th>densitybiz</th>\n",
       "    </tr>\n",
       "  </thead>\n",
       "  <tbody>\n",
       "    <tr>\n",
       "      <th>0</th>\n",
       "      <td>1.371683</td>\n",
       "      <td>POLYGON ((-73.94922045816276 40.79690988348276...</td>\n",
       "      <td>Central Park</td>\n",
       "      <td>061</td>\n",
       "      <td>Manhattan</td>\n",
       "      <td>00083</td>\n",
       "      <td>7241.0</td>\n",
       "      <td>5278.915572</td>\n",
       "    </tr>\n",
       "    <tr>\n",
       "      <th>1</th>\n",
       "      <td>0.639092</td>\n",
       "      <td>POLYGON ((-74.00827017711134 40.75258714368449...</td>\n",
       "      <td>New York</td>\n",
       "      <td>061</td>\n",
       "      <td>Manhattan</td>\n",
       "      <td>10001</td>\n",
       "      <td>2872.0</td>\n",
       "      <td>4493.877700</td>\n",
       "    </tr>\n",
       "    <tr>\n",
       "      <th>2</th>\n",
       "      <td>0.943279</td>\n",
       "      <td>POLYGON ((-73.97441674489379 40.73642441865476...</td>\n",
       "      <td>New York</td>\n",
       "      <td>061</td>\n",
       "      <td>Manhattan</td>\n",
       "      <td>10002</td>\n",
       "      <td>4113.0</td>\n",
       "      <td>4360.323571</td>\n",
       "    </tr>\n",
       "    <tr>\n",
       "      <th>3</th>\n",
       "      <td>0.559127</td>\n",
       "      <td>POLYGON ((-73.97986374196766 40.73497446573838...</td>\n",
       "      <td>New York</td>\n",
       "      <td>061</td>\n",
       "      <td>Manhattan</td>\n",
       "      <td>10003</td>\n",
       "      <td>1398.0</td>\n",
       "      <td>2500.327270</td>\n",
       "    </tr>\n",
       "    <tr>\n",
       "      <th>4</th>\n",
       "      <td>0.481879</td>\n",
       "      <td>POLYGON ((-74.00596661578348 40.7043243225291,...</td>\n",
       "      <td>New York</td>\n",
       "      <td>061</td>\n",
       "      <td>Manhattan</td>\n",
       "      <td>10004</td>\n",
       "      <td>1266.0</td>\n",
       "      <td>2627.218085</td>\n",
       "    </tr>\n",
       "  </tbody>\n",
       "</table>\n",
       "</div>"
      ],
      "text/plain": [
       "       area                                           geometry       PO_NAME  \\\n",
       "0  1.371683  POLYGON ((-73.94922045816276 40.79690988348276...  Central Park   \n",
       "1  0.639092  POLYGON ((-74.00827017711134 40.75258714368449...      New York   \n",
       "2  0.943279  POLYGON ((-73.97441674489379 40.73642441865476...      New York   \n",
       "3  0.559127  POLYGON ((-73.97986374196766 40.73497446573838...      New York   \n",
       "4  0.481879  POLYGON ((-74.00596661578348 40.7043243225291,...      New York   \n",
       "\n",
       "  CTY_FIPS    borough    zip  est2010   densitybiz  \n",
       "0      061  Manhattan  00083   7241.0  5278.915572  \n",
       "1      061  Manhattan  10001   2872.0  4493.877700  \n",
       "2      061  Manhattan  10002   4113.0  4360.323571  \n",
       "3      061  Manhattan  10003   1398.0  2500.327270  \n",
       "4      061  Manhattan  10004   1266.0  2627.218085  "
      ]
     },
     "execution_count": 81,
     "metadata": {},
     "output_type": "execute_result"
    }
   ],
   "source": [
    "zip_biz2010.head(5)"
   ]
  },
  {
   "cell_type": "markdown",
   "metadata": {},
   "source": [
    "Sanity Check zip_biz2010['area']) for 10005 =.07sqmi in our table\n",
    "\n",
    "http://www.unitedstateszipcodes.org/10005/ lists 10005 as \"Land Area 0.07 sq mi\""
   ]
  },
  {
   "cell_type": "code",
   "execution_count": 82,
   "metadata": {
    "collapsed": false
   },
   "outputs": [],
   "source": [
    "geo_zip_biz2010 = cmap = 'hot_r' zip_biz2010, geometry= zip_biz2010['geometry'])"
   ]
  },
  {
   "cell_type": "code",
   "execution_count": null,
   "metadata": {
    "collapsed": false
   },
   "outputs": [],
   "source": [
    "geo_zip_biz2010.head(5)"
   ]
  },
  {
   "cell_type": "code",
   "execution_count": 83,
   "metadata": {
    "collapsed": false
   },
   "outputs": [
    {
     "data": {
      "text/plain": [
       "dtype('float64')"
      ]
     },
     "execution_count": 83,
     "metadata": {},
     "output_type": "execute_result"
    }
   ],
   "source": [
    "dtype(geo_zip_biz2010['densitybiz'])"
   ]
  },
  {
   "cell_type": "code",
   "execution_count": 95,
   "metadata": {
    "collapsed": false
   },
   "outputs": [
    {
     "data": {
      "text/plain": [
       "dtype('float64')"
      ]
     },
     "execution_count": 95,
     "metadata": {},
     "output_type": "execute_result"
    }
   ],
   "source": [
    "dtype(geo_zip_biz2010['est2010'])"
   ]
  },
  {
   "cell_type": "code",
   "execution_count": 78,
   "metadata": {
    "collapsed": false
   },
   "outputs": [
    {
     "data": {
      "text/plain": [
       "247"
      ]
     },
     "execution_count": 78,
     "metadata": {},
     "output_type": "execute_result"
    }
   ],
   "source": [
    "len(geo_zip_biz2010)"
   ]
  },
  {
   "cell_type": "code",
   "execution_count": 97,
   "metadata": {
    "collapsed": true
   },
   "outputs": [
    {
     "data": {
      "text/html": [
       "<div>\n",
       "<table border=\"1\" class=\"dataframe\">\n",
       "  <thead>\n",
       "    <tr style=\"text-align: right;\">\n",
       "      <th></th>\n",
       "      <th>area</th>\n",
       "      <th>geometry</th>\n",
       "      <th>PO_NAME</th>\n",
       "      <th>CTY_FIPS</th>\n",
       "      <th>borough</th>\n",
       "      <th>zip</th>\n",
       "      <th>est2010</th>\n",
       "      <th>densitybiz</th>\n",
       "    </tr>\n",
       "  </thead>\n",
       "  <tbody>\n",
       "    <tr>\n",
       "      <th>0</th>\n",
       "      <td>1.371683</td>\n",
       "      <td>POLYGON ((-73.94922045816276 40.79690988348276...</td>\n",
       "      <td>Central Park</td>\n",
       "      <td>061</td>\n",
       "      <td>Manhattan</td>\n",
       "      <td>00083</td>\n",
       "      <td>7241.0</td>\n",
       "      <td>5278.915572</td>\n",
       "    </tr>\n",
       "    <tr>\n",
       "      <th>1</th>\n",
       "      <td>0.639092</td>\n",
       "      <td>POLYGON ((-74.00827017711134 40.75258714368449...</td>\n",
       "      <td>New York</td>\n",
       "      <td>061</td>\n",
       "      <td>Manhattan</td>\n",
       "      <td>10001</td>\n",
       "      <td>2872.0</td>\n",
       "      <td>4493.877700</td>\n",
       "    </tr>\n",
       "    <tr>\n",
       "      <th>2</th>\n",
       "      <td>0.943279</td>\n",
       "      <td>POLYGON ((-73.97441674489379 40.73642441865476...</td>\n",
       "      <td>New York</td>\n",
       "      <td>061</td>\n",
       "      <td>Manhattan</td>\n",
       "      <td>10002</td>\n",
       "      <td>4113.0</td>\n",
       "      <td>4360.323571</td>\n",
       "    </tr>\n",
       "    <tr>\n",
       "      <th>3</th>\n",
       "      <td>0.559127</td>\n",
       "      <td>POLYGON ((-73.97986374196766 40.73497446573838...</td>\n",
       "      <td>New York</td>\n",
       "      <td>061</td>\n",
       "      <td>Manhattan</td>\n",
       "      <td>10003</td>\n",
       "      <td>1398.0</td>\n",
       "      <td>2500.327270</td>\n",
       "    </tr>\n",
       "    <tr>\n",
       "      <th>4</th>\n",
       "      <td>0.481879</td>\n",
       "      <td>POLYGON ((-74.00596661578348 40.7043243225291,...</td>\n",
       "      <td>New York</td>\n",
       "      <td>061</td>\n",
       "      <td>Manhattan</td>\n",
       "      <td>10004</td>\n",
       "      <td>1266.0</td>\n",
       "      <td>2627.218085</td>\n",
       "    </tr>\n",
       "    <tr>\n",
       "      <th>5</th>\n",
       "      <td>0.074666</td>\n",
       "      <td>POLYGON ((-74.00596661578348 40.7043243225291,...</td>\n",
       "      <td>New York</td>\n",
       "      <td>061</td>\n",
       "      <td>Manhattan</td>\n",
       "      <td>10005</td>\n",
       "      <td>843.0</td>\n",
       "      <td>11290.252789</td>\n",
       "    </tr>\n",
       "    <tr>\n",
       "      <th>6</th>\n",
       "      <td>0.061695</td>\n",
       "      <td>POLYGON ((-74.01123100044997 40.71036688375349...</td>\n",
       "      <td>New York</td>\n",
       "      <td>061</td>\n",
       "      <td>Manhattan</td>\n",
       "      <td>10006</td>\n",
       "      <td>1330.0</td>\n",
       "      <td>21557.596424</td>\n",
       "    </tr>\n",
       "    <tr>\n",
       "      <th>7</th>\n",
       "      <td>0.191017</td>\n",
       "      <td>POLYGON ((-74.01361734313505 40.71630795875016...</td>\n",
       "      <td>New York</td>\n",
       "      <td>061</td>\n",
       "      <td>Manhattan</td>\n",
       "      <td>10007</td>\n",
       "      <td>1090.0</td>\n",
       "      <td>5706.294699</td>\n",
       "    </tr>\n",
       "    <tr>\n",
       "      <th>8</th>\n",
       "      <td>0.568005</td>\n",
       "      <td>POLYGON ((-73.97345725954919 40.73070787427551...</td>\n",
       "      <td>New York</td>\n",
       "      <td>061</td>\n",
       "      <td>Manhattan</td>\n",
       "      <td>10009</td>\n",
       "      <td>2981.0</td>\n",
       "      <td>5248.194038</td>\n",
       "    </tr>\n",
       "    <tr>\n",
       "      <th>9</th>\n",
       "      <td>0.350716</td>\n",
       "      <td>POLYGON ((-73.98774683765608 40.7440655536138,...</td>\n",
       "      <td>New York</td>\n",
       "      <td>061</td>\n",
       "      <td>Manhattan</td>\n",
       "      <td>10010</td>\n",
       "      <td>3852.0</td>\n",
       "      <td>10983.257773</td>\n",
       "    </tr>\n",
       "    <tr>\n",
       "      <th>10</th>\n",
       "      <td>0.649632</td>\n",
       "      <td>POLYGON ((-73.99231888616656 40.74356834094626...</td>\n",
       "      <td>New York</td>\n",
       "      <td>061</td>\n",
       "      <td>Manhattan</td>\n",
       "      <td>10011</td>\n",
       "      <td>2916.0</td>\n",
       "      <td>4488.694943</td>\n",
       "    </tr>\n",
       "    <tr>\n",
       "      <th>11</th>\n",
       "      <td>0.328480</td>\n",
       "      <td>POLYGON ((-73.99657214974589 40.72955224852642...</td>\n",
       "      <td>New York</td>\n",
       "      <td>061</td>\n",
       "      <td>Manhattan</td>\n",
       "      <td>10012</td>\n",
       "      <td>5098.0</td>\n",
       "      <td>15519.947691</td>\n",
       "    </tr>\n",
       "    <tr>\n",
       "      <th>12</th>\n",
       "      <td>0.558859</td>\n",
       "      <td>POLYGON ((-74.00373017537623 40.72625007171835...</td>\n",
       "      <td>New York</td>\n",
       "      <td>061</td>\n",
       "      <td>Manhattan</td>\n",
       "      <td>10013</td>\n",
       "      <td>2264.0</td>\n",
       "      <td>4051.113458</td>\n",
       "    </tr>\n",
       "    <tr>\n",
       "      <th>13</th>\n",
       "      <td>0.507868</td>\n",
       "      <td>POLYGON ((-74.00095441302535 40.73170612172334...</td>\n",
       "      <td>New York</td>\n",
       "      <td>061</td>\n",
       "      <td>Manhattan</td>\n",
       "      <td>10014</td>\n",
       "      <td>5769.0</td>\n",
       "      <td>11359.244129</td>\n",
       "    </tr>\n",
       "    <tr>\n",
       "      <th>14</th>\n",
       "      <td>0.539363</td>\n",
       "      <td>POLYGON ((-73.98182243630839 40.75219714903956...</td>\n",
       "      <td>New York</td>\n",
       "      <td>061</td>\n",
       "      <td>Manhattan</td>\n",
       "      <td>10016</td>\n",
       "      <td>5133.0</td>\n",
       "      <td>9516.782616</td>\n",
       "    </tr>\n",
       "    <tr>\n",
       "      <th>15</th>\n",
       "      <td>0.350578</td>\n",
       "      <td>POLYGON ((-73.97765482424467 40.75791144608969...</td>\n",
       "      <td>New York</td>\n",
       "      <td>061</td>\n",
       "      <td>Manhattan</td>\n",
       "      <td>10017</td>\n",
       "      <td>6421.0</td>\n",
       "      <td>18315.453005</td>\n",
       "    </tr>\n",
       "    <tr>\n",
       "      <th>16</th>\n",
       "      <td>0.385063</td>\n",
       "      <td>POLYGON ((-74.00170164222186 40.76138075542977...</td>\n",
       "      <td>New York</td>\n",
       "      <td>061</td>\n",
       "      <td>Manhattan</td>\n",
       "      <td>10018</td>\n",
       "      <td>4867.0</td>\n",
       "      <td>12639.500446</td>\n",
       "    </tr>\n",
       "    <tr>\n",
       "      <th>17</th>\n",
       "      <td>0.674907</td>\n",
       "      <td>POLYGON ((-73.99309797033558 40.77272857861628...</td>\n",
       "      <td>New York</td>\n",
       "      <td>061</td>\n",
       "      <td>Manhattan</td>\n",
       "      <td>10019</td>\n",
       "      <td>725.0</td>\n",
       "      <td>1074.222015</td>\n",
       "    </tr>\n",
       "    <tr>\n",
       "      <th>18</th>\n",
       "      <td>0.025017</td>\n",
       "      <td>POLYGON ((-73.97720025859628 40.75853795896472...</td>\n",
       "      <td>New York</td>\n",
       "      <td>061</td>\n",
       "      <td>Manhattan</td>\n",
       "      <td>10020</td>\n",
       "      <td>3879.0</td>\n",
       "      <td>155056.557181</td>\n",
       "    </tr>\n",
       "    <tr>\n",
       "      <th>19</th>\n",
       "      <td>0.375825</td>\n",
       "      <td>POLYGON ((-73.94908345691881 40.76828439957028...</td>\n",
       "      <td>New York</td>\n",
       "      <td>061</td>\n",
       "      <td>Manhattan</td>\n",
       "      <td>10021</td>\n",
       "      <td>6595.0</td>\n",
       "      <td>17548.052660</td>\n",
       "    </tr>\n",
       "    <tr>\n",
       "      <th>20</th>\n",
       "      <td>0.459023</td>\n",
       "      <td>POLYGON ((-73.97255352326927 40.76489775892639...</td>\n",
       "      <td>New York</td>\n",
       "      <td>061</td>\n",
       "      <td>Manhattan</td>\n",
       "      <td>10022</td>\n",
       "      <td>2240.0</td>\n",
       "      <td>4879.925198</td>\n",
       "    </tr>\n",
       "    <tr>\n",
       "      <th>21</th>\n",
       "      <td>0.545472</td>\n",
       "      <td>POLYGON ((-73.99306672475984 40.77433850654827...</td>\n",
       "      <td>New York</td>\n",
       "      <td>061</td>\n",
       "      <td>Manhattan</td>\n",
       "      <td>10023</td>\n",
       "      <td>2012.0</td>\n",
       "      <td>3688.548463</td>\n",
       "    </tr>\n",
       "    <tr>\n",
       "      <th>22</th>\n",
       "      <td>0.822542</td>\n",
       "      <td>POLYGON ((-73.96590008432324 40.80880536649463...</td>\n",
       "      <td>New York</td>\n",
       "      <td>061</td>\n",
       "      <td>Manhattan</td>\n",
       "      <td>10024</td>\n",
       "      <td>2043.0</td>\n",
       "      <td>2483.762422</td>\n",
       "    </tr>\n",
       "    <tr>\n",
       "      <th>23</th>\n",
       "      <td>0.704160</td>\n",
       "      <td>POLYGON ((-73.9593567476704 40.80612090623688,...</td>\n",
       "      <td>New York</td>\n",
       "      <td>061</td>\n",
       "      <td>Manhattan</td>\n",
       "      <td>10025</td>\n",
       "      <td>396.0</td>\n",
       "      <td>562.371946</td>\n",
       "    </tr>\n",
       "    <tr>\n",
       "      <th>24</th>\n",
       "      <td>0.397125</td>\n",
       "      <td>POLYGON ((-73.94459750483605 40.80322817350717...</td>\n",
       "      <td>New York</td>\n",
       "      <td>061</td>\n",
       "      <td>Manhattan</td>\n",
       "      <td>10026</td>\n",
       "      <td>954.0</td>\n",
       "      <td>2402.268926</td>\n",
       "    </tr>\n",
       "    <tr>\n",
       "      <th>25</th>\n",
       "      <td>0.885980</td>\n",
       "      <td>POLYGON ((-73.96568887491037 40.80902621308557...</td>\n",
       "      <td>New York</td>\n",
       "      <td>061</td>\n",
       "      <td>Manhattan</td>\n",
       "      <td>10027</td>\n",
       "      <td>1955.0</td>\n",
       "      <td>2206.597093</td>\n",
       "    </tr>\n",
       "    <tr>\n",
       "      <th>26</th>\n",
       "      <td>0.353114</td>\n",
       "      <td>POLYGON ((-73.95992093682813 40.78221296437616...</td>\n",
       "      <td>New York</td>\n",
       "      <td>061</td>\n",
       "      <td>Manhattan</td>\n",
       "      <td>10028</td>\n",
       "      <td>1016.0</td>\n",
       "      <td>2877.256386</td>\n",
       "    </tr>\n",
       "    <tr>\n",
       "      <th>27</th>\n",
       "      <td>0.825006</td>\n",
       "      <td>POLYGON ((-73.94646132906085 40.80066532888591...</td>\n",
       "      <td>New York</td>\n",
       "      <td>061</td>\n",
       "      <td>Manhattan</td>\n",
       "      <td>10029</td>\n",
       "      <td>237.0</td>\n",
       "      <td>287.270496</td>\n",
       "    </tr>\n",
       "    <tr>\n",
       "      <th>28</th>\n",
       "      <td>0.277778</td>\n",
       "      <td>POLYGON ((-73.93623227973836 40.82043594900477...</td>\n",
       "      <td>New York</td>\n",
       "      <td>061</td>\n",
       "      <td>Manhattan</td>\n",
       "      <td>10030</td>\n",
       "      <td>668.0</td>\n",
       "      <td>2404.794937</td>\n",
       "    </tr>\n",
       "    <tr>\n",
       "      <th>29</th>\n",
       "      <td>0.606631</td>\n",
       "      <td>POLYGON ((-73.94008773907041 40.83034967785467...</td>\n",
       "      <td>New York</td>\n",
       "      <td>061</td>\n",
       "      <td>Manhattan</td>\n",
       "      <td>10031</td>\n",
       "      <td>740.0</td>\n",
       "      <td>1219.851086</td>\n",
       "    </tr>\n",
       "    <tr>\n",
       "      <th>...</th>\n",
       "      <td>...</td>\n",
       "      <td>...</td>\n",
       "      <td>...</td>\n",
       "      <td>...</td>\n",
       "      <td>...</td>\n",
       "      <td>...</td>\n",
       "      <td>...</td>\n",
       "      <td>...</td>\n",
       "    </tr>\n",
       "    <tr>\n",
       "      <th>217</th>\n",
       "      <td>4.488000</td>\n",
       "      <td>POLYGON ((-73.92409190873964 40.7139631501864,...</td>\n",
       "      <td>Ridgewood</td>\n",
       "      <td>081</td>\n",
       "      <td>Queens</td>\n",
       "      <td>11385</td>\n",
       "      <td>393.0</td>\n",
       "      <td>87.566848</td>\n",
       "    </tr>\n",
       "    <tr>\n",
       "      <th>218</th>\n",
       "      <td>1.290754</td>\n",
       "      <td>POLYGON ((-73.72465774251077 40.70580534020244...</td>\n",
       "      <td>Cambria Heights</td>\n",
       "      <td>081</td>\n",
       "      <td>Queens</td>\n",
       "      <td>11411</td>\n",
       "      <td>391.0</td>\n",
       "      <td>302.923764</td>\n",
       "    </tr>\n",
       "    <tr>\n",
       "      <th>219</th>\n",
       "      <td>1.673015</td>\n",
       "      <td>POLYGON ((-73.75047056218064 40.70563994798906...</td>\n",
       "      <td>Saint Albans</td>\n",
       "      <td>081</td>\n",
       "      <td>Queens</td>\n",
       "      <td>11412</td>\n",
       "      <td>718.0</td>\n",
       "      <td>429.165317</td>\n",
       "    </tr>\n",
       "    <tr>\n",
       "      <th>220</th>\n",
       "      <td>3.069003</td>\n",
       "      <td>POLYGON ((-73.73364576400922 40.68554189298986...</td>\n",
       "      <td>Springfield Gardens</td>\n",
       "      <td>081</td>\n",
       "      <td>Queens</td>\n",
       "      <td>11413</td>\n",
       "      <td>682.0</td>\n",
       "      <td>222.222036</td>\n",
       "    </tr>\n",
       "    <tr>\n",
       "      <th>221</th>\n",
       "      <td>2.294532</td>\n",
       "      <td>POLYGON ((-73.83339263615299 40.66678433818184...</td>\n",
       "      <td>Howard Beach</td>\n",
       "      <td>081</td>\n",
       "      <td>Queens</td>\n",
       "      <td>11414</td>\n",
       "      <td>373.0</td>\n",
       "      <td>162.560368</td>\n",
       "    </tr>\n",
       "    <tr>\n",
       "      <th>222</th>\n",
       "      <td>0.603757</td>\n",
       "      <td>POLYGON ((-73.826059565848 40.71539860277048, ...</td>\n",
       "      <td>Kew Gardens</td>\n",
       "      <td>081</td>\n",
       "      <td>Queens</td>\n",
       "      <td>11415</td>\n",
       "      <td>443.0</td>\n",
       "      <td>733.738543</td>\n",
       "    </tr>\n",
       "    <tr>\n",
       "      <th>223</th>\n",
       "      <td>0.673736</td>\n",
       "      <td>POLYGON ((-73.84430243497147 40.68944301040629...</td>\n",
       "      <td>Ozone Park</td>\n",
       "      <td>081</td>\n",
       "      <td>Queens</td>\n",
       "      <td>11416</td>\n",
       "      <td>307.0</td>\n",
       "      <td>455.668175</td>\n",
       "    </tr>\n",
       "    <tr>\n",
       "      <th>224</th>\n",
       "      <td>1.116886</td>\n",
       "      <td>POLYGON ((-73.83426544717621 40.68532735819576...</td>\n",
       "      <td>Ozone Park</td>\n",
       "      <td>081</td>\n",
       "      <td>Queens</td>\n",
       "      <td>11417</td>\n",
       "      <td>359.0</td>\n",
       "      <td>321.429457</td>\n",
       "    </tr>\n",
       "    <tr>\n",
       "      <th>225</th>\n",
       "      <td>1.150539</td>\n",
       "      <td>POLYGON ((-73.83714702640651 40.70795706458588...</td>\n",
       "      <td>Richmond Hill</td>\n",
       "      <td>081</td>\n",
       "      <td>Queens</td>\n",
       "      <td>11418</td>\n",
       "      <td>248.0</td>\n",
       "      <td>215.551205</td>\n",
       "    </tr>\n",
       "    <tr>\n",
       "      <th>226</th>\n",
       "      <td>1.119867</td>\n",
       "      <td>POLYGON ((-73.83754416389462 40.69136416111784...</td>\n",
       "      <td>South Richmond Hill</td>\n",
       "      <td>081</td>\n",
       "      <td>Queens</td>\n",
       "      <td>11419</td>\n",
       "      <td>237.0</td>\n",
       "      <td>211.632231</td>\n",
       "    </tr>\n",
       "    <tr>\n",
       "      <th>227</th>\n",
       "      <td>2.213678</td>\n",
       "      <td>POLYGON ((-73.80795430196733 40.68707307560681...</td>\n",
       "      <td>South Ozone Park</td>\n",
       "      <td>081</td>\n",
       "      <td>Queens</td>\n",
       "      <td>11420</td>\n",
       "      <td>310.0</td>\n",
       "      <td>140.038427</td>\n",
       "    </tr>\n",
       "    <tr>\n",
       "      <th>228</th>\n",
       "      <td>0.869696</td>\n",
       "      <td>POLYGON ((-73.84919824072988 40.69826748778543...</td>\n",
       "      <td>Woodhaven</td>\n",
       "      <td>081</td>\n",
       "      <td>Queens</td>\n",
       "      <td>11421</td>\n",
       "      <td>222.0</td>\n",
       "      <td>255.261503</td>\n",
       "    </tr>\n",
       "    <tr>\n",
       "      <th>229</th>\n",
       "      <td>2.154556</td>\n",
       "      <td>POLYGON ((-73.72476446301077 40.68742999844375...</td>\n",
       "      <td>Rosedale</td>\n",
       "      <td>081</td>\n",
       "      <td>Queens</td>\n",
       "      <td>11422</td>\n",
       "      <td>342.0</td>\n",
       "      <td>158.733414</td>\n",
       "    </tr>\n",
       "    <tr>\n",
       "      <th>230</th>\n",
       "      <td>1.617364</td>\n",
       "      <td>POLYGON ((-73.77010678596534 40.73177920848852...</td>\n",
       "      <td>Hollis</td>\n",
       "      <td>081</td>\n",
       "      <td>Queens</td>\n",
       "      <td>11423</td>\n",
       "      <td>1220.0</td>\n",
       "      <td>754.313687</td>\n",
       "    </tr>\n",
       "    <tr>\n",
       "      <th>231</th>\n",
       "      <td>1.771526</td>\n",
       "      <td>POLYGON ((-73.72270447144122 40.75373371438336...</td>\n",
       "      <td>Bellerose</td>\n",
       "      <td>081</td>\n",
       "      <td>Queens</td>\n",
       "      <td>11426</td>\n",
       "      <td>298.0</td>\n",
       "      <td>168.216534</td>\n",
       "    </tr>\n",
       "    <tr>\n",
       "      <th>232</th>\n",
       "      <td>1.421029</td>\n",
       "      <td>POLYGON ((-73.74168681424477 40.73682340115314...</td>\n",
       "      <td>Queens Village</td>\n",
       "      <td>081</td>\n",
       "      <td>Queens</td>\n",
       "      <td>11427</td>\n",
       "      <td>939.0</td>\n",
       "      <td>660.788950</td>\n",
       "    </tr>\n",
       "    <tr>\n",
       "      <th>233</th>\n",
       "      <td>0.786524</td>\n",
       "      <td>POLYGON ((-73.72774739596115 40.72258480474807...</td>\n",
       "      <td>Queens Village</td>\n",
       "      <td>081</td>\n",
       "      <td>Queens</td>\n",
       "      <td>11428</td>\n",
       "      <td>823.0</td>\n",
       "      <td>1046.376364</td>\n",
       "    </tr>\n",
       "    <tr>\n",
       "      <th>234</th>\n",
       "      <td>1.419305</td>\n",
       "      <td>POLYGON ((-73.72847847282661 40.72076557418165...</td>\n",
       "      <td>Queens Village</td>\n",
       "      <td>081</td>\n",
       "      <td>Queens</td>\n",
       "      <td>11429</td>\n",
       "      <td>98.0</td>\n",
       "      <td>69.047861</td>\n",
       "    </tr>\n",
       "    <tr>\n",
       "      <th>235</th>\n",
       "      <td>7.169037</td>\n",
       "      <td>POLYGON ((-73.78940998274673 40.66684117788391...</td>\n",
       "      <td>Jamaica</td>\n",
       "      <td>081</td>\n",
       "      <td>Queens</td>\n",
       "      <td>11430</td>\n",
       "      <td>3.0</td>\n",
       "      <td>0.418466</td>\n",
       "    </tr>\n",
       "    <tr>\n",
       "      <th>236</th>\n",
       "      <td>2.160324</td>\n",
       "      <td>POLYGON ((-73.80904031652176 40.71991162363268...</td>\n",
       "      <td>Jamaica</td>\n",
       "      <td>081</td>\n",
       "      <td>Queens</td>\n",
       "      <td>11432</td>\n",
       "      <td>490.0</td>\n",
       "      <td>226.817789</td>\n",
       "    </tr>\n",
       "    <tr>\n",
       "      <th>237</th>\n",
       "      <td>1.727762</td>\n",
       "      <td>POLYGON ((-73.77968261813585 40.70859580977126...</td>\n",
       "      <td>Jamaica</td>\n",
       "      <td>081</td>\n",
       "      <td>Queens</td>\n",
       "      <td>11433</td>\n",
       "      <td>90.0</td>\n",
       "      <td>52.090515</td>\n",
       "    </tr>\n",
       "    <tr>\n",
       "      <th>238</th>\n",
       "      <td>3.133184</td>\n",
       "      <td>POLYGON ((-73.76989291145547 40.6963120712855,...</td>\n",
       "      <td>Jamaica</td>\n",
       "      <td>081</td>\n",
       "      <td>Queens</td>\n",
       "      <td>11434</td>\n",
       "      <td>132.0</td>\n",
       "      <td>42.129665</td>\n",
       "    </tr>\n",
       "    <tr>\n",
       "      <th>239</th>\n",
       "      <td>1.511020</td>\n",
       "      <td>POLYGON ((-73.826059565848 40.71539860277048, ...</td>\n",
       "      <td>Jamaica</td>\n",
       "      <td>081</td>\n",
       "      <td>Queens</td>\n",
       "      <td>11435</td>\n",
       "      <td>330.0</td>\n",
       "      <td>218.395497</td>\n",
       "    </tr>\n",
       "    <tr>\n",
       "      <th>240</th>\n",
       "      <td>0.814913</td>\n",
       "      <td>POLYGON ((-73.80584847668682 40.68290965963384...</td>\n",
       "      <td>Jamaica</td>\n",
       "      <td>081</td>\n",
       "      <td>Queens</td>\n",
       "      <td>11436</td>\n",
       "      <td>48.0</td>\n",
       "      <td>58.902002</td>\n",
       "    </tr>\n",
       "    <tr>\n",
       "      <th>241</th>\n",
       "      <td>0.017503</td>\n",
       "      <td>POLYGON ((-73.80157425020164 40.7012141075187,...</td>\n",
       "      <td>Jamaica</td>\n",
       "      <td>081</td>\n",
       "      <td>Queens</td>\n",
       "      <td>11451</td>\n",
       "      <td>NaN</td>\n",
       "      <td>NaN</td>\n",
       "    </tr>\n",
       "    <tr>\n",
       "      <th>242</th>\n",
       "      <td>3.010649</td>\n",
       "      <td>POLYGON ((-73.74690978489082 40.61172518196241...</td>\n",
       "      <td>Far Rockaway</td>\n",
       "      <td>081</td>\n",
       "      <td>Queens</td>\n",
       "      <td>11691</td>\n",
       "      <td>NaN</td>\n",
       "      <td>NaN</td>\n",
       "    </tr>\n",
       "    <tr>\n",
       "      <th>243</th>\n",
       "      <td>0.860097</td>\n",
       "      <td>POLYGON ((-73.79276725327387 40.59994748671274...</td>\n",
       "      <td>Arverne</td>\n",
       "      <td>081</td>\n",
       "      <td>Queens</td>\n",
       "      <td>11692</td>\n",
       "      <td>NaN</td>\n",
       "      <td>NaN</td>\n",
       "    </tr>\n",
       "    <tr>\n",
       "      <th>244</th>\n",
       "      <td>2.287491</td>\n",
       "      <td>POLYGON ((-73.83204616771469 40.63516221299073...</td>\n",
       "      <td>Far Rockaway</td>\n",
       "      <td>081</td>\n",
       "      <td>Queens</td>\n",
       "      <td>11693</td>\n",
       "      <td>NaN</td>\n",
       "      <td>NaN</td>\n",
       "    </tr>\n",
       "    <tr>\n",
       "      <th>245</th>\n",
       "      <td>1.725635</td>\n",
       "      <td>POLYGON ((-73.81934847557751 40.58786696840654...</td>\n",
       "      <td>Rockaway Park</td>\n",
       "      <td>081</td>\n",
       "      <td>Queens</td>\n",
       "      <td>11694</td>\n",
       "      <td>NaN</td>\n",
       "      <td>NaN</td>\n",
       "    </tr>\n",
       "    <tr>\n",
       "      <th>246</th>\n",
       "      <td>2.147040</td>\n",
       "      <td>POLYGON ((-73.88323081076138 40.56835882607028...</td>\n",
       "      <td>Breezy Point</td>\n",
       "      <td>081</td>\n",
       "      <td>Queens</td>\n",
       "      <td>11697</td>\n",
       "      <td>NaN</td>\n",
       "      <td>NaN</td>\n",
       "    </tr>\n",
       "  </tbody>\n",
       "</table>\n",
       "<p>247 rows × 8 columns</p>\n",
       "</div>"
      ],
      "text/plain": [
       "         area                                           geometry  \\\n",
       "0    1.371683  POLYGON ((-73.94922045816276 40.79690988348276...   \n",
       "1    0.639092  POLYGON ((-74.00827017711134 40.75258714368449...   \n",
       "2    0.943279  POLYGON ((-73.97441674489379 40.73642441865476...   \n",
       "3    0.559127  POLYGON ((-73.97986374196766 40.73497446573838...   \n",
       "4    0.481879  POLYGON ((-74.00596661578348 40.7043243225291,...   \n",
       "5    0.074666  POLYGON ((-74.00596661578348 40.7043243225291,...   \n",
       "6    0.061695  POLYGON ((-74.01123100044997 40.71036688375349...   \n",
       "7    0.191017  POLYGON ((-74.01361734313505 40.71630795875016...   \n",
       "8    0.568005  POLYGON ((-73.97345725954919 40.73070787427551...   \n",
       "9    0.350716  POLYGON ((-73.98774683765608 40.7440655536138,...   \n",
       "10   0.649632  POLYGON ((-73.99231888616656 40.74356834094626...   \n",
       "11   0.328480  POLYGON ((-73.99657214974589 40.72955224852642...   \n",
       "12   0.558859  POLYGON ((-74.00373017537623 40.72625007171835...   \n",
       "13   0.507868  POLYGON ((-74.00095441302535 40.73170612172334...   \n",
       "14   0.539363  POLYGON ((-73.98182243630839 40.75219714903956...   \n",
       "15   0.350578  POLYGON ((-73.97765482424467 40.75791144608969...   \n",
       "16   0.385063  POLYGON ((-74.00170164222186 40.76138075542977...   \n",
       "17   0.674907  POLYGON ((-73.99309797033558 40.77272857861628...   \n",
       "18   0.025017  POLYGON ((-73.97720025859628 40.75853795896472...   \n",
       "19   0.375825  POLYGON ((-73.94908345691881 40.76828439957028...   \n",
       "20   0.459023  POLYGON ((-73.97255352326927 40.76489775892639...   \n",
       "21   0.545472  POLYGON ((-73.99306672475984 40.77433850654827...   \n",
       "22   0.822542  POLYGON ((-73.96590008432324 40.80880536649463...   \n",
       "23   0.704160  POLYGON ((-73.9593567476704 40.80612090623688,...   \n",
       "24   0.397125  POLYGON ((-73.94459750483605 40.80322817350717...   \n",
       "25   0.885980  POLYGON ((-73.96568887491037 40.80902621308557...   \n",
       "26   0.353114  POLYGON ((-73.95992093682813 40.78221296437616...   \n",
       "27   0.825006  POLYGON ((-73.94646132906085 40.80066532888591...   \n",
       "28   0.277778  POLYGON ((-73.93623227973836 40.82043594900477...   \n",
       "29   0.606631  POLYGON ((-73.94008773907041 40.83034967785467...   \n",
       "..        ...                                                ...   \n",
       "217  4.488000  POLYGON ((-73.92409190873964 40.7139631501864,...   \n",
       "218  1.290754  POLYGON ((-73.72465774251077 40.70580534020244...   \n",
       "219  1.673015  POLYGON ((-73.75047056218064 40.70563994798906...   \n",
       "220  3.069003  POLYGON ((-73.73364576400922 40.68554189298986...   \n",
       "221  2.294532  POLYGON ((-73.83339263615299 40.66678433818184...   \n",
       "222  0.603757  POLYGON ((-73.826059565848 40.71539860277048, ...   \n",
       "223  0.673736  POLYGON ((-73.84430243497147 40.68944301040629...   \n",
       "224  1.116886  POLYGON ((-73.83426544717621 40.68532735819576...   \n",
       "225  1.150539  POLYGON ((-73.83714702640651 40.70795706458588...   \n",
       "226  1.119867  POLYGON ((-73.83754416389462 40.69136416111784...   \n",
       "227  2.213678  POLYGON ((-73.80795430196733 40.68707307560681...   \n",
       "228  0.869696  POLYGON ((-73.84919824072988 40.69826748778543...   \n",
       "229  2.154556  POLYGON ((-73.72476446301077 40.68742999844375...   \n",
       "230  1.617364  POLYGON ((-73.77010678596534 40.73177920848852...   \n",
       "231  1.771526  POLYGON ((-73.72270447144122 40.75373371438336...   \n",
       "232  1.421029  POLYGON ((-73.74168681424477 40.73682340115314...   \n",
       "233  0.786524  POLYGON ((-73.72774739596115 40.72258480474807...   \n",
       "234  1.419305  POLYGON ((-73.72847847282661 40.72076557418165...   \n",
       "235  7.169037  POLYGON ((-73.78940998274673 40.66684117788391...   \n",
       "236  2.160324  POLYGON ((-73.80904031652176 40.71991162363268...   \n",
       "237  1.727762  POLYGON ((-73.77968261813585 40.70859580977126...   \n",
       "238  3.133184  POLYGON ((-73.76989291145547 40.6963120712855,...   \n",
       "239  1.511020  POLYGON ((-73.826059565848 40.71539860277048, ...   \n",
       "240  0.814913  POLYGON ((-73.80584847668682 40.68290965963384...   \n",
       "241  0.017503  POLYGON ((-73.80157425020164 40.7012141075187,...   \n",
       "242  3.010649  POLYGON ((-73.74690978489082 40.61172518196241...   \n",
       "243  0.860097  POLYGON ((-73.79276725327387 40.59994748671274...   \n",
       "244  2.287491  POLYGON ((-73.83204616771469 40.63516221299073...   \n",
       "245  1.725635  POLYGON ((-73.81934847557751 40.58786696840654...   \n",
       "246  2.147040  POLYGON ((-73.88323081076138 40.56835882607028...   \n",
       "\n",
       "                 PO_NAME CTY_FIPS    borough    zip  est2010     densitybiz  \n",
       "0           Central Park      061  Manhattan  00083   7241.0    5278.915572  \n",
       "1               New York      061  Manhattan  10001   2872.0    4493.877700  \n",
       "2               New York      061  Manhattan  10002   4113.0    4360.323571  \n",
       "3               New York      061  Manhattan  10003   1398.0    2500.327270  \n",
       "4               New York      061  Manhattan  10004   1266.0    2627.218085  \n",
       "5               New York      061  Manhattan  10005    843.0   11290.252789  \n",
       "6               New York      061  Manhattan  10006   1330.0   21557.596424  \n",
       "7               New York      061  Manhattan  10007   1090.0    5706.294699  \n",
       "8               New York      061  Manhattan  10009   2981.0    5248.194038  \n",
       "9               New York      061  Manhattan  10010   3852.0   10983.257773  \n",
       "10              New York      061  Manhattan  10011   2916.0    4488.694943  \n",
       "11              New York      061  Manhattan  10012   5098.0   15519.947691  \n",
       "12              New York      061  Manhattan  10013   2264.0    4051.113458  \n",
       "13              New York      061  Manhattan  10014   5769.0   11359.244129  \n",
       "14              New York      061  Manhattan  10016   5133.0    9516.782616  \n",
       "15              New York      061  Manhattan  10017   6421.0   18315.453005  \n",
       "16              New York      061  Manhattan  10018   4867.0   12639.500446  \n",
       "17              New York      061  Manhattan  10019    725.0    1074.222015  \n",
       "18              New York      061  Manhattan  10020   3879.0  155056.557181  \n",
       "19              New York      061  Manhattan  10021   6595.0   17548.052660  \n",
       "20              New York      061  Manhattan  10022   2240.0    4879.925198  \n",
       "21              New York      061  Manhattan  10023   2012.0    3688.548463  \n",
       "22              New York      061  Manhattan  10024   2043.0    2483.762422  \n",
       "23              New York      061  Manhattan  10025    396.0     562.371946  \n",
       "24              New York      061  Manhattan  10026    954.0    2402.268926  \n",
       "25              New York      061  Manhattan  10027   1955.0    2206.597093  \n",
       "26              New York      061  Manhattan  10028   1016.0    2877.256386  \n",
       "27              New York      061  Manhattan  10029    237.0     287.270496  \n",
       "28              New York      061  Manhattan  10030    668.0    2404.794937  \n",
       "29              New York      061  Manhattan  10031    740.0    1219.851086  \n",
       "..                   ...      ...        ...    ...      ...            ...  \n",
       "217            Ridgewood      081     Queens  11385    393.0      87.566848  \n",
       "218      Cambria Heights      081     Queens  11411    391.0     302.923764  \n",
       "219         Saint Albans      081     Queens  11412    718.0     429.165317  \n",
       "220  Springfield Gardens      081     Queens  11413    682.0     222.222036  \n",
       "221         Howard Beach      081     Queens  11414    373.0     162.560368  \n",
       "222          Kew Gardens      081     Queens  11415    443.0     733.738543  \n",
       "223           Ozone Park      081     Queens  11416    307.0     455.668175  \n",
       "224           Ozone Park      081     Queens  11417    359.0     321.429457  \n",
       "225        Richmond Hill      081     Queens  11418    248.0     215.551205  \n",
       "226  South Richmond Hill      081     Queens  11419    237.0     211.632231  \n",
       "227     South Ozone Park      081     Queens  11420    310.0     140.038427  \n",
       "228            Woodhaven      081     Queens  11421    222.0     255.261503  \n",
       "229             Rosedale      081     Queens  11422    342.0     158.733414  \n",
       "230               Hollis      081     Queens  11423   1220.0     754.313687  \n",
       "231            Bellerose      081     Queens  11426    298.0     168.216534  \n",
       "232       Queens Village      081     Queens  11427    939.0     660.788950  \n",
       "233       Queens Village      081     Queens  11428    823.0    1046.376364  \n",
       "234       Queens Village      081     Queens  11429     98.0      69.047861  \n",
       "235              Jamaica      081     Queens  11430      3.0       0.418466  \n",
       "236              Jamaica      081     Queens  11432    490.0     226.817789  \n",
       "237              Jamaica      081     Queens  11433     90.0      52.090515  \n",
       "238              Jamaica      081     Queens  11434    132.0      42.129665  \n",
       "239              Jamaica      081     Queens  11435    330.0     218.395497  \n",
       "240              Jamaica      081     Queens  11436     48.0      58.902002  \n",
       "241              Jamaica      081     Queens  11451      NaN            NaN  \n",
       "242         Far Rockaway      081     Queens  11691      NaN            NaN  \n",
       "243              Arverne      081     Queens  11692      NaN            NaN  \n",
       "244         Far Rockaway      081     Queens  11693      NaN            NaN  \n",
       "245        Rockaway Park      081     Queens  11694      NaN            NaN  \n",
       "246         Breezy Point      081     Queens  11697      NaN            NaN  \n",
       "\n",
       "[247 rows x 8 columns]"
      ]
     },
     "execution_count": 97,
     "metadata": {},
     "output_type": "execute_result"
    }
   ],
   "source": [
    "geo_zip_biz2010\n"
   ]
  },
  {
   "cell_type": "code",
   "execution_count": null,
   "metadata": {
    "collapsed": true
   },
   "outputs": [],
   "source": []
  },
  {
   "cell_type": "code",
   "execution_count": 93,
   "metadata": {
    "collapsed": false
   },
   "outputs": [
    {
     "data": {
      "text/plain": [
       "<matplotlib.axes._subplots.AxesSubplot at 0x7fea1599ca10>"
      ]
     },
     "execution_count": 93,
     "metadata": {},
     "output_type": "execute_result"
    },
    {
     "data": {
      "image/png": "[encoded data removed]",
      "text/plain": [
       "<matplotlib.figure.Figure at 0x7fea15895dd0>"
      ]
     },
     "metadata": {},
     "output_type": "display_data"
    }
   ],
   "source": [
    "#tracts.plot(column='CRIME', scheme='QUANTILES', k=3, colormap='OrRd', legend=True)\n",
    "#world.plot(column='gdp_per_cap', cmap='OrRd', scheme='quantiles')\n",
    "geo_zip_biz2010.plot(column='densitybiz')"
   ]
  },
  {
   "cell_type": "code",
   "execution_count": 94,
   "metadata": {
    "collapsed": false
   },
   "outputs": [
    {
     "data": {
      "text/plain": [
       "<matplotlib.colorbar.Colorbar at 0x7fea13a1a110>"
      ]
     },
     "execution_count": 94,
     "metadata": {},
     "output_type": "execute_result"
    },
    {
     "data": {
      "image/png": "[encoded data removed]",
      "text/plain": [
       "<matplotlib.figure.Figure at 0x7fea14cbb950>"
      ]
     },
     "metadata": {},
     "output_type": "display_data"
    }
   ],
   "source": [
    "f, ax = plt.subplots(figsize=(10,10))\n",
    "ax.get_xaxis().set_visible(False)\n",
    "ax.get_yaxis().set_visible(False)\n",
    "geo_zip_biz2010.plot(column='est2010',cmap = 'hot_r' , alpha=1, linewidth=0.1,ax=ax)\n",
    "\n",
    "plt.title(\"Census Tract map of Brooklyn\")\n",
    "\n",
    "ax = geo_zip_biz2010.plot(column='est2010', colormap='hot_r',alpha = 1, ax=ax)\n",
    "vmin, vmax = min(geo_zip_biz2010['est2010'].values), \\\n",
    "            max(geo_zip_biz2010['est2010'].values)\n",
    "ax.axis('off')\n",
    "fig = ax.get_figure()\n",
    "cax = fig.add_axes([0.9, 0.1, 0.03, 0.8])\n",
    "sm = plt.cm.ScalarMappable(cmap='hot_r', norm=plt.Normalize(vmin=vmin, vmax=vmax))\n",
    "sm._A = []\n",
    "fig.colorbar(sm, cax=cax)"
   ]
  },
  {
   "cell_type": "code",
   "execution_count": null,
   "metadata": {
    "collapsed": false
   },
   "outputs": [],
   "source": [
    "\n",
    "#f, ax = plt.subplots(figsize=(10,10))\n",
    "#ax.get_xaxis().set_visible(False)\n",
    "#ax.get_yaxis().set_visible(False)\n",
    "#geo_zip_biz2010.plot(column='densitybiz', colormap='Greys',alpha=1,linewidth=0.1,ax=ax)\n",
    "#plt.title(\"Population Density\")"
   ]
  },
  {
   "cell_type": "code",
   "execution_count": null,
   "metadata": {
    "collapsed": true
   },
   "outputs": [],
   "source": []
  }
 ],
 "metadata": {
  "kernelspec": {
   "display_name": "PUI2016_Python2",
   "language": "python",
   "name": "pui2016_python2"
  },
  "language_info": {
   "codemirror_mode": {
    "name": "ipython",
    "version": 2
   },
   "file_extension": ".py",
   "mimetype": "text/x-python",
   "name": "python",
   "nbconvert_exporter": "python",
   "pygments_lexer": "ipython2",
   "version": "2.7.12"
  }
 },
 "nbformat": 4,
 "nbformat_minor": 0
}
