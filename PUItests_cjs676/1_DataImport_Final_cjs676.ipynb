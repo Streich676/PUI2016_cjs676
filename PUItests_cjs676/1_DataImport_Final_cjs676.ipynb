{
 "cells": [
  {
   "cell_type": "markdown",
   "metadata": {},
   "source": [
    "# Data Import Notebook \n",
    "\n",
    "### Author Christopher Streich, cjs6762nyu.edu, \n",
    "### PUI2016 Final, 12-17-2016"
   ]
  },
  {
   "cell_type": "markdown",
   "metadata": {},
   "source": [
    "## This notebook is designed to run on the PUI2016_Python2 Kernel. "
   ]
  },
  {
   "cell_type": "markdown",
   "metadata": {},
   "source": [
    "THis notebook will import the relevent datasets, unzip them, and store them in the 'PUIDATA' repository (unless noted otherwise). \n",
    "\n",
    "This notebook is designed to run on the PUI2016_Python2 Kernel. "
   ]
  },
  {
   "cell_type": "markdown",
   "metadata": {},
   "source": [
    "#Results should be the following files in the PUIdata repository </home/cusp/XXX/PUIdata\n",
    "\n",
    "nycb2010.shp = NYC Census Tract shapefile\n",
    "\n",
    "ZIP_CODE_040114.shp = NYC zipcode shapefile\n",
    "\n",
    "nybb.shp = Borough Map\n",
    "\n",
    "zbp00totals.txt = yr2000 Biz Data \n",
    "\n",
    "zbp00totals.txt = yr2010 Biz Data. "
   ]
  },
  {
   "cell_type": "markdown",
   "metadata": {},
   "source": [
    "### Import tools"
   ]
  },
  {
   "cell_type": "code",
   "execution_count": 1,
   "metadata": {
    "collapsed": true
   },
   "outputs": [],
   "source": [
    "import os\n",
    "import sys\n",
    "import subprocess\n",
    "\n",
    "import geopandas as gp\n",
    "import numpy as np\n",
    "import pandas as pd\n",
    "import matplotlib.pylab as plt\n",
    "from fiona.crs import from_epsg\n",
    "\n",
    "%matplotlib inline"
   ]
  },
  {
   "cell_type": "markdown",
   "metadata": {},
   "source": [
    "### Set up file storage"
   ]
  },
  {
   "cell_type": "code",
   "execution_count": 2,
   "metadata": {
    "collapsed": false
   },
   "outputs": [
    {
     "name": "stdout",
     "output_type": "stream",
     "text": [
      "PUIDATA is a good path\n"
     ]
    }
   ],
   "source": [
    "if 'PUIDATA' in os.environ:\n",
    "    print(\"PUIDATA is a good path\")\n",
    "else:\n",
    "    print(\"This notebook stores data in the compute environments using the environmental variable 'PUIDATA'\" + '\\n' + \n",
    "          (\"Please set your PUIDATA environmental variable to </home/cusp/YOURDIRECTORY/PUIdata>\"))"
   ]
  },
  {
   "cell_type": "markdown",
   "metadata": {},
   "source": [
    "## Pull Census tract Shape File. And move to PUIDATA"
   ]
  },
  {
   "cell_type": "code",
   "execution_count": 3,
   "metadata": {
    "collapsed": false
   },
   "outputs": [
    {
     "data": {
      "text/plain": [
       "0"
      ]
     },
     "execution_count": 3,
     "metadata": {},
     "output_type": "execute_result"
    }
   ],
   "source": [
    "#Download the file and move\n",
    "os.system(\"curl -O http://www1.nyc.gov/assets/planning/download/zip/data-maps/open-data/nycb2010_16c.zip\")\n",
    "os.system(\"mv \" + \"nycb2010_16c.zip \" + os.getenv(\"PUIDATA\"))"
   ]
  },
  {
   "cell_type": "markdown",
   "metadata": {},
   "source": [
    "unzip the file"
   ]
  },
  {
   "cell_type": "code",
   "execution_count": 4,
   "metadata": {
    "collapsed": false
   },
   "outputs": [
    {
     "data": {
      "text/plain": [
       "0"
      ]
     },
     "execution_count": 4,
     "metadata": {},
     "output_type": "execute_result"
    }
   ],
   "source": [
    "### unzip the csv \n",
    "os.system(\"unzip \" + os.getenv(\"PUIDATA\") + \"/\" + \"nycb2010_16c.zip\" + \" -d \" + os.getenv(\"PUIDATA\"))"
   ]
  },
  {
   "cell_type": "markdown",
   "metadata": {},
   "source": [
    "Check if it is where we want it. \n"
   ]
  },
  {
   "cell_type": "code",
   "execution_count": 5,
   "metadata": {
    "collapsed": false
   },
   "outputs": [
    {
     "name": "stdout",
     "output_type": "stream",
     "text": [
      "file in place, you can continue\n"
     ]
    }
   ],
   "source": [
    "if not os.path.isfile(os.getenv(\"PUIDATA\") + \"/\" + \"nycb2010_16c/nycb2010.shp\"):\n",
    "    print (\"WARNING!!! something is wrong: the file is not there!\")\n",
    "else:\n",
    "    print (\"file in place, you can continue\")"
   ]
  },
  {
   "cell_type": "markdown",
   "metadata": {},
   "source": [
    "# This Might  work!!!!"
   ]
  },
  {
   "cell_type": "markdown",
   "metadata": {},
   "source": [
    "## get the ZipCode Shape File"
   ]
  },
  {
   "cell_type": "code",
   "execution_count": 28,
   "metadata": {
    "collapsed": false
   },
   "outputs": [
    {
     "name": "stdout",
     "output_type": "stream",
     "text": [
      "--2016-12-17 18:02:23--  https://data.cityofnewyork.us/download/i8iw-xf4u/application%2Fzip\n",
      "Resolving data.cityofnewyork.us... 52.206.140.205\n",
      "Connecting to data.cityofnewyork.us|52.206.140.205|:443... connected.\n",
      "HTTP request sent, awaiting response... 302 Found\n",
      "Location: https://data.cityofnewyork.us/api/file_data/YObIR0MbpUVA0EpQzZSq5x55FzKGM2ejSeahdvjqR20?filename=ZIP_CODE_040114.zip [following]\n",
      "--2016-12-17 18:02:23--  https://data.cityofnewyork.us/api/file_data/YObIR0MbpUVA0EpQzZSq5x55FzKGM2ejSeahdvjqR20?filename=ZIP_CODE_040114.zip\n",
      "Connecting to data.cityofnewyork.us|52.206.140.205|:443... connected.\n",
      "HTTP request sent, awaiting response... 200 OK\n",
      "Length: 1514401 (1.4M) [application/octet-stream]\n",
      "Saving to: “application%2Fzip”\n",
      "\n",
      "100%[======================================>] 1,514,401   1.92M/s   in 0.8s    \n",
      "\n",
      "2016-12-17 18:02:24 (1.92 MB/s) - “application%2Fzip” saved [1514401/1514401]\n",
      "\n",
      "/bin/sh: -c: line 0: syntax error near unexpected token `('\n",
      "/bin/sh: -c: line 0: `mv application%2Fzip os.getenv(\"PUIDATA\")'\n",
      "Archive:  application%2Fzip\n",
      "  inflating: ZIP_CODE_040114.shx     \n",
      "  inflating: ZIP_CODE_040114.dbf     \n",
      "  inflating: ZIP_CODE_040114.prj     \n",
      "  inflating: ZIP_CODE_040114.sbn     \n",
      "  inflating: ZIP_CODE_040114.sbx     \n",
      "  inflating: ZIP_CODE_040114.shp     \n",
      "  inflating: ZIP_CODE_040114.shp.xml  \n"
     ]
    }
   ],
   "source": [
    "\n",
    "#just one of many whays in which you can get the zipcodes shapefile for NYC\n",
    "!wget https://data.cityofnewyork.us/download/i8iw-xf4u/application%2Fzip\n",
    "!mv application%2Fzip os.getenv(\"PUIDATA\")\n",
    "!unzip application%2Fzip\n",
    "\n",
    "#I think this is the right move command\n",
    "!mv application%2Fzip {os.getenv(\"PUIDATA\")}"
   ]
  },
  {
   "cell_type": "code",
   "execution_count": null,
   "metadata": {
    "collapsed": true
   },
   "outputs": [],
   "source": [
    "os.system(\"mv \" + \"ZIP*\" + os.getenv(\"PUIDATA\"))"
   ]
  },
  {
   "cell_type": "code",
   "execution_count": 22,
   "metadata": {
    "collapsed": false
   },
   "outputs": [
    {
     "data": {
      "text/plain": [
       "0"
      ]
     },
     "execution_count": 22,
     "metadata": {},
     "output_type": "execute_result"
    }
   ],
   "source": [
    "os.system(\"curl -O https://data.cityofnewyork.us/download/i8iw-xf4u/application%2Fzip\")\n",
    "os.system(\"mv \" + \"application%2Fzip \"  + os.getenv(\"PUIDATA\"))\n"
   ]
  },
  {
   "cell_type": "code",
   "execution_count": 23,
   "metadata": {
    "collapsed": false
   },
   "outputs": [
    {
     "data": {
      "text/plain": [
       "2304"
      ]
     },
     "execution_count": 23,
     "metadata": {},
     "output_type": "execute_result"
    }
   ],
   "source": [
    "os.system(\"unzip \" + os.getenv(\"PUIDATA\") + \"/\" + \"application%2Fzip\" + \" -d \" + os.getenv(\"PUIDATA\"))"
   ]
  },
  {
   "cell_type": "code",
   "execution_count": 27,
   "metadata": {
    "collapsed": false
   },
   "outputs": [
    {
     "name": "stdout",
     "output_type": "stream",
     "text": [
      "unzip application%2Fzip\n"
     ]
    }
   ],
   "source": [
    "print(\"unzip application%2Fzip\")"
   ]
  },
  {
   "cell_type": "code",
   "execution_count": 17,
   "metadata": {
    "collapsed": false
   },
   "outputs": [
    {
     "data": {
      "text/plain": [
       "2304"
      ]
     },
     "execution_count": 17,
     "metadata": {},
     "output_type": "execute_result"
    }
   ],
   "source": [
    "### unzip the csv \n",
    "#os.system(\"unzip \" + os.getenv(\"PUIDATA\") + \"/\" + \"ZIP_CODE_040114.zip\" + \" -d \" + os.getenv(\"PUIDATA\"))"
   ]
  },
  {
   "cell_type": "code",
   "execution_count": null,
   "metadata": {
    "collapsed": true
   },
   "outputs": [],
   "source": [
    "#https://data.cityofnewyork.us/download/i8iw-xf4u/application%2Fzip"
   ]
  },
  {
   "cell_type": "code",
   "execution_count": 13,
   "metadata": {
    "collapsed": false
   },
   "outputs": [
    {
     "name": "stdout",
     "output_type": "stream",
     "text": [
      "unzip /home/cusp/cjs676/PUIdata/ZIP_CODE_040114.zip -d /home/cusp/cjs676/PUIdata\n"
     ]
    }
   ],
   "source": [
    "#print((\"unzip \" + os.getenv(\"PUIDATA\") + \"/\" + \"ZIP_CODE_040114.zip\" + \" -d \" + os.getenv(\"PUIDATA\")))"
   ]
  },
  {
   "cell_type": "markdown",
   "metadata": {},
   "source": [
    "Check if file is where we want it"
   ]
  },
  {
   "cell_type": "code",
   "execution_count": 20,
   "metadata": {
    "collapsed": false
   },
   "outputs": [
    {
     "name": "stdout",
     "output_type": "stream",
     "text": [
      "WARNING!!! something is wrong: the file is not there!\n"
     ]
    }
   ],
   "source": [
    "if not os.path.isfile(os.getenv(\"PUIDATA\") + \"/\" + \"ZIP_CODE_040114.shp\"):\n",
    "    print (\"WARNING!!! something is wrong: the file is not there!\")\n",
    "else:\n",
    "    print (\"file in place, you can continue\")"
   ]
  },
  {
   "cell_type": "markdown",
   "metadata": {},
   "source": [
    "## Smaller resolution Map. Just in case:\n"
   ]
  },
  {
   "cell_type": "code",
   "execution_count": 9,
   "metadata": {
    "collapsed": false
   },
   "outputs": [
    {
     "data": {
      "text/plain": [
       "0"
      ]
     },
     "execution_count": 9,
     "metadata": {},
     "output_type": "execute_result"
    }
   ],
   "source": [
    "#Download the file and move\n",
    "os.system(\"curl -O http://www1.nyc.gov/assets/planning/download/zip/data-maps/open-data/nybb_16d.zip\")\n",
    "os.system(\"mv \" + \"nybb_16d.zip \" + os.getenv(\"PUIDATA\"))"
   ]
  },
  {
   "cell_type": "code",
   "execution_count": 10,
   "metadata": {
    "collapsed": false
   },
   "outputs": [
    {
     "data": {
      "text/plain": [
       "0"
      ]
     },
     "execution_count": 10,
     "metadata": {},
     "output_type": "execute_result"
    }
   ],
   "source": [
    "### unzip the csv \n",
    "os.system(\"unzip \" + os.getenv(\"PUIDATA\") + \"/\" + \"nybb_16d.zip\" + \" -d \" + os.getenv(\"PUIDATA\"))"
   ]
  },
  {
   "cell_type": "markdown",
   "metadata": {},
   "source": [
    "Check for the file"
   ]
  },
  {
   "cell_type": "code",
   "execution_count": 11,
   "metadata": {
    "collapsed": false
   },
   "outputs": [
    {
     "name": "stdout",
     "output_type": "stream",
     "text": [
      "file in place, you can continue\n"
     ]
    }
   ],
   "source": [
    "if not os.path.isfile(os.getenv(\"PUIDATA\") + \"/\" + \"nybb_16d/nybb.shp\"):\n",
    "    print (\"WARNING!!! something is wrong: the file is not there!\")\n",
    "else:\n",
    "    print (\"file in place, you can continue\")"
   ]
  },
  {
   "cell_type": "markdown",
   "metadata": {},
   "source": [
    "## Import Buisness data set"
   ]
  },
  {
   "cell_type": "markdown",
   "metadata": {},
   "source": [
    "### Import year 2000 data"
   ]
  },
  {
   "cell_type": "markdown",
   "metadata": {},
   "source": [
    "Get 2000 biz data"
   ]
  },
  {
   "cell_type": "code",
   "execution_count": 41,
   "metadata": {
    "collapsed": false
   },
   "outputs": [
    {
     "name": "stdout",
     "output_type": "stream",
     "text": [
      "--2016-12-17 19:33:52--  ftp://ftp.census.gov/Econ2001_And_Earlier/CBP_CSV/zbp00totals.zip\n",
      "           => “/home/cusp/cjs676/PUIdata/zbp00totals.zip”\n",
      "Resolving ftp.census.gov... 148.129.75.35, 2610:20:2010:a09:1000:0:9481:4b23\n",
      "Connecting to ftp.census.gov|148.129.75.35|:21... connected.\n",
      "Logging in as anonymous ... \n",
      "Error in server response, closing control connection.\n",
      "Retrying.\n",
      "\n",
      "--2016-12-17 19:38:55--  ftp://ftp.census.gov/Econ2001_And_Earlier/CBP_CSV/zbp00totals.zip\n",
      "  (try: 2) => “/home/cusp/cjs676/PUIdata/zbp00totals.zip”\n",
      "Connecting to ftp.census.gov|148.129.75.35|:21... connected.\n",
      "Logging in as anonymous ... Logged in!\n",
      "==> SYST ... done.    ==> PWD ... done.\n",
      "==> TYPE I ... done.  ==> CWD (1) /Econ2001_And_Earlier/CBP_CSV ... done.\n",
      "==> SIZE zbp00totals.zip ... 628434\n",
      "==> PASV ... done.    ==> RETR zbp00totals.zip ... done.\n",
      "Length: 628434 (614K) (unauthoritative)\n",
      "\n",
      "100%[======================================>] 628,434     --.-K/s   in 1.1s    \n",
      "\n",
      "2016-12-17 19:38:56 (580 KB/s) - “/home/cusp/cjs676/PUIdata/zbp00totals.zip” saved [628434]\n",
      "\n"
     ]
    }
   ],
   "source": [
    "!wget -O {os.getenv(\"PUIDATA\") + \"/\" \"zbp00totals.zip\" } ftp://ftp.census.gov/Econ2001_And_Earlier/CBP_CSV/zbp00totals.zip"
   ]
  },
  {
   "cell_type": "markdown",
   "metadata": {},
   "source": [
    "Unzip 2000 Biz data"
   ]
  },
  {
   "cell_type": "code",
   "execution_count": 42,
   "metadata": {
    "collapsed": false
   },
   "outputs": [
    {
     "data": {
      "text/plain": [
       "0"
      ]
     },
     "execution_count": 42,
     "metadata": {},
     "output_type": "execute_result"
    }
   ],
   "source": [
    "os.system(\"unzip \" + os.getenv(\"PUIDATA\") + \"/\" + \"zbp00totals.zip\" + \" -d \" + os.getenv(\"PUIDATA\"))"
   ]
  },
  {
   "cell_type": "markdown",
   "metadata": {},
   "source": [
    "### Get 2010 Biz Data"
   ]
  },
  {
   "cell_type": "code",
   "execution_count": 46,
   "metadata": {
    "collapsed": false
   },
   "outputs": [
    {
     "name": "stdout",
     "output_type": "stream",
     "text": [
      "--2016-12-17 19:55:06--  ftp://ftp.census.gov/econ2010/CBP_CSV/zbp10totals.zip\n",
      "           => “/home/cusp/cjs676/PUIdata/zbp10totals.zip”\n",
      "Resolving ftp.census.gov... 148.129.75.35, 2610:20:2010:a09:1000:0:9481:4b23\n",
      "Connecting to ftp.census.gov|148.129.75.35|:21... connected.\n",
      "Logging in as anonymous ... Logged in!\n",
      "==> SYST ... done.    ==> PWD ... done.\n",
      "==> TYPE I ... done.  ==> CWD (1) /econ2010/CBP_CSV ... done.\n",
      "==> SIZE zbp10totals.zip ... 797534\n",
      "==> PASV ... done.    ==> RETR zbp10totals.zip ... done.\n",
      "Length: 797534 (779K) (unauthoritative)\n",
      "\n",
      "100%[======================================>] 797,534      507K/s   in 1.5s    \n",
      "\n",
      "2016-12-17 19:55:08 (507 KB/s) - “/home/cusp/cjs676/PUIdata/zbp10totals.zip” saved [797534]\n",
      "\n"
     ]
    }
   ],
   "source": [
    "!wget -O {os.getenv(\"PUIDATA\") + \"/\" \"zbp10totals.zip\" } ftp://ftp.census.gov/econ2010/CBP_CSV/zbp10totals.zip"
   ]
  },
  {
   "cell_type": "markdown",
   "metadata": {},
   "source": [
    "Unzip 2010 biz data"
   ]
  },
  {
   "cell_type": "code",
   "execution_count": 47,
   "metadata": {
    "collapsed": false
   },
   "outputs": [
    {
     "data": {
      "text/plain": [
       "0"
      ]
     },
     "execution_count": 47,
     "metadata": {},
     "output_type": "execute_result"
    }
   ],
   "source": [
    "os.system(\"unzip \" + os.getenv(\"PUIDATA\") + \"/\" + \"zbp10totals.zip\" + \" -d \" + os.getenv(\"PUIDATA\"))"
   ]
  },
  {
   "cell_type": "markdown",
   "metadata": {},
   "source": [
    "## GeoJson used in HW11"
   ]
  },
  {
   "cell_type": "code",
   "execution_count": 53,
   "metadata": {
    "collapsed": true
   },
   "outputs": [],
   "source": [
    "urlbegin = 'https://raw.githubusercontent.com/fedhere/PUI2016_fb55/master/HW11_fb55/'\n",
    "file_name = 'nyc-zip-code-tabulation-areas-polygons.geojson'\n",
    "\n"
   ]
  },
  {
   "cell_type": "code",
   "execution_count": 54,
   "metadata": {
    "collapsed": false
   },
   "outputs": [
    {
     "data": {
      "text/plain": [
       "0"
      ]
     },
     "execution_count": 54,
     "metadata": {},
     "output_type": "execute_result"
    }
   ],
   "source": [
    "os.system(\"curl -o \" + os.getenv(\"PUIDATA\") + \"/\" + file_name + \" \" + urlbegin + file_name)\n",
    "         "
   ]
  },
  {
   "cell_type": "markdown",
   "metadata": {},
   "source": [
    "Ref for Later\n",
    "https://stackoverflow.com/questions/28339000/unzip-zip-files-in-folders-and-subfolders-with-python\n"
   ]
  },
  {
   "cell_type": "code",
   "execution_count": null,
   "metadata": {
    "collapsed": true
   },
   "outputs": [],
   "source": []
  }
 ],
 "metadata": {
  "kernelspec": {
   "display_name": "PUI2016_Python2",
   "language": "python",
   "name": "pui2016_python2"
  },
  "language_info": {
   "codemirror_mode": {
    "name": "ipython",
    "version": 2
   },
   "file_extension": ".py",
   "mimetype": "text/x-python",
   "name": "python",
   "nbconvert_exporter": "python",
   "pygments_lexer": "ipython2",
   "version": "2.7.12"
  }
 },
 "nbformat": 4,
 "nbformat_minor": 0
}
