{
 "cells": [
  {
   "cell_type": "markdown",
   "metadata": {},
   "source": [
    "## Munge 1 Notebook by: \n",
    "\n",
    "### Author: Christopher Streich, cjs6762nyu.edu, \n",
    "### for PUI2016 Final, 12-17-2016"
   ]
  },
  {
   "cell_type": "markdown",
   "metadata": {},
   "source": [
    "## This notebook is designed to run on the PUI2016_Python2 Kernel. "
   ]
  },
  {
   "cell_type": "markdown",
   "metadata": {},
   "source": [
    "This notebook will Begin the overall Munging Phase. \n",
    "\n",
    "It may be replaced by a Notebook which only solves #1 and #2\n",
    "\n"
   ]
  },
  {
   "cell_type": "code",
   "execution_count": 1,
   "metadata": {
    "collapsed": false
   },
   "outputs": [
    {
     "name": "stderr",
     "output_type": "stream",
     "text": [
      "/opt/rh/anaconda/root/envs/PUI2016_Python2/lib/python2.7/site-packages/IPython/html.py:14: ShimWarning:\n",
      "\n",
      "The `IPython.html` package has been deprecated. You should import from `notebook` instead. `IPython.html.widgets` has moved to `ipywidgets`.\n",
      "\n",
      "/opt/rh/anaconda/root/envs/PUI2016_Python2/lib/python2.7/site-packages/IPython/core/magics/pylab.py:161: UserWarning:\n",
      "\n",
      "pylab import has clobbered these variables: ['plt', 'compress', 'datetime']\n",
      "`%matplotlib` prevents importing * from pylab and numpy\n",
      "\n"
     ]
    },
    {
     "name": "stdout",
     "output_type": "stream",
     "text": [
      "Populating the interactive namespace from numpy and matplotlib\n"
     ]
    }
   ],
   "source": [
    "#Tools for import\n",
    "import numpy as np\n",
    "import pandas as pd\n",
    "import geopandas as gp\n",
    "import scipy.cluster as scp\n",
    "import shapely as shp\n",
    "import pylab as pl\n",
    "import pandas as pd\n",
    "import matplotlib.pylab as plt\n",
    "import scipy.cluster as scp\n",
    "import plotly.plotly as py\n",
    "\n",
    "from datetime import datetime\n",
    "from itertools import compress\n",
    "from fiona.crs import from_epsg\n",
    "from sklearn.cluster import KMeans\n",
    "from matplotlib import cm\n",
    "from descartes import PolygonPatch\n",
    "from pandas.io.common import ZipFile\n",
    "from sklearn.cluster import AgglomerativeClustering\n",
    "from IPython.html import widgets\n",
    "from IPython.display import display\n",
    "\n",
    "import seaborn\n",
    "import fiona\n",
    "import zipfile\n",
    "import os\n",
    "import subprocess\n",
    "\n",
    "%matplotlib inline\n",
    "%pylab inline"
   ]
  },
  {
   "cell_type": "code",
   "execution_count": null,
   "metadata": {
    "collapsed": false
   },
   "outputs": [],
   "source": []
  },
  {
   "cell_type": "code",
   "execution_count": 2,
   "metadata": {
    "collapsed": true
   },
   "outputs": [],
   "source": [
    "%matplotlib inline\n",
    "\n",
    "\n",
    "from pandas import DataFrame\n",
    "\n",
    "\n",
    "from geopandas import GeoDataFrame\n",
    "\n",
    "import fiona\n",
    "import shapely\n",
    "import os\n",
    "import pylab as pl\n"
   ]
  },
  {
   "cell_type": "markdown",
   "metadata": {},
   "source": [
    "### List of Variables defined in this notebook\n",
    "\n",
    "nycb2010.shp = NYC Census Tract shapefile\n",
    "\n",
    "ZIP_CODE_040114.shp = NYC zipcode shapefile\n",
    "\n",
    "nybb.shp = Borough Map\n",
    "\n",
    "zbp00totals.txt = yr2000 Biz Data \n",
    "\n",
    "zbp00totals.txt = yr2010 Biz Data.\n",
    "\n",
    "zc_shape = NYC geoJson\n",
    "\n",
    "biz2000 = Businesses in 2000 in NYC zipcodes by zipcode\n",
    "\n",
    "biz2010 = Businesses in 2000 in NYC zipcodes by zipcode\n",
    "\n",
    "postalcodes = Unique NYC Postal Codes. \n",
    "\n",
    "zc_shp_area = shapefile with calculated area (mi^2)\n",
    "\n",
    "zc_group = Zip Codes grouped by zipcode with summed area(mi^2)\n",
    "\n",
    "geo_zip_biz2000 = geo-dataframes of 2000 biz by zipcode\n",
    "\n",
    "geo_zip_biz2010 = geo-dataframes of 2010 biz by zipcode"
   ]
  },
  {
   "cell_type": "markdown",
   "metadata": {},
   "source": [
    "### Stats after raw import\n",
    "\n",
    "len(zip_shp) = 263\n",
    "\n",
    "len(zip_shp.ZIPCODE.unique()) = 248\n",
    "\n",
    "len(tract_shp) = 38794\n",
    "\n",
    "len(boro_shp) = 5\n",
    "\n",
    "len(zc_shape) = 262\n",
    "\n",
    "len(zc_shape.postalCode.unique()) = 247\n",
    "\n",
    "len(biz2000) = 239\n",
    "\n",
    "len(biz2010) = 239\n",
    "\n",
    "len(postalcodes) = 247\n",
    "\n",
    "\n"
   ]
  },
  {
   "cell_type": "markdown",
   "metadata": {},
   "source": [
    "### ZipCode Shapefile"
   ]
  },
  {
   "cell_type": "code",
   "execution_count": 3,
   "metadata": {
    "collapsed": false
   },
   "outputs": [],
   "source": [
    "zip_shape_path = (os.getenv(\"PUIDATA\") + \"/\" + \"ZIP_CODE_040114.shp\")\n",
    "zip_shp = gp.read_file(zip_shape_path)"
   ]
  },
  {
   "cell_type": "code",
   "execution_count": 4,
   "metadata": {
    "collapsed": false
   },
   "outputs": [
    {
     "data": {
      "text/html": [
       "<div>\n",
       "<table border=\"1\" class=\"dataframe\">\n",
       "  <thead>\n",
       "    <tr style=\"text-align: right;\">\n",
       "      <th></th>\n",
       "      <th>AREA</th>\n",
       "      <th>BLDGZIP</th>\n",
       "      <th>COUNTY</th>\n",
       "      <th>CTY_FIPS</th>\n",
       "      <th>POPULATION</th>\n",
       "      <th>PO_NAME</th>\n",
       "      <th>SHAPE_AREA</th>\n",
       "      <th>SHAPE_LEN</th>\n",
       "      <th>STATE</th>\n",
       "      <th>ST_FIPS</th>\n",
       "      <th>URL</th>\n",
       "      <th>ZIPCODE</th>\n",
       "      <th>geometry</th>\n",
       "    </tr>\n",
       "  </thead>\n",
       "  <tbody>\n",
       "    <tr>\n",
       "      <th>0</th>\n",
       "      <td>2.269930e+07</td>\n",
       "      <td>0</td>\n",
       "      <td>Queens</td>\n",
       "      <td>081</td>\n",
       "      <td>18681.0</td>\n",
       "      <td>Jamaica</td>\n",
       "      <td>0.0</td>\n",
       "      <td>0.0</td>\n",
       "      <td>NY</td>\n",
       "      <td>36</td>\n",
       "      <td>http://www.usps.com/</td>\n",
       "      <td>11436</td>\n",
       "      <td>POLYGON ((1038098.251871482 188138.3800067157,...</td>\n",
       "    </tr>\n",
       "    <tr>\n",
       "      <th>1</th>\n",
       "      <td>2.963100e+07</td>\n",
       "      <td>0</td>\n",
       "      <td>Kings</td>\n",
       "      <td>047</td>\n",
       "      <td>62426.0</td>\n",
       "      <td>Brooklyn</td>\n",
       "      <td>0.0</td>\n",
       "      <td>0.0</td>\n",
       "      <td>NY</td>\n",
       "      <td>36</td>\n",
       "      <td>http://www.usps.com/</td>\n",
       "      <td>11213</td>\n",
       "      <td>POLYGON ((1001613.712964058 186926.4395172149,...</td>\n",
       "    </tr>\n",
       "  </tbody>\n",
       "</table>\n",
       "</div>"
      ],
      "text/plain": [
       "           AREA BLDGZIP  COUNTY CTY_FIPS  POPULATION   PO_NAME  SHAPE_AREA  \\\n",
       "0  2.269930e+07       0  Queens      081     18681.0   Jamaica         0.0   \n",
       "1  2.963100e+07       0   Kings      047     62426.0  Brooklyn         0.0   \n",
       "\n",
       "   SHAPE_LEN STATE ST_FIPS                   URL ZIPCODE  \\\n",
       "0        0.0    NY      36  http://www.usps.com/   11436   \n",
       "1        0.0    NY      36  http://www.usps.com/   11213   \n",
       "\n",
       "                                            geometry  \n",
       "0  POLYGON ((1038098.251871482 188138.3800067157,...  \n",
       "1  POLYGON ((1001613.712964058 186926.4395172149,...  "
      ]
     },
     "execution_count": 4,
     "metadata": {},
     "output_type": "execute_result"
    }
   ],
   "source": [
    "zip_shp.head(2)"
   ]
  },
  {
   "cell_type": "code",
   "execution_count": 5,
   "metadata": {
    "collapsed": false
   },
   "outputs": [
    {
     "data": {
      "text/plain": [
       "263"
      ]
     },
     "execution_count": 5,
     "metadata": {},
     "output_type": "execute_result"
    }
   ],
   "source": [
    "len(zip_shp)"
   ]
  },
  {
   "cell_type": "code",
   "execution_count": 6,
   "metadata": {
    "collapsed": false
   },
   "outputs": [
    {
     "data": {
      "text/plain": [
       "248"
      ]
     },
     "execution_count": 6,
     "metadata": {},
     "output_type": "execute_result"
    }
   ],
   "source": [
    "len(zip_shp.ZIPCODE.unique())"
   ]
  },
  {
   "cell_type": "markdown",
   "metadata": {},
   "source": [
    "### Census tract Shapefile"
   ]
  },
  {
   "cell_type": "code",
   "execution_count": 7,
   "metadata": {
    "collapsed": false
   },
   "outputs": [],
   "source": [
    "tract_shape_path = (os.getenv(\"PUIDATA\") + \"/\" + \"nycb2010_16c/nycb2010.shp\")\n",
    "tract_shp = gp.read_file(tract_shape_path)"
   ]
  },
  {
   "cell_type": "code",
   "execution_count": 8,
   "metadata": {
    "collapsed": false
   },
   "outputs": [
    {
     "data": {
      "text/html": [
       "<div>\n",
       "<table border=\"1\" class=\"dataframe\">\n",
       "  <thead>\n",
       "    <tr style=\"text-align: right;\">\n",
       "      <th></th>\n",
       "      <th>BCTCB2010</th>\n",
       "      <th>BoroCode</th>\n",
       "      <th>BoroName</th>\n",
       "      <th>CB2010</th>\n",
       "      <th>CT2010</th>\n",
       "      <th>Shape_Area</th>\n",
       "      <th>Shape_Leng</th>\n",
       "      <th>geometry</th>\n",
       "    </tr>\n",
       "  </thead>\n",
       "  <tbody>\n",
       "    <tr>\n",
       "      <th>0</th>\n",
       "      <td>50009001000</td>\n",
       "      <td>5</td>\n",
       "      <td>Staten Island</td>\n",
       "      <td>1000</td>\n",
       "      <td>000900</td>\n",
       "      <td>244589.603884</td>\n",
       "      <td>2508.948115</td>\n",
       "      <td>POLYGON ((962269.1260375977 173705.5001831055,...</td>\n",
       "    </tr>\n",
       "    <tr>\n",
       "      <th>1</th>\n",
       "      <td>50020011000</td>\n",
       "      <td>5</td>\n",
       "      <td>Staten Island</td>\n",
       "      <td>1000</td>\n",
       "      <td>002001</td>\n",
       "      <td>111006.286826</td>\n",
       "      <td>1345.886422</td>\n",
       "      <td>POLYGON ((964642.2676391602 161835.2651977539,...</td>\n",
       "    </tr>\n",
       "  </tbody>\n",
       "</table>\n",
       "</div>"
      ],
      "text/plain": [
       "     BCTCB2010 BoroCode       BoroName CB2010  CT2010     Shape_Area  \\\n",
       "0  50009001000        5  Staten Island   1000  000900  244589.603884   \n",
       "1  50020011000        5  Staten Island   1000  002001  111006.286826   \n",
       "\n",
       "    Shape_Leng                                           geometry  \n",
       "0  2508.948115  POLYGON ((962269.1260375977 173705.5001831055,...  \n",
       "1  1345.886422  POLYGON ((964642.2676391602 161835.2651977539,...  "
      ]
     },
     "execution_count": 8,
     "metadata": {},
     "output_type": "execute_result"
    }
   ],
   "source": [
    "tract_shp.head(2)"
   ]
  },
  {
   "cell_type": "code",
   "execution_count": 9,
   "metadata": {
    "collapsed": false
   },
   "outputs": [
    {
     "data": {
      "text/plain": [
       "38794"
      ]
     },
     "execution_count": 9,
     "metadata": {},
     "output_type": "execute_result"
    }
   ],
   "source": [
    "len(tract_shp)"
   ]
  },
  {
   "cell_type": "markdown",
   "metadata": {},
   "source": [
    "### Borough SHapefile"
   ]
  },
  {
   "cell_type": "code",
   "execution_count": 10,
   "metadata": {
    "collapsed": true
   },
   "outputs": [],
   "source": [
    "tract_shape_path = (os.getenv(\"PUIDATA\") + \"/\" + \"nybb_16d/nybb.shp\")\n",
    "boro_shp = gp.read_file(tract_shape_path)"
   ]
  },
  {
   "cell_type": "code",
   "execution_count": 11,
   "metadata": {
    "collapsed": false
   },
   "outputs": [
    {
     "data": {
      "text/html": [
       "<div>\n",
       "<table border=\"1\" class=\"dataframe\">\n",
       "  <thead>\n",
       "    <tr style=\"text-align: right;\">\n",
       "      <th></th>\n",
       "      <th>BoroCode</th>\n",
       "      <th>BoroName</th>\n",
       "      <th>Shape_Area</th>\n",
       "      <th>Shape_Leng</th>\n",
       "      <th>geometry</th>\n",
       "    </tr>\n",
       "  </thead>\n",
       "  <tbody>\n",
       "    <tr>\n",
       "      <th>0</th>\n",
       "      <td>5</td>\n",
       "      <td>Staten Island</td>\n",
       "      <td>1.623819e+09</td>\n",
       "      <td>330476.02653</td>\n",
       "      <td>(POLYGON ((970217.0223999023 145643.3322143555...</td>\n",
       "    </tr>\n",
       "    <tr>\n",
       "      <th>1</th>\n",
       "      <td>2</td>\n",
       "      <td>Bronx</td>\n",
       "      <td>1.186816e+09</td>\n",
       "      <td>464081.17775</td>\n",
       "      <td>(POLYGON ((1012821.805786133 229228.2645874023...</td>\n",
       "    </tr>\n",
       "  </tbody>\n",
       "</table>\n",
       "</div>"
      ],
      "text/plain": [
       "   BoroCode       BoroName    Shape_Area    Shape_Leng  \\\n",
       "0         5  Staten Island  1.623819e+09  330476.02653   \n",
       "1         2          Bronx  1.186816e+09  464081.17775   \n",
       "\n",
       "                                            geometry  \n",
       "0  (POLYGON ((970217.0223999023 145643.3322143555...  \n",
       "1  (POLYGON ((1012821.805786133 229228.2645874023...  "
      ]
     },
     "execution_count": 11,
     "metadata": {},
     "output_type": "execute_result"
    }
   ],
   "source": [
    "boro_shp.head(2)"
   ]
  },
  {
   "cell_type": "code",
   "execution_count": 12,
   "metadata": {
    "collapsed": false
   },
   "outputs": [
    {
     "data": {
      "text/plain": [
       "5"
      ]
     },
     "execution_count": 12,
     "metadata": {},
     "output_type": "execute_result"
    }
   ],
   "source": [
    "len(boro_shp)"
   ]
  },
  {
   "cell_type": "markdown",
   "metadata": {},
   "source": [
    "### Zip Code GeoJson"
   ]
  },
  {
   "cell_type": "markdown",
   "metadata": {},
   "source": [
    "ref: (https://stackoverflow.com/questions/21546739/load-data-from-txt-with-pandas)"
   ]
  },
  {
   "cell_type": "markdown",
   "metadata": {},
   "source": [
    "### GeoJson used in Assignemnt 11"
   ]
  },
  {
   "cell_type": "code",
   "execution_count": 13,
   "metadata": {
    "collapsed": false
   },
   "outputs": [],
   "source": [
    "zc_shape = gp.read_file(os.getenv('PUIDATA') + '/' + 'nyc-zip-code-tabulation-areas-polygons.geojson')"
   ]
  },
  {
   "cell_type": "code",
   "execution_count": 14,
   "metadata": {
    "collapsed": false
   },
   "outputs": [
    {
     "data": {
      "text/html": [
       "<div>\n",
       "<table border=\"1\" class=\"dataframe\">\n",
       "  <thead>\n",
       "    <tr style=\"text-align: right;\">\n",
       "      <th></th>\n",
       "      <th>@id</th>\n",
       "      <th>BLDGpostalCode</th>\n",
       "      <th>CTY_FIPS</th>\n",
       "      <th>OBJECTID</th>\n",
       "      <th>PO_NAME</th>\n",
       "      <th>STATE</th>\n",
       "      <th>ST_FIPS</th>\n",
       "      <th>Shape_Area</th>\n",
       "      <th>Shape_Leng</th>\n",
       "      <th>borough</th>\n",
       "      <th>geometry</th>\n",
       "      <th>postalCode</th>\n",
       "    </tr>\n",
       "  </thead>\n",
       "  <tbody>\n",
       "    <tr>\n",
       "      <th>0</th>\n",
       "      <td>http://nyc.pediacities.com/Resource/PostalCode...</td>\n",
       "      <td>0</td>\n",
       "      <td>081</td>\n",
       "      <td>1</td>\n",
       "      <td>Jackson Heights</td>\n",
       "      <td>NY</td>\n",
       "      <td>36</td>\n",
       "      <td>2.016328e+07</td>\n",
       "      <td>20624.692317</td>\n",
       "      <td>Queens</td>\n",
       "      <td>POLYGON ((-73.86942457284175 40.74915687096787...</td>\n",
       "      <td>11372</td>\n",
       "    </tr>\n",
       "    <tr>\n",
       "      <th>1</th>\n",
       "      <td>http://nyc.pediacities.com/Resource/PostalCode...</td>\n",
       "      <td>0</td>\n",
       "      <td>081</td>\n",
       "      <td>2</td>\n",
       "      <td>Glen Oaks</td>\n",
       "      <td>NY</td>\n",
       "      <td>36</td>\n",
       "      <td>2.260653e+07</td>\n",
       "      <td>23002.816039</td>\n",
       "      <td>Queens</td>\n",
       "      <td>POLYGON ((-73.71068374074007 40.75004039450917...</td>\n",
       "      <td>11004</td>\n",
       "    </tr>\n",
       "    <tr>\n",
       "      <th>2</th>\n",
       "      <td>http://nyc.pediacities.com/Resource/PostalCode...</td>\n",
       "      <td>0</td>\n",
       "      <td>081</td>\n",
       "      <td>3</td>\n",
       "      <td>New Hyde Park</td>\n",
       "      <td>NY</td>\n",
       "      <td>36</td>\n",
       "      <td>6.269333e+06</td>\n",
       "      <td>15749.161511</td>\n",
       "      <td>Queens</td>\n",
       "      <td>POLYGON ((-73.70098278625547 40.73889569923034...</td>\n",
       "      <td>11040</td>\n",
       "    </tr>\n",
       "    <tr>\n",
       "      <th>3</th>\n",
       "      <td>http://nyc.pediacities.com/Resource/PostalCode...</td>\n",
       "      <td>0</td>\n",
       "      <td>081</td>\n",
       "      <td>4</td>\n",
       "      <td>Bellerose</td>\n",
       "      <td>NY</td>\n",
       "      <td>36</td>\n",
       "      <td>4.941836e+07</td>\n",
       "      <td>35932.810639</td>\n",
       "      <td>Queens</td>\n",
       "      <td>POLYGON ((-73.72270447144122 40.75373371438336...</td>\n",
       "      <td>11426</td>\n",
       "    </tr>\n",
       "    <tr>\n",
       "      <th>4</th>\n",
       "      <td>http://nyc.pediacities.com/Resource/PostalCode...</td>\n",
       "      <td>0</td>\n",
       "      <td>081</td>\n",
       "      <td>5</td>\n",
       "      <td>Fresh Meadows</td>\n",
       "      <td>NY</td>\n",
       "      <td>36</td>\n",
       "      <td>6.938587e+07</td>\n",
       "      <td>38693.565676</td>\n",
       "      <td>Queens</td>\n",
       "      <td>POLYGON ((-73.81088634744755 40.72717187575918...</td>\n",
       "      <td>11365</td>\n",
       "    </tr>\n",
       "  </tbody>\n",
       "</table>\n",
       "</div>"
      ],
      "text/plain": [
       "                                                 @id  BLDGpostalCode CTY_FIPS  \\\n",
       "0  http://nyc.pediacities.com/Resource/PostalCode...               0      081   \n",
       "1  http://nyc.pediacities.com/Resource/PostalCode...               0      081   \n",
       "2  http://nyc.pediacities.com/Resource/PostalCode...               0      081   \n",
       "3  http://nyc.pediacities.com/Resource/PostalCode...               0      081   \n",
       "4  http://nyc.pediacities.com/Resource/PostalCode...               0      081   \n",
       "\n",
       "   OBJECTID          PO_NAME STATE ST_FIPS    Shape_Area    Shape_Leng  \\\n",
       "0         1  Jackson Heights    NY      36  2.016328e+07  20624.692317   \n",
       "1         2        Glen Oaks    NY      36  2.260653e+07  23002.816039   \n",
       "2         3    New Hyde Park    NY      36  6.269333e+06  15749.161511   \n",
       "3         4        Bellerose    NY      36  4.941836e+07  35932.810639   \n",
       "4         5    Fresh Meadows    NY      36  6.938587e+07  38693.565676   \n",
       "\n",
       "  borough                                           geometry postalCode  \n",
       "0  Queens  POLYGON ((-73.86942457284175 40.74915687096787...      11372  \n",
       "1  Queens  POLYGON ((-73.71068374074007 40.75004039450917...      11004  \n",
       "2  Queens  POLYGON ((-73.70098278625547 40.73889569923034...      11040  \n",
       "3  Queens  POLYGON ((-73.72270447144122 40.75373371438336...      11426  \n",
       "4  Queens  POLYGON ((-73.81088634744755 40.72717187575918...      11365  "
      ]
     },
     "execution_count": 14,
     "metadata": {},
     "output_type": "execute_result"
    }
   ],
   "source": [
    "zc_shape.head(5)"
   ]
  },
  {
   "cell_type": "code",
   "execution_count": 15,
   "metadata": {
    "collapsed": false
   },
   "outputs": [
    {
     "data": {
      "text/plain": [
       "262"
      ]
     },
     "execution_count": 15,
     "metadata": {},
     "output_type": "execute_result"
    }
   ],
   "source": [
    "len(zc_shape)\n"
   ]
  },
  {
   "cell_type": "code",
   "execution_count": 16,
   "metadata": {
    "collapsed": false
   },
   "outputs": [
    {
     "data": {
      "text/plain": [
       "247"
      ]
     },
     "execution_count": 16,
     "metadata": {},
     "output_type": "execute_result"
    }
   ],
   "source": [
    "len(zc_shape.postalCode.unique())"
   ]
  },
  {
   "cell_type": "markdown",
   "metadata": {},
   "source": [
    "## Number of unique NYC Zips"
   ]
  },
  {
   "cell_type": "code",
   "execution_count": 17,
   "metadata": {
    "collapsed": false
   },
   "outputs": [],
   "source": [
    "postalcodes = (zc_shape.postalCode.unique())"
   ]
  },
  {
   "cell_type": "code",
   "execution_count": 18,
   "metadata": {
    "collapsed": false
   },
   "outputs": [
    {
     "data": {
      "text/plain": [
       "dtype('O')"
      ]
     },
     "execution_count": 18,
     "metadata": {},
     "output_type": "execute_result"
    }
   ],
   "source": [
    "postalcodes.dtype"
   ]
  },
  {
   "cell_type": "code",
   "execution_count": 19,
   "metadata": {
    "collapsed": false
   },
   "outputs": [
    {
     "data": {
      "text/plain": [
       "247"
      ]
     },
     "execution_count": 19,
     "metadata": {},
     "output_type": "execute_result"
    }
   ],
   "source": [
    "len(postalcodes)"
   ]
  },
  {
   "cell_type": "code",
   "execution_count": 20,
   "metadata": {
    "collapsed": false,
    "scrolled": true
   },
   "outputs": [
    {
     "data": {
      "text/plain": [
       "['11372',\n",
       " '11004',\n",
       " '11040',\n",
       " '11426',\n",
       " '11365',\n",
       " '11373',\n",
       " '11001',\n",
       " '11375',\n",
       " '11427',\n",
       " '11374',\n",
       " '11366',\n",
       " '11423',\n",
       " '11428',\n",
       " '11432',\n",
       " '11379',\n",
       " '11429',\n",
       " '11435',\n",
       " '11415',\n",
       " '11418',\n",
       " '11433',\n",
       " '11451',\n",
       " '11221',\n",
       " '11421',\n",
       " '11419',\n",
       " '11434',\n",
       " '11216',\n",
       " '11416',\n",
       " '11233',\n",
       " '11436',\n",
       " '11213',\n",
       " '11212',\n",
       " '11225',\n",
       " '11218',\n",
       " '11226',\n",
       " '11219',\n",
       " '11210',\n",
       " '11230',\n",
       " '11204',\n",
       " '10471',\n",
       " '10470',\n",
       " '10466',\n",
       " '10467',\n",
       " '10463',\n",
       " '10475',\n",
       " '10464',\n",
       " '10469',\n",
       " '10468',\n",
       " '10458',\n",
       " '10034',\n",
       " '10033',\n",
       " '10462',\n",
       " '10040',\n",
       " '10453',\n",
       " '10465',\n",
       " '10461',\n",
       " '10457',\n",
       " '10460',\n",
       " '10032',\n",
       " '10452',\n",
       " '10456',\n",
       " '10472',\n",
       " '10031',\n",
       " '10039',\n",
       " '10459',\n",
       " '10451',\n",
       " '10473',\n",
       " '10030',\n",
       " '10027',\n",
       " '10474',\n",
       " '10455',\n",
       " '10037',\n",
       " '10024',\n",
       " '10454',\n",
       " '10026',\n",
       " '10035',\n",
       " '10025',\n",
       " '11357',\n",
       " '10029',\n",
       " '00083',\n",
       " '11356',\n",
       " '11359',\n",
       " '11360',\n",
       " '11105',\n",
       " '10128',\n",
       " '11371',\n",
       " '10023',\n",
       " '11363',\n",
       " '10028',\n",
       " '11354',\n",
       " '11102',\n",
       " '11370',\n",
       " '10021',\n",
       " '11361',\n",
       " '11358',\n",
       " '11362',\n",
       " '10044',\n",
       " '11369',\n",
       " '11103',\n",
       " '11106',\n",
       " '11368',\n",
       " '11377',\n",
       " '10036',\n",
       " '11355',\n",
       " '11101',\n",
       " '11364',\n",
       " '10018',\n",
       " '10020',\n",
       " '11005',\n",
       " '10017',\n",
       " '10001',\n",
       " '10011',\n",
       " '10016',\n",
       " '11104',\n",
       " '11109',\n",
       " '10010',\n",
       " '11367',\n",
       " '10014',\n",
       " '10003',\n",
       " '11222',\n",
       " '10002',\n",
       " '11378',\n",
       " '10009',\n",
       " '10012',\n",
       " '10013',\n",
       " '11211',\n",
       " '10007',\n",
       " '11237',\n",
       " '11385',\n",
       " '10038',\n",
       " '11206',\n",
       " '10006',\n",
       " '11412',\n",
       " '10005',\n",
       " '11251',\n",
       " '10004',\n",
       " '11411',\n",
       " '11201',\n",
       " '11205',\n",
       " '11208',\n",
       " '11207',\n",
       " '11413',\n",
       " '11217',\n",
       " '11238',\n",
       " '11231',\n",
       " '11422',\n",
       " '11420',\n",
       " '11417',\n",
       " '11215',\n",
       " '11414',\n",
       " '11232',\n",
       " '11430',\n",
       " '11203',\n",
       " '11239',\n",
       " '11236',\n",
       " '11220',\n",
       " '10301',\n",
       " '10310',\n",
       " '10303',\n",
       " '11234',\n",
       " '10302',\n",
       " '11693',\n",
       " '11209',\n",
       " '10304',\n",
       " '10314',\n",
       " '11228',\n",
       " '11096',\n",
       " '10305',\n",
       " '11229',\n",
       " '11214',\n",
       " '11691',\n",
       " '11223',\n",
       " '11692',\n",
       " '11235',\n",
       " '10306',\n",
       " '11694',\n",
       " '11224',\n",
       " '10308',\n",
       " '11697',\n",
       " '10312',\n",
       " '10309',\n",
       " '10307',\n",
       " '10280',\n",
       " '10048',\n",
       " '10279',\n",
       " '10165',\n",
       " '10168',\n",
       " '10055',\n",
       " '10105',\n",
       " '10118',\n",
       " '10176',\n",
       " '10162',\n",
       " '10019',\n",
       " '10111',\n",
       " '10170',\n",
       " '10112',\n",
       " '10122',\n",
       " '10107',\n",
       " '10103',\n",
       " '10153',\n",
       " '10174',\n",
       " '10166',\n",
       " '10169',\n",
       " '10167',\n",
       " '10177',\n",
       " '10172',\n",
       " '10171',\n",
       " '10154',\n",
       " '10152',\n",
       " '10270',\n",
       " '10104',\n",
       " '10271',\n",
       " '10110',\n",
       " '10175',\n",
       " '10151',\n",
       " '10173',\n",
       " '10178',\n",
       " '10119',\n",
       " '10121',\n",
       " '10115',\n",
       " '10123',\n",
       " '10106',\n",
       " '10158',\n",
       " '10041',\n",
       " '10120',\n",
       " '10278',\n",
       " '10155',\n",
       " '10022',\n",
       " '10043',\n",
       " '10081',\n",
       " '10096',\n",
       " '10097',\n",
       " '10196',\n",
       " '10275',\n",
       " '10265',\n",
       " '10045',\n",
       " '10047',\n",
       " '10080',\n",
       " '10203',\n",
       " '10259',\n",
       " '10260',\n",
       " '10285',\n",
       " '10286',\n",
       " '10065',\n",
       " '10075',\n",
       " '10069',\n",
       " '10281',\n",
       " '10282']"
      ]
     },
     "execution_count": 20,
     "metadata": {},
     "output_type": "execute_result"
    }
   ],
   "source": [
    "map(str, postalcodes)"
   ]
  },
  {
   "cell_type": "code",
   "execution_count": 21,
   "metadata": {
    "collapsed": false
   },
   "outputs": [
    {
     "data": {
      "text/plain": [
       "247"
      ]
     },
     "execution_count": 21,
     "metadata": {},
     "output_type": "execute_result"
    }
   ],
   "source": [
    "len(postalcodes)"
   ]
  },
  {
   "cell_type": "code",
   "execution_count": 22,
   "metadata": {
    "collapsed": false
   },
   "outputs": [
    {
     "data": {
      "text/plain": [
       "dtype('O')"
      ]
     },
     "execution_count": 22,
     "metadata": {},
     "output_type": "execute_result"
    }
   ],
   "source": [
    "postalcodes.dtype"
   ]
  },
  {
   "cell_type": "markdown",
   "metadata": {},
   "source": [
    "### Biz 2000"
   ]
  },
  {
   "cell_type": "code",
   "execution_count": 23,
   "metadata": {
    "collapsed": false
   },
   "outputs": [
    {
     "name": "stderr",
     "output_type": "stream",
     "text": [
      "/opt/rh/anaconda/root/envs/PUI2016_Python2/lib/python2.7/site-packages/ipykernel/__main__.py:13: SettingWithCopyWarning:\n",
      "\n",
      "\n",
      "A value is trying to be set on a copy of a slice from a DataFrame\n",
      "\n",
      "See the caveats in the documentation: http://pandas.pydata.org/pandas-docs/stable/indexing.html#indexing-view-versus-copy\n",
      "\n"
     ]
    }
   ],
   "source": [
    "# Load year 2000 into dataframe\n",
    "\n",
    "filename = 'zbp00totals.zip'\n",
    "zf = zipfile.ZipFile(os.getenv('PUIDATA') + '/' + filename)\n",
    "df = pd.read_csv(zf.open(filename.replace('.zip','.txt')))\n",
    "df.columns = [x.lower() for x in df.columns]\n",
    "df['zip'] = df['zip'].astype(str)\n",
    "df['year'] = 2000\n",
    "df['est2000'] = df['est']\n",
    "df  = df[df['zip'].isin(postalcodes)]\n",
    "biz2000 = df[['zip', 'est2000', 'year']]\n",
    "biz2000.reset_index(inplace=True)\n",
    "biz2000.drop('index', axis=1, inplace=True)\n"
   ]
  },
  {
   "cell_type": "code",
   "execution_count": 24,
   "metadata": {
    "collapsed": false
   },
   "outputs": [
    {
     "data": {
      "text/html": [
       "<div>\n",
       "<table border=\"1\" class=\"dataframe\">\n",
       "  <thead>\n",
       "    <tr style=\"text-align: right;\">\n",
       "      <th></th>\n",
       "      <th>zip</th>\n",
       "      <th>est2000</th>\n",
       "      <th>year</th>\n",
       "    </tr>\n",
       "  </thead>\n",
       "  <tbody>\n",
       "    <tr>\n",
       "      <th>0</th>\n",
       "      <td>10001</td>\n",
       "      <td>7317</td>\n",
       "      <td>2000</td>\n",
       "    </tr>\n",
       "    <tr>\n",
       "      <th>1</th>\n",
       "      <td>10002</td>\n",
       "      <td>2277</td>\n",
       "      <td>2000</td>\n",
       "    </tr>\n",
       "    <tr>\n",
       "      <th>2</th>\n",
       "      <td>10003</td>\n",
       "      <td>3683</td>\n",
       "      <td>2000</td>\n",
       "    </tr>\n",
       "    <tr>\n",
       "      <th>3</th>\n",
       "      <td>10004</td>\n",
       "      <td>1294</td>\n",
       "      <td>2000</td>\n",
       "    </tr>\n",
       "    <tr>\n",
       "      <th>4</th>\n",
       "      <td>10005</td>\n",
       "      <td>1287</td>\n",
       "      <td>2000</td>\n",
       "    </tr>\n",
       "  </tbody>\n",
       "</table>\n",
       "</div>"
      ],
      "text/plain": [
       "     zip  est2000  year\n",
       "0  10001     7317  2000\n",
       "1  10002     2277  2000\n",
       "2  10003     3683  2000\n",
       "3  10004     1294  2000\n",
       "4  10005     1287  2000"
      ]
     },
     "execution_count": 24,
     "metadata": {},
     "output_type": "execute_result"
    }
   ],
   "source": [
    "biz2000.head(5) "
   ]
  },
  {
   "cell_type": "code",
   "execution_count": 25,
   "metadata": {
    "collapsed": false
   },
   "outputs": [
    {
     "data": {
      "text/plain": [
       "239"
      ]
     },
     "execution_count": 25,
     "metadata": {},
     "output_type": "execute_result"
    }
   ],
   "source": [
    "len(biz2000)"
   ]
  },
  {
   "cell_type": "markdown",
   "metadata": {},
   "source": [
    "Check For Null"
   ]
  },
  {
   "cell_type": "code",
   "execution_count": 26,
   "metadata": {
    "collapsed": false
   },
   "outputs": [
    {
     "data": {
      "text/plain": [
       "zip        False\n",
       "est2000    False\n",
       "year       False\n",
       "dtype: bool"
      ]
     },
     "execution_count": 26,
     "metadata": {},
     "output_type": "execute_result"
    }
   ],
   "source": [
    " biz2000.isnull().any()"
   ]
  },
  {
   "cell_type": "markdown",
   "metadata": {},
   "source": [
    "Count Number of Businesses in 2000 "
   ]
  },
  {
   "cell_type": "code",
   "execution_count": 27,
   "metadata": {
    "collapsed": false
   },
   "outputs": [
    {
     "data": {
      "text/plain": [
       "zip       -9223372036854775808\n",
       "est2000                 204505\n",
       "year                    478000\n",
       "dtype: int64"
      ]
     },
     "execution_count": 27,
     "metadata": {},
     "output_type": "execute_result"
    }
   ],
   "source": [
    "np.sum(biz2000, axis=0).astype(int)"
   ]
  },
  {
   "cell_type": "markdown",
   "metadata": {},
   "source": [
    "# --> In 2000 there were 204505 buisnesses in NYC zip codes <--"
   ]
  },
  {
   "cell_type": "markdown",
   "metadata": {},
   "source": [
    "### Biz 2010"
   ]
  },
  {
   "cell_type": "code",
   "execution_count": null,
   "metadata": {
    "collapsed": true
   },
   "outputs": [],
   "source": []
  },
  {
   "cell_type": "code",
   "execution_count": 28,
   "metadata": {
    "collapsed": false
   },
   "outputs": [
    {
     "name": "stderr",
     "output_type": "stream",
     "text": [
      "/opt/rh/anaconda/root/envs/PUI2016_Python2/lib/python2.7/site-packages/ipykernel/__main__.py:13: SettingWithCopyWarning:\n",
      "\n",
      "\n",
      "A value is trying to be set on a copy of a slice from a DataFrame\n",
      "\n",
      "See the caveats in the documentation: http://pandas.pydata.org/pandas-docs/stable/indexing.html#indexing-view-versus-copy\n",
      "\n"
     ]
    }
   ],
   "source": [
    "# Load year 2010 into dataframe\n",
    "\n",
    "filename10 = 'zbp10totals.zip'\n",
    "zf10 = zipfile.ZipFile(os.getenv('PUIDATA') + '/' + filename10)\n",
    "df10 = pd.read_csv(zf10.open(filename10.replace('.zip','.txt')))\n",
    "df10.columns = [x.lower() for x in df10.columns]\n",
    "df10['zip'] = df10['zip'].astype(str)\n",
    "df10['year'] = 2010\n",
    "df10['est2010'] = df10['est']\n",
    "df10 = df10[df10['zip'].isin(postalcodes)]\n",
    "biz2010 = df10[['zip', 'est2010', 'year']]\n",
    "biz2010.reset_index(inplace=True)\n",
    "biz2010.drop('index', axis=1, inplace=True)"
   ]
  },
  {
   "cell_type": "code",
   "execution_count": 29,
   "metadata": {
    "collapsed": false
   },
   "outputs": [
    {
     "data": {
      "text/html": [
       "<div>\n",
       "<table border=\"1\" class=\"dataframe\">\n",
       "  <thead>\n",
       "    <tr style=\"text-align: right;\">\n",
       "      <th></th>\n",
       "      <th>zip</th>\n",
       "      <th>est2010</th>\n",
       "      <th>year</th>\n",
       "    </tr>\n",
       "  </thead>\n",
       "  <tbody>\n",
       "    <tr>\n",
       "      <th>0</th>\n",
       "      <td>10001</td>\n",
       "      <td>7241</td>\n",
       "      <td>2010</td>\n",
       "    </tr>\n",
       "    <tr>\n",
       "      <th>1</th>\n",
       "      <td>10002</td>\n",
       "      <td>2872</td>\n",
       "      <td>2010</td>\n",
       "    </tr>\n",
       "    <tr>\n",
       "      <th>2</th>\n",
       "      <td>10003</td>\n",
       "      <td>4113</td>\n",
       "      <td>2010</td>\n",
       "    </tr>\n",
       "    <tr>\n",
       "      <th>3</th>\n",
       "      <td>10004</td>\n",
       "      <td>1398</td>\n",
       "      <td>2010</td>\n",
       "    </tr>\n",
       "    <tr>\n",
       "      <th>4</th>\n",
       "      <td>10005</td>\n",
       "      <td>1266</td>\n",
       "      <td>2010</td>\n",
       "    </tr>\n",
       "  </tbody>\n",
       "</table>\n",
       "</div>"
      ],
      "text/plain": [
       "     zip  est2010  year\n",
       "0  10001     7241  2010\n",
       "1  10002     2872  2010\n",
       "2  10003     4113  2010\n",
       "3  10004     1398  2010\n",
       "4  10005     1266  2010"
      ]
     },
     "execution_count": 29,
     "metadata": {},
     "output_type": "execute_result"
    }
   ],
   "source": [
    "biz2010.head(5) "
   ]
  },
  {
   "cell_type": "code",
   "execution_count": 30,
   "metadata": {
    "collapsed": false
   },
   "outputs": [
    {
     "data": {
      "text/plain": [
       "241"
      ]
     },
     "execution_count": 30,
     "metadata": {},
     "output_type": "execute_result"
    }
   ],
   "source": [
    "len(biz2010)"
   ]
  },
  {
   "cell_type": "markdown",
   "metadata": {},
   "source": [
    "Check for Null"
   ]
  },
  {
   "cell_type": "code",
   "execution_count": 31,
   "metadata": {
    "collapsed": false
   },
   "outputs": [
    {
     "data": {
      "text/plain": [
       "zip        False\n",
       "est2010    False\n",
       "year       False\n",
       "dtype: bool"
      ]
     },
     "execution_count": 31,
     "metadata": {},
     "output_type": "execute_result"
    }
   ],
   "source": [
    " biz2010.isnull().any()"
   ]
  },
  {
   "cell_type": "markdown",
   "metadata": {},
   "source": [
    "Count Number of Businesses in 2010 "
   ]
  },
  {
   "cell_type": "code",
   "execution_count": 32,
   "metadata": {
    "collapsed": false
   },
   "outputs": [
    {
     "data": {
      "text/plain": [
       "zip                 inf\n",
       "est2010    2.215170e+05\n",
       "year       4.844100e+05\n",
       "dtype: float64"
      ]
     },
     "execution_count": 32,
     "metadata": {},
     "output_type": "execute_result"
    }
   ],
   "source": [
    "biz2010.sum(axis = 0)"
   ]
  },
  {
   "cell_type": "code",
   "execution_count": 33,
   "metadata": {
    "collapsed": false
   },
   "outputs": [
    {
     "data": {
      "text/plain": [
       "zip       -9223372036854775808\n",
       "est2010                 221517\n",
       "year                    484410\n",
       "dtype: int64"
      ]
     },
     "execution_count": 33,
     "metadata": {},
     "output_type": "execute_result"
    }
   ],
   "source": [
    "np.sum(biz2010, axis=0).astype(int)"
   ]
  },
  {
   "cell_type": "markdown",
   "metadata": {},
   "source": [
    " # -->In 2010 there were 221517 buisness establishments in NYC zipcodes<--"
   ]
  },
  {
   "cell_type": "markdown",
   "metadata": {},
   "source": [
    "### merge 2010 and 2000 biz data with zip code file. \n"
   ]
  },
  {
   "cell_type": "markdown",
   "metadata": {},
   "source": [
    "### Prepare the zipcode file. (using the zc_shapes df. Source =  GeoJson used in Assignemnt 11)"
   ]
  },
  {
   "cell_type": "markdown",
   "metadata": {},
   "source": [
    "Plan = Get the area per zipcode including duplicates (262 shapes) then groupby zipcode and add area to get the total\n",
    "area"
   ]
  },
  {
   "cell_type": "markdown",
   "metadata": {},
   "source": [
    "Area"
   ]
  },
  {
   "cell_type": "code",
   "execution_count": 34,
   "metadata": {
    "collapsed": false
   },
   "outputs": [],
   "source": [
    "# set coordinate projection \n",
    "zc_shape.crs = from_epsg(4326) # epsg=4326: lat/on | 26918: NAD83/UTM zone 18N |\n",
    "# set to miles\n",
    "zc_shp_area = zc_shape.to_crs(epsg=2263).geometry.area.sum()/(2.788*10**7) # from ft2 to mi2"
   ]
  },
  {
   "cell_type": "code",
   "execution_count": 35,
   "metadata": {
    "collapsed": false
   },
   "outputs": [
    {
     "name": "stdout",
     "output_type": "stream",
     "text": [
      "total NYC land area: 300.1 (mi^2)\n"
     ]
    }
   ],
   "source": [
    "#sanity check\n",
    "print 'total NYC land area: %s (mi^2)'%str(zc_shp_area)[:5] # from ft2 to mi2 #epsg=2263 is US feet"
   ]
  },
  {
   "cell_type": "code",
   "execution_count": 36,
   "metadata": {
    "collapsed": false
   },
   "outputs": [
    {
     "data": {
      "text/html": [
       "<div>\n",
       "<table border=\"1\" class=\"dataframe\">\n",
       "  <thead>\n",
       "    <tr style=\"text-align: right;\">\n",
       "      <th></th>\n",
       "      <th>@id</th>\n",
       "      <th>BLDGpostalCode</th>\n",
       "      <th>CTY_FIPS</th>\n",
       "      <th>OBJECTID</th>\n",
       "      <th>PO_NAME</th>\n",
       "      <th>STATE</th>\n",
       "      <th>ST_FIPS</th>\n",
       "      <th>Shape_Area</th>\n",
       "      <th>Shape_Leng</th>\n",
       "      <th>borough</th>\n",
       "      <th>geometry</th>\n",
       "      <th>postalCode</th>\n",
       "    </tr>\n",
       "  </thead>\n",
       "  <tbody>\n",
       "    <tr>\n",
       "      <th>0</th>\n",
       "      <td>http://nyc.pediacities.com/Resource/PostalCode...</td>\n",
       "      <td>0</td>\n",
       "      <td>081</td>\n",
       "      <td>1</td>\n",
       "      <td>Jackson Heights</td>\n",
       "      <td>NY</td>\n",
       "      <td>36</td>\n",
       "      <td>2.016328e+07</td>\n",
       "      <td>20624.692317</td>\n",
       "      <td>Queens</td>\n",
       "      <td>POLYGON ((-73.86942457284175 40.74915687096787...</td>\n",
       "      <td>11372</td>\n",
       "    </tr>\n",
       "    <tr>\n",
       "      <th>1</th>\n",
       "      <td>http://nyc.pediacities.com/Resource/PostalCode...</td>\n",
       "      <td>0</td>\n",
       "      <td>081</td>\n",
       "      <td>2</td>\n",
       "      <td>Glen Oaks</td>\n",
       "      <td>NY</td>\n",
       "      <td>36</td>\n",
       "      <td>2.260653e+07</td>\n",
       "      <td>23002.816039</td>\n",
       "      <td>Queens</td>\n",
       "      <td>POLYGON ((-73.71068374074007 40.75004039450917...</td>\n",
       "      <td>11004</td>\n",
       "    </tr>\n",
       "    <tr>\n",
       "      <th>2</th>\n",
       "      <td>http://nyc.pediacities.com/Resource/PostalCode...</td>\n",
       "      <td>0</td>\n",
       "      <td>081</td>\n",
       "      <td>3</td>\n",
       "      <td>New Hyde Park</td>\n",
       "      <td>NY</td>\n",
       "      <td>36</td>\n",
       "      <td>6.269333e+06</td>\n",
       "      <td>15749.161511</td>\n",
       "      <td>Queens</td>\n",
       "      <td>POLYGON ((-73.70098278625547 40.73889569923034...</td>\n",
       "      <td>11040</td>\n",
       "    </tr>\n",
       "    <tr>\n",
       "      <th>3</th>\n",
       "      <td>http://nyc.pediacities.com/Resource/PostalCode...</td>\n",
       "      <td>0</td>\n",
       "      <td>081</td>\n",
       "      <td>4</td>\n",
       "      <td>Bellerose</td>\n",
       "      <td>NY</td>\n",
       "      <td>36</td>\n",
       "      <td>4.941836e+07</td>\n",
       "      <td>35932.810639</td>\n",
       "      <td>Queens</td>\n",
       "      <td>POLYGON ((-73.72270447144122 40.75373371438336...</td>\n",
       "      <td>11426</td>\n",
       "    </tr>\n",
       "    <tr>\n",
       "      <th>4</th>\n",
       "      <td>http://nyc.pediacities.com/Resource/PostalCode...</td>\n",
       "      <td>0</td>\n",
       "      <td>081</td>\n",
       "      <td>5</td>\n",
       "      <td>Fresh Meadows</td>\n",
       "      <td>NY</td>\n",
       "      <td>36</td>\n",
       "      <td>6.938587e+07</td>\n",
       "      <td>38693.565676</td>\n",
       "      <td>Queens</td>\n",
       "      <td>POLYGON ((-73.81088634744755 40.72717187575918...</td>\n",
       "      <td>11365</td>\n",
       "    </tr>\n",
       "  </tbody>\n",
       "</table>\n",
       "</div>"
      ],
      "text/plain": [
       "                                                 @id  BLDGpostalCode CTY_FIPS  \\\n",
       "0  http://nyc.pediacities.com/Resource/PostalCode...               0      081   \n",
       "1  http://nyc.pediacities.com/Resource/PostalCode...               0      081   \n",
       "2  http://nyc.pediacities.com/Resource/PostalCode...               0      081   \n",
       "3  http://nyc.pediacities.com/Resource/PostalCode...               0      081   \n",
       "4  http://nyc.pediacities.com/Resource/PostalCode...               0      081   \n",
       "\n",
       "   OBJECTID          PO_NAME STATE ST_FIPS    Shape_Area    Shape_Leng  \\\n",
       "0         1  Jackson Heights    NY      36  2.016328e+07  20624.692317   \n",
       "1         2        Glen Oaks    NY      36  2.260653e+07  23002.816039   \n",
       "2         3    New Hyde Park    NY      36  6.269333e+06  15749.161511   \n",
       "3         4        Bellerose    NY      36  4.941836e+07  35932.810639   \n",
       "4         5    Fresh Meadows    NY      36  6.938587e+07  38693.565676   \n",
       "\n",
       "  borough                                           geometry postalCode  \n",
       "0  Queens  POLYGON ((-73.86942457284175 40.74915687096787...      11372  \n",
       "1  Queens  POLYGON ((-73.71068374074007 40.75004039450917...      11004  \n",
       "2  Queens  POLYGON ((-73.70098278625547 40.73889569923034...      11040  \n",
       "3  Queens  POLYGON ((-73.72270447144122 40.75373371438336...      11426  \n",
       "4  Queens  POLYGON ((-73.81088634744755 40.72717187575918...      11365  "
      ]
     },
     "execution_count": 36,
     "metadata": {},
     "output_type": "execute_result"
    }
   ],
   "source": [
    "zc_shape.head(5)"
   ]
  },
  {
   "cell_type": "code",
   "execution_count": 37,
   "metadata": {
    "collapsed": false
   },
   "outputs": [],
   "source": [
    "zc_shape['area'] = zc_shape['geometry'].to_crs(epsg=2263).area /(2.788*10**7) # from ft2 to mi2"
   ]
  },
  {
   "cell_type": "code",
   "execution_count": 38,
   "metadata": {
    "collapsed": false
   },
   "outputs": [],
   "source": [
    "zc_shape['area'] = zc_shape['postalCode'].astype(str)"
   ]
  },
  {
   "cell_type": "code",
   "execution_count": 39,
   "metadata": {
    "collapsed": false
   },
   "outputs": [
    {
     "data": {
      "text/html": [
       "<div>\n",
       "<table border=\"1\" class=\"dataframe\">\n",
       "  <thead>\n",
       "    <tr style=\"text-align: right;\">\n",
       "      <th></th>\n",
       "      <th>@id</th>\n",
       "      <th>BLDGpostalCode</th>\n",
       "      <th>CTY_FIPS</th>\n",
       "      <th>OBJECTID</th>\n",
       "      <th>PO_NAME</th>\n",
       "      <th>STATE</th>\n",
       "      <th>ST_FIPS</th>\n",
       "      <th>Shape_Area</th>\n",
       "      <th>Shape_Leng</th>\n",
       "      <th>borough</th>\n",
       "      <th>geometry</th>\n",
       "      <th>postalCode</th>\n",
       "      <th>area</th>\n",
       "    </tr>\n",
       "  </thead>\n",
       "  <tbody>\n",
       "    <tr>\n",
       "      <th>0</th>\n",
       "      <td>http://nyc.pediacities.com/Resource/PostalCode...</td>\n",
       "      <td>0</td>\n",
       "      <td>081</td>\n",
       "      <td>1</td>\n",
       "      <td>Jackson Heights</td>\n",
       "      <td>NY</td>\n",
       "      <td>36</td>\n",
       "      <td>2.016328e+07</td>\n",
       "      <td>20624.692317</td>\n",
       "      <td>Queens</td>\n",
       "      <td>POLYGON ((-73.86942457284175 40.74915687096787...</td>\n",
       "      <td>11372</td>\n",
       "      <td>11372</td>\n",
       "    </tr>\n",
       "    <tr>\n",
       "      <th>1</th>\n",
       "      <td>http://nyc.pediacities.com/Resource/PostalCode...</td>\n",
       "      <td>0</td>\n",
       "      <td>081</td>\n",
       "      <td>2</td>\n",
       "      <td>Glen Oaks</td>\n",
       "      <td>NY</td>\n",
       "      <td>36</td>\n",
       "      <td>2.260653e+07</td>\n",
       "      <td>23002.816039</td>\n",
       "      <td>Queens</td>\n",
       "      <td>POLYGON ((-73.71068374074007 40.75004039450917...</td>\n",
       "      <td>11004</td>\n",
       "      <td>11004</td>\n",
       "    </tr>\n",
       "    <tr>\n",
       "      <th>2</th>\n",
       "      <td>http://nyc.pediacities.com/Resource/PostalCode...</td>\n",
       "      <td>0</td>\n",
       "      <td>081</td>\n",
       "      <td>3</td>\n",
       "      <td>New Hyde Park</td>\n",
       "      <td>NY</td>\n",
       "      <td>36</td>\n",
       "      <td>6.269333e+06</td>\n",
       "      <td>15749.161511</td>\n",
       "      <td>Queens</td>\n",
       "      <td>POLYGON ((-73.70098278625547 40.73889569923034...</td>\n",
       "      <td>11040</td>\n",
       "      <td>11040</td>\n",
       "    </tr>\n",
       "    <tr>\n",
       "      <th>3</th>\n",
       "      <td>http://nyc.pediacities.com/Resource/PostalCode...</td>\n",
       "      <td>0</td>\n",
       "      <td>081</td>\n",
       "      <td>4</td>\n",
       "      <td>Bellerose</td>\n",
       "      <td>NY</td>\n",
       "      <td>36</td>\n",
       "      <td>4.941836e+07</td>\n",
       "      <td>35932.810639</td>\n",
       "      <td>Queens</td>\n",
       "      <td>POLYGON ((-73.72270447144122 40.75373371438336...</td>\n",
       "      <td>11426</td>\n",
       "      <td>11426</td>\n",
       "    </tr>\n",
       "    <tr>\n",
       "      <th>4</th>\n",
       "      <td>http://nyc.pediacities.com/Resource/PostalCode...</td>\n",
       "      <td>0</td>\n",
       "      <td>081</td>\n",
       "      <td>5</td>\n",
       "      <td>Fresh Meadows</td>\n",
       "      <td>NY</td>\n",
       "      <td>36</td>\n",
       "      <td>6.938587e+07</td>\n",
       "      <td>38693.565676</td>\n",
       "      <td>Queens</td>\n",
       "      <td>POLYGON ((-73.81088634744755 40.72717187575918...</td>\n",
       "      <td>11365</td>\n",
       "      <td>11365</td>\n",
       "    </tr>\n",
       "  </tbody>\n",
       "</table>\n",
       "</div>"
      ],
      "text/plain": [
       "                                                 @id  BLDGpostalCode CTY_FIPS  \\\n",
       "0  http://nyc.pediacities.com/Resource/PostalCode...               0      081   \n",
       "1  http://nyc.pediacities.com/Resource/PostalCode...               0      081   \n",
       "2  http://nyc.pediacities.com/Resource/PostalCode...               0      081   \n",
       "3  http://nyc.pediacities.com/Resource/PostalCode...               0      081   \n",
       "4  http://nyc.pediacities.com/Resource/PostalCode...               0      081   \n",
       "\n",
       "   OBJECTID          PO_NAME STATE ST_FIPS    Shape_Area    Shape_Leng  \\\n",
       "0         1  Jackson Heights    NY      36  2.016328e+07  20624.692317   \n",
       "1         2        Glen Oaks    NY      36  2.260653e+07  23002.816039   \n",
       "2         3    New Hyde Park    NY      36  6.269333e+06  15749.161511   \n",
       "3         4        Bellerose    NY      36  4.941836e+07  35932.810639   \n",
       "4         5    Fresh Meadows    NY      36  6.938587e+07  38693.565676   \n",
       "\n",
       "  borough                                           geometry postalCode   area  \n",
       "0  Queens  POLYGON ((-73.86942457284175 40.74915687096787...      11372  11372  \n",
       "1  Queens  POLYGON ((-73.71068374074007 40.75004039450917...      11004  11004  \n",
       "2  Queens  POLYGON ((-73.70098278625547 40.73889569923034...      11040  11040  \n",
       "3  Queens  POLYGON ((-73.72270447144122 40.75373371438336...      11426  11426  \n",
       "4  Queens  POLYGON ((-73.81088634744755 40.72717187575918...      11365  11365  "
      ]
     },
     "execution_count": 39,
     "metadata": {},
     "output_type": "execute_result"
    }
   ],
   "source": [
    "zc_shape.head(5)"
   ]
  },
  {
   "cell_type": "code",
   "execution_count": 40,
   "metadata": {
    "collapsed": false
   },
   "outputs": [
    {
     "data": {
      "text/plain": [
       "BLDGpostalCode            57\n",
       "OBJECTID               34453\n",
       "Shape_Area        8367606492\n",
       "Shape_Leng           6570529\n",
       "dtype: int64"
      ]
     },
     "execution_count": 40,
     "metadata": {},
     "output_type": "execute_result"
    }
   ],
   "source": [
    "np.sum(zc_shape, axis=0).astype(int)"
   ]
  },
  {
   "cell_type": "markdown",
   "metadata": {},
   "source": [
    "Set new dataframe"
   ]
  },
  {
   "cell_type": "code",
   "execution_count": 41,
   "metadata": {
    "collapsed": false
   },
   "outputs": [
    {
     "data": {
      "text/plain": [
       "Index([           u'@id', u'BLDGpostalCode',       u'CTY_FIPS',\n",
       "             u'OBJECTID',        u'PO_NAME',          u'STATE',\n",
       "              u'ST_FIPS',     u'Shape_Area',     u'Shape_Leng',\n",
       "              u'borough',       u'geometry',     u'postalCode',\n",
       "                 u'area'],\n",
       "      dtype='object')"
      ]
     },
     "execution_count": 41,
     "metadata": {},
     "output_type": "execute_result"
    }
   ],
   "source": [
    "zc_shape.columns\n",
    "\n"
   ]
  },
  {
   "cell_type": "code",
   "execution_count": 42,
   "metadata": {
    "collapsed": true
   },
   "outputs": [],
   "source": [
    "zc_shp_area = zc_shape"
   ]
  },
  {
   "cell_type": "code",
   "execution_count": 43,
   "metadata": {
    "collapsed": true
   },
   "outputs": [],
   "source": [
    "zc_shp_area = zc_shape.drop([u'@id', u'BLDGpostalCode', u'OBJECTID', u'STATE', u'Shape_Area', u'Shape_Leng'], axis = 1)"
   ]
  },
  {
   "cell_type": "code",
   "execution_count": 44,
   "metadata": {
    "collapsed": false
   },
   "outputs": [
    {
     "data": {
      "text/plain": [
       "Index([  u'CTY_FIPS',    u'PO_NAME',    u'ST_FIPS',    u'borough',\n",
       "         u'geometry', u'postalCode',       u'area'],\n",
       "      dtype='object')"
      ]
     },
     "execution_count": 44,
     "metadata": {},
     "output_type": "execute_result"
    }
   ],
   "source": [
    "zc_shp_area.columns"
   ]
  },
  {
   "cell_type": "markdown",
   "metadata": {},
   "source": [
    "Groupby zipcode and aggregate the area(mi^2)\n",
    "\n",
    "Good ref: \n"
   ]
  },
  {
   "cell_type": "code",
   "execution_count": 45,
   "metadata": {
    "collapsed": false
   },
   "outputs": [],
   "source": [
    "aggregations = {'CTY_FIPS' : 'first', 'PO_NAME': 'first','ST_FIPS': 'first','borough': 'first', 'geometry': 'first', 'area': sum}   \n",
    "    \n",
    "zc_group = zc_shp_area.groupby(['postalCode']).agg(aggregations)"
   ]
  },
  {
   "cell_type": "code",
   "execution_count": 46,
   "metadata": {
    "collapsed": false
   },
   "outputs": [
    {
     "data": {
      "text/plain": [
       "247"
      ]
     },
     "execution_count": 46,
     "metadata": {},
     "output_type": "execute_result"
    }
   ],
   "source": [
    "len(zc_group)"
   ]
  },
  {
   "cell_type": "code",
   "execution_count": 47,
   "metadata": {
    "collapsed": false
   },
   "outputs": [
    {
     "data": {
      "text/html": [
       "<div>\n",
       "<table border=\"1\" class=\"dataframe\">\n",
       "  <thead>\n",
       "    <tr style=\"text-align: right;\">\n",
       "      <th></th>\n",
       "      <th>area</th>\n",
       "      <th>geometry</th>\n",
       "      <th>PO_NAME</th>\n",
       "      <th>CTY_FIPS</th>\n",
       "      <th>borough</th>\n",
       "      <th>ST_FIPS</th>\n",
       "    </tr>\n",
       "    <tr>\n",
       "      <th>postalCode</th>\n",
       "      <th></th>\n",
       "      <th></th>\n",
       "      <th></th>\n",
       "      <th></th>\n",
       "      <th></th>\n",
       "      <th></th>\n",
       "    </tr>\n",
       "  </thead>\n",
       "  <tbody>\n",
       "    <tr>\n",
       "      <th>00083</th>\n",
       "      <td>00083</td>\n",
       "      <td>POLYGON ((-73.94922045816276 40.79690988348276...</td>\n",
       "      <td>Central Park</td>\n",
       "      <td>061</td>\n",
       "      <td>Manhattan</td>\n",
       "      <td>36</td>\n",
       "    </tr>\n",
       "    <tr>\n",
       "      <th>10001</th>\n",
       "      <td>10001</td>\n",
       "      <td>POLYGON ((-74.00827017711134 40.75258714368449...</td>\n",
       "      <td>New York</td>\n",
       "      <td>061</td>\n",
       "      <td>Manhattan</td>\n",
       "      <td>36</td>\n",
       "    </tr>\n",
       "    <tr>\n",
       "      <th>10002</th>\n",
       "      <td>10002</td>\n",
       "      <td>POLYGON ((-73.97441674489379 40.73642441865476...</td>\n",
       "      <td>New York</td>\n",
       "      <td>061</td>\n",
       "      <td>Manhattan</td>\n",
       "      <td>36</td>\n",
       "    </tr>\n",
       "    <tr>\n",
       "      <th>10003</th>\n",
       "      <td>10003</td>\n",
       "      <td>POLYGON ((-73.97986374196766 40.73497446573838...</td>\n",
       "      <td>New York</td>\n",
       "      <td>061</td>\n",
       "      <td>Manhattan</td>\n",
       "      <td>36</td>\n",
       "    </tr>\n",
       "    <tr>\n",
       "      <th>10004</th>\n",
       "      <td>10004100041000410004</td>\n",
       "      <td>POLYGON ((-74.00596661578348 40.7043243225291,...</td>\n",
       "      <td>New York</td>\n",
       "      <td>061</td>\n",
       "      <td>Manhattan</td>\n",
       "      <td>36</td>\n",
       "    </tr>\n",
       "  </tbody>\n",
       "</table>\n",
       "</div>"
      ],
      "text/plain": [
       "                            area  \\\n",
       "postalCode                         \n",
       "00083                      00083   \n",
       "10001                      10001   \n",
       "10002                      10002   \n",
       "10003                      10003   \n",
       "10004       10004100041000410004   \n",
       "\n",
       "                                                     geometry       PO_NAME  \\\n",
       "postalCode                                                                    \n",
       "00083       POLYGON ((-73.94922045816276 40.79690988348276...  Central Park   \n",
       "10001       POLYGON ((-74.00827017711134 40.75258714368449...      New York   \n",
       "10002       POLYGON ((-73.97441674489379 40.73642441865476...      New York   \n",
       "10003       POLYGON ((-73.97986374196766 40.73497446573838...      New York   \n",
       "10004       POLYGON ((-74.00596661578348 40.7043243225291,...      New York   \n",
       "\n",
       "           CTY_FIPS    borough ST_FIPS  \n",
       "postalCode                              \n",
       "00083           061  Manhattan      36  \n",
       "10001           061  Manhattan      36  \n",
       "10002           061  Manhattan      36  \n",
       "10003           061  Manhattan      36  \n",
       "10004           061  Manhattan      36  "
      ]
     },
     "execution_count": 47,
     "metadata": {},
     "output_type": "execute_result"
    }
   ],
   "source": [
    "zc_group.head(5)"
   ]
  },
  {
   "cell_type": "code",
   "execution_count": 48,
   "metadata": {
    "collapsed": true
   },
   "outputs": [],
   "source": [
    "zc_group.reset_index(inplace=True)"
   ]
  },
  {
   "cell_type": "code",
   "execution_count": 49,
   "metadata": {
    "collapsed": false
   },
   "outputs": [
    {
     "data": {
      "text/plain": [
       "247"
      ]
     },
     "execution_count": 49,
     "metadata": {},
     "output_type": "execute_result"
    }
   ],
   "source": [
    "len(zc_group.postalCode.unique())"
   ]
  },
  {
   "cell_type": "code",
   "execution_count": null,
   "metadata": {
    "collapsed": true
   },
   "outputs": [],
   "source": []
  },
  {
   "cell_type": "markdown",
   "metadata": {},
   "source": [
    "## Merge the Biz files onto our new Zip Code file"
   ]
  },
  {
   "cell_type": "code",
   "execution_count": null,
   "metadata": {
    "collapsed": true
   },
   "outputs": [],
   "source": []
  },
  {
   "cell_type": "code",
   "execution_count": 56,
   "metadata": {
    "collapsed": true
   },
   "outputs": [],
   "source": [
    "zip_biz2000 = zc_group.join(biz2000[['est2000']])"
   ]
  },
  {
   "cell_type": "code",
   "execution_count": 57,
   "metadata": {
    "collapsed": false
   },
   "outputs": [
    {
     "data": {
      "text/html": [
       "<div>\n",
       "<table border=\"1\" class=\"dataframe\">\n",
       "  <thead>\n",
       "    <tr style=\"text-align: right;\">\n",
       "      <th></th>\n",
       "      <th>postalCode</th>\n",
       "      <th>area</th>\n",
       "      <th>geometry</th>\n",
       "      <th>PO_NAME</th>\n",
       "      <th>CTY_FIPS</th>\n",
       "      <th>borough</th>\n",
       "      <th>ST_FIPS</th>\n",
       "      <th>est2000</th>\n",
       "    </tr>\n",
       "  </thead>\n",
       "  <tbody>\n",
       "    <tr>\n",
       "      <th>0</th>\n",
       "      <td>00083</td>\n",
       "      <td>00083</td>\n",
       "      <td>POLYGON ((-73.94922045816276 40.79690988348276...</td>\n",
       "      <td>Central Park</td>\n",
       "      <td>061</td>\n",
       "      <td>Manhattan</td>\n",
       "      <td>36</td>\n",
       "      <td>7317.0</td>\n",
       "    </tr>\n",
       "    <tr>\n",
       "      <th>1</th>\n",
       "      <td>10001</td>\n",
       "      <td>10001</td>\n",
       "      <td>POLYGON ((-74.00827017711134 40.75258714368449...</td>\n",
       "      <td>New York</td>\n",
       "      <td>061</td>\n",
       "      <td>Manhattan</td>\n",
       "      <td>36</td>\n",
       "      <td>2277.0</td>\n",
       "    </tr>\n",
       "    <tr>\n",
       "      <th>2</th>\n",
       "      <td>10002</td>\n",
       "      <td>10002</td>\n",
       "      <td>POLYGON ((-73.97441674489379 40.73642441865476...</td>\n",
       "      <td>New York</td>\n",
       "      <td>061</td>\n",
       "      <td>Manhattan</td>\n",
       "      <td>36</td>\n",
       "      <td>3683.0</td>\n",
       "    </tr>\n",
       "    <tr>\n",
       "      <th>3</th>\n",
       "      <td>10003</td>\n",
       "      <td>10003</td>\n",
       "      <td>POLYGON ((-73.97986374196766 40.73497446573838...</td>\n",
       "      <td>New York</td>\n",
       "      <td>061</td>\n",
       "      <td>Manhattan</td>\n",
       "      <td>36</td>\n",
       "      <td>1294.0</td>\n",
       "    </tr>\n",
       "    <tr>\n",
       "      <th>4</th>\n",
       "      <td>10004</td>\n",
       "      <td>10004100041000410004</td>\n",
       "      <td>POLYGON ((-74.00596661578348 40.7043243225291,...</td>\n",
       "      <td>New York</td>\n",
       "      <td>061</td>\n",
       "      <td>Manhattan</td>\n",
       "      <td>36</td>\n",
       "      <td>1287.0</td>\n",
       "    </tr>\n",
       "  </tbody>\n",
       "</table>\n",
       "</div>"
      ],
      "text/plain": [
       "  postalCode                  area  \\\n",
       "0      00083                 00083   \n",
       "1      10001                 10001   \n",
       "2      10002                 10002   \n",
       "3      10003                 10003   \n",
       "4      10004  10004100041000410004   \n",
       "\n",
       "                                            geometry       PO_NAME CTY_FIPS  \\\n",
       "0  POLYGON ((-73.94922045816276 40.79690988348276...  Central Park      061   \n",
       "1  POLYGON ((-74.00827017711134 40.75258714368449...      New York      061   \n",
       "2  POLYGON ((-73.97441674489379 40.73642441865476...      New York      061   \n",
       "3  POLYGON ((-73.97986374196766 40.73497446573838...      New York      061   \n",
       "4  POLYGON ((-74.00596661578348 40.7043243225291,...      New York      061   \n",
       "\n",
       "     borough ST_FIPS  est2000  \n",
       "0  Manhattan      36   7317.0  \n",
       "1  Manhattan      36   2277.0  \n",
       "2  Manhattan      36   3683.0  \n",
       "3  Manhattan      36   1294.0  \n",
       "4  Manhattan      36   1287.0  "
      ]
     },
     "execution_count": 57,
     "metadata": {},
     "output_type": "execute_result"
    }
   ],
   "source": [
    "zip_biz2000.head(5)"
   ]
  },
  {
   "cell_type": "code",
   "execution_count": 58,
   "metadata": {
    "collapsed": true
   },
   "outputs": [],
   "source": [
    "zip_biz2000 = zip_biz2010.drop([u'PO_NAME', u'CTY_FIPS', u'area'], axis = 1)\n"
   ]
  },
  {
   "cell_type": "code",
   "execution_count": 59,
   "metadata": {
    "collapsed": true
   },
   "outputs": [],
   "source": [
    "zip_biz2000['zip'] = zip_biz2000['postalCode']"
   ]
  },
  {
   "cell_type": "code",
   "execution_count": 61,
   "metadata": {
    "collapsed": false
   },
   "outputs": [
    {
     "ename": "AttributeError",
     "evalue": "'Series' object has no attribute 'area'",
     "output_type": "error",
     "traceback": [
      "\u001b[0;31m\u001b[0m",
      "\u001b[0;31mAttributeError\u001b[0mTraceback (most recent call last)",
      "\u001b[0;32m<ipython-input-61-e97cd5fa5bf3>\u001b[0m in \u001b[0;36m<module>\u001b[0;34m()\u001b[0m\n\u001b[0;32m----> 1\u001b[0;31m \u001b[0mzip_biz2000\u001b[0m\u001b[0;34m[\u001b[0m\u001b[0;34m'area'\u001b[0m\u001b[0;34m]\u001b[0m \u001b[0;34m=\u001b[0m \u001b[0mzip_biz2000\u001b[0m\u001b[0;34m[\u001b[0m\u001b[0;34m'geometry'\u001b[0m\u001b[0;34m]\u001b[0m\u001b[0;34m.\u001b[0m\u001b[0marea\u001b[0m \u001b[0;34m/\u001b[0m\u001b[0;34m(\u001b[0m\u001b[0;36m2.788\u001b[0m\u001b[0;34m*\u001b[0m\u001b[0;36m10\u001b[0m\u001b[0;34m**\u001b[0m\u001b[0;36m7\u001b[0m\u001b[0;34m)\u001b[0m \u001b[0;31m# from ft2 to mi2\u001b[0m\u001b[0;34m\u001b[0m\u001b[0m\n\u001b[0m",
      "\u001b[0;32m/opt/rh/anaconda/root/envs/PUI2016_Python2/lib/python2.7/site-packages/pandas/core/generic.pyc\u001b[0m in \u001b[0;36m__getattr__\u001b[0;34m(self, name)\u001b[0m\n\u001b[1;32m   2670\u001b[0m             \u001b[0;32mif\u001b[0m \u001b[0mname\u001b[0m \u001b[0;32min\u001b[0m \u001b[0mself\u001b[0m\u001b[0;34m.\u001b[0m\u001b[0m_info_axis\u001b[0m\u001b[0;34m:\u001b[0m\u001b[0;34m\u001b[0m\u001b[0m\n\u001b[1;32m   2671\u001b[0m                 \u001b[0;32mreturn\u001b[0m \u001b[0mself\u001b[0m\u001b[0;34m[\u001b[0m\u001b[0mname\u001b[0m\u001b[0;34m]\u001b[0m\u001b[0;34m\u001b[0m\u001b[0m\n\u001b[0;32m-> 2672\u001b[0;31m             \u001b[0;32mreturn\u001b[0m \u001b[0mobject\u001b[0m\u001b[0;34m.\u001b[0m\u001b[0m__getattribute__\u001b[0m\u001b[0;34m(\u001b[0m\u001b[0mself\u001b[0m\u001b[0;34m,\u001b[0m \u001b[0mname\u001b[0m\u001b[0;34m)\u001b[0m\u001b[0;34m\u001b[0m\u001b[0m\n\u001b[0m\u001b[1;32m   2673\u001b[0m \u001b[0;34m\u001b[0m\u001b[0m\n\u001b[1;32m   2674\u001b[0m     \u001b[0;32mdef\u001b[0m \u001b[0m__setattr__\u001b[0m\u001b[0;34m(\u001b[0m\u001b[0mself\u001b[0m\u001b[0;34m,\u001b[0m \u001b[0mname\u001b[0m\u001b[0;34m,\u001b[0m \u001b[0mvalue\u001b[0m\u001b[0;34m)\u001b[0m\u001b[0;34m:\u001b[0m\u001b[0;34m\u001b[0m\u001b[0m\n",
      "\u001b[0;31mAttributeError\u001b[0m: 'Series' object has no attribute 'area'"
     ]
    }
   ],
   "source": [
    "zip_biz2000['area'] = zip_biz2000['geometry'].area /(2.788*10**7) # from ft2 to mi2"
   ]
  },
  {
   "cell_type": "code",
   "execution_count": 55,
   "metadata": {
    "collapsed": false
   },
   "outputs": [
    {
     "ename": "TypeError",
     "evalue": "unsupported operand type(s) for /: 'float' and 'str'",
     "output_type": "error",
     "traceback": [
      "\u001b[0;31m\u001b[0m",
      "\u001b[0;31mTypeError\u001b[0mTraceback (most recent call last)",
      "\u001b[0;32m<ipython-input-55-605e5f3e6a74>\u001b[0m in \u001b[0;36m<module>\u001b[0;34m()\u001b[0m\n\u001b[0;32m----> 1\u001b[0;31m \u001b[0mzip_biz2000den\u001b[0m\u001b[0;34m[\u001b[0m\u001b[0;34m'densitybiz'\u001b[0m\u001b[0;34m]\u001b[0m \u001b[0;34m=\u001b[0m \u001b[0;34m(\u001b[0m\u001b[0mzip_biz2000\u001b[0m\u001b[0;34m[\u001b[0m\u001b[0;34m'est2000'\u001b[0m\u001b[0;34m]\u001b[0m \u001b[0;34m/\u001b[0m \u001b[0mzip_biz2000\u001b[0m\u001b[0;34m[\u001b[0m\u001b[0;34m'area'\u001b[0m\u001b[0;34m]\u001b[0m\u001b[0;34m)\u001b[0m\u001b[0;34m\u001b[0m\u001b[0m\n\u001b[0m",
      "\u001b[0;32m/opt/rh/anaconda/root/envs/PUI2016_Python2/lib/python2.7/site-packages/pandas/core/ops.pyc\u001b[0m in \u001b[0;36mwrapper\u001b[0;34m(left, right, name, na_op)\u001b[0m\n\u001b[1;32m    639\u001b[0m                     \u001b[0mrvalues\u001b[0m \u001b[0;34m=\u001b[0m \u001b[0malgos\u001b[0m\u001b[0;34m.\u001b[0m\u001b[0mtake_1d\u001b[0m\u001b[0;34m(\u001b[0m\u001b[0mrvalues\u001b[0m\u001b[0;34m,\u001b[0m \u001b[0mridx\u001b[0m\u001b[0;34m)\u001b[0m\u001b[0;34m\u001b[0m\u001b[0m\n\u001b[1;32m    640\u001b[0m \u001b[0;34m\u001b[0m\u001b[0m\n\u001b[0;32m--> 641\u001b[0;31m             \u001b[0marr\u001b[0m \u001b[0;34m=\u001b[0m \u001b[0mna_op\u001b[0m\u001b[0;34m(\u001b[0m\u001b[0mlvalues\u001b[0m\u001b[0;34m,\u001b[0m \u001b[0mrvalues\u001b[0m\u001b[0;34m)\u001b[0m\u001b[0;34m\u001b[0m\u001b[0m\n\u001b[0m\u001b[1;32m    642\u001b[0m \u001b[0;34m\u001b[0m\u001b[0m\n\u001b[1;32m    643\u001b[0m             return left._constructor(wrap_results(arr), index=index,\n",
      "\u001b[0;32m/opt/rh/anaconda/root/envs/PUI2016_Python2/lib/python2.7/site-packages/pandas/core/ops.pyc\u001b[0m in \u001b[0;36mna_op\u001b[0;34m(x, y)\u001b[0m\n\u001b[1;32m    586\u001b[0m                 \u001b[0mresult\u001b[0m \u001b[0;34m=\u001b[0m \u001b[0mnp\u001b[0m\u001b[0;34m.\u001b[0m\u001b[0mempty\u001b[0m\u001b[0;34m(\u001b[0m\u001b[0mx\u001b[0m\u001b[0;34m.\u001b[0m\u001b[0msize\u001b[0m\u001b[0;34m,\u001b[0m \u001b[0mdtype\u001b[0m\u001b[0;34m=\u001b[0m\u001b[0mdtype\u001b[0m\u001b[0;34m)\u001b[0m\u001b[0;34m\u001b[0m\u001b[0m\n\u001b[1;32m    587\u001b[0m                 \u001b[0mmask\u001b[0m \u001b[0;34m=\u001b[0m \u001b[0mnotnull\u001b[0m\u001b[0;34m(\u001b[0m\u001b[0mx\u001b[0m\u001b[0;34m)\u001b[0m \u001b[0;34m&\u001b[0m \u001b[0mnotnull\u001b[0m\u001b[0;34m(\u001b[0m\u001b[0my\u001b[0m\u001b[0;34m)\u001b[0m\u001b[0;34m\u001b[0m\u001b[0m\n\u001b[0;32m--> 588\u001b[0;31m                 \u001b[0mresult\u001b[0m\u001b[0;34m[\u001b[0m\u001b[0mmask\u001b[0m\u001b[0;34m]\u001b[0m \u001b[0;34m=\u001b[0m \u001b[0mop\u001b[0m\u001b[0;34m(\u001b[0m\u001b[0mx\u001b[0m\u001b[0;34m[\u001b[0m\u001b[0mmask\u001b[0m\u001b[0;34m]\u001b[0m\u001b[0;34m,\u001b[0m \u001b[0m_values_from_object\u001b[0m\u001b[0;34m(\u001b[0m\u001b[0my\u001b[0m\u001b[0;34m[\u001b[0m\u001b[0mmask\u001b[0m\u001b[0;34m]\u001b[0m\u001b[0;34m)\u001b[0m\u001b[0;34m)\u001b[0m\u001b[0;34m\u001b[0m\u001b[0m\n\u001b[0m\u001b[1;32m    589\u001b[0m             \u001b[0;32melif\u001b[0m \u001b[0misinstance\u001b[0m\u001b[0;34m(\u001b[0m\u001b[0mx\u001b[0m\u001b[0;34m,\u001b[0m \u001b[0mnp\u001b[0m\u001b[0;34m.\u001b[0m\u001b[0mndarray\u001b[0m\u001b[0;34m)\u001b[0m\u001b[0;34m:\u001b[0m\u001b[0;34m\u001b[0m\u001b[0m\n\u001b[1;32m    590\u001b[0m                 \u001b[0mresult\u001b[0m \u001b[0;34m=\u001b[0m \u001b[0mnp\u001b[0m\u001b[0;34m.\u001b[0m\u001b[0mempty\u001b[0m\u001b[0;34m(\u001b[0m\u001b[0mlen\u001b[0m\u001b[0;34m(\u001b[0m\u001b[0mx\u001b[0m\u001b[0;34m)\u001b[0m\u001b[0;34m,\u001b[0m \u001b[0mdtype\u001b[0m\u001b[0;34m=\u001b[0m\u001b[0mx\u001b[0m\u001b[0;34m.\u001b[0m\u001b[0mdtype\u001b[0m\u001b[0;34m)\u001b[0m\u001b[0;34m\u001b[0m\u001b[0m\n",
      "\u001b[0;31mTypeError\u001b[0m: unsupported operand type(s) for /: 'float' and 'str'"
     ]
    }
   ],
   "source": [
    "zip_biz2000den['densitybiz'] = (zip_biz2000['est2000'] / zip_biz2000['area'])"
   ]
  },
  {
   "cell_type": "code",
   "execution_count": null,
   "metadata": {
    "collapsed": true
   },
   "outputs": [],
   "source": [
    "zip_biz2000den.head(5)"
   ]
  },
  {
   "cell_type": "code",
   "execution_count": null,
   "metadata": {
    "collapsed": true
   },
   "outputs": [],
   "source": []
  },
  {
   "cell_type": "code",
   "execution_count": null,
   "metadata": {
    "collapsed": true
   },
   "outputs": [],
   "source": []
  },
  {
   "cell_type": "code",
   "execution_count": null,
   "metadata": {
    "collapsed": true
   },
   "outputs": [],
   "source": []
  },
  {
   "cell_type": "code",
   "execution_count": null,
   "metadata": {
    "collapsed": true
   },
   "outputs": [],
   "source": [
    "zip_biz2010['densitybiz'] = (zip_biz2010['est2010'] / zip_biz2010['area'])"
   ]
  },
  {
   "cell_type": "code",
   "execution_count": 53,
   "metadata": {
    "collapsed": false
   },
   "outputs": [],
   "source": [
    "zip_biz2010 = zc_group.join(biz2010[['est2010']])"
   ]
  },
  {
   "cell_type": "code",
   "execution_count": 54,
   "metadata": {
    "collapsed": false
   },
   "outputs": [
    {
     "data": {
      "text/html": [
       "<div>\n",
       "<table border=\"1\" class=\"dataframe\">\n",
       "  <thead>\n",
       "    <tr style=\"text-align: right;\">\n",
       "      <th></th>\n",
       "      <th>postalCode</th>\n",
       "      <th>area</th>\n",
       "      <th>geometry</th>\n",
       "      <th>PO_NAME</th>\n",
       "      <th>CTY_FIPS</th>\n",
       "      <th>borough</th>\n",
       "      <th>ST_FIPS</th>\n",
       "      <th>est2010</th>\n",
       "    </tr>\n",
       "  </thead>\n",
       "  <tbody>\n",
       "    <tr>\n",
       "      <th>0</th>\n",
       "      <td>00083</td>\n",
       "      <td>00083</td>\n",
       "      <td>POLYGON ((-73.94922045816276 40.79690988348276...</td>\n",
       "      <td>Central Park</td>\n",
       "      <td>061</td>\n",
       "      <td>Manhattan</td>\n",
       "      <td>36</td>\n",
       "      <td>7241.0</td>\n",
       "    </tr>\n",
       "    <tr>\n",
       "      <th>1</th>\n",
       "      <td>10001</td>\n",
       "      <td>10001</td>\n",
       "      <td>POLYGON ((-74.00827017711134 40.75258714368449...</td>\n",
       "      <td>New York</td>\n",
       "      <td>061</td>\n",
       "      <td>Manhattan</td>\n",
       "      <td>36</td>\n",
       "      <td>2872.0</td>\n",
       "    </tr>\n",
       "    <tr>\n",
       "      <th>2</th>\n",
       "      <td>10002</td>\n",
       "      <td>10002</td>\n",
       "      <td>POLYGON ((-73.97441674489379 40.73642441865476...</td>\n",
       "      <td>New York</td>\n",
       "      <td>061</td>\n",
       "      <td>Manhattan</td>\n",
       "      <td>36</td>\n",
       "      <td>4113.0</td>\n",
       "    </tr>\n",
       "    <tr>\n",
       "      <th>3</th>\n",
       "      <td>10003</td>\n",
       "      <td>10003</td>\n",
       "      <td>POLYGON ((-73.97986374196766 40.73497446573838...</td>\n",
       "      <td>New York</td>\n",
       "      <td>061</td>\n",
       "      <td>Manhattan</td>\n",
       "      <td>36</td>\n",
       "      <td>1398.0</td>\n",
       "    </tr>\n",
       "    <tr>\n",
       "      <th>4</th>\n",
       "      <td>10004</td>\n",
       "      <td>10004100041000410004</td>\n",
       "      <td>POLYGON ((-74.00596661578348 40.7043243225291,...</td>\n",
       "      <td>New York</td>\n",
       "      <td>061</td>\n",
       "      <td>Manhattan</td>\n",
       "      <td>36</td>\n",
       "      <td>1266.0</td>\n",
       "    </tr>\n",
       "  </tbody>\n",
       "</table>\n",
       "</div>"
      ],
      "text/plain": [
       "  postalCode                  area  \\\n",
       "0      00083                 00083   \n",
       "1      10001                 10001   \n",
       "2      10002                 10002   \n",
       "3      10003                 10003   \n",
       "4      10004  10004100041000410004   \n",
       "\n",
       "                                            geometry       PO_NAME CTY_FIPS  \\\n",
       "0  POLYGON ((-73.94922045816276 40.79690988348276...  Central Park      061   \n",
       "1  POLYGON ((-74.00827017711134 40.75258714368449...      New York      061   \n",
       "2  POLYGON ((-73.97441674489379 40.73642441865476...      New York      061   \n",
       "3  POLYGON ((-73.97986374196766 40.73497446573838...      New York      061   \n",
       "4  POLYGON ((-74.00596661578348 40.7043243225291,...      New York      061   \n",
       "\n",
       "     borough ST_FIPS  est2010  \n",
       "0  Manhattan      36   7241.0  \n",
       "1  Manhattan      36   2872.0  \n",
       "2  Manhattan      36   4113.0  \n",
       "3  Manhattan      36   1398.0  \n",
       "4  Manhattan      36   1266.0  "
      ]
     },
     "execution_count": 54,
     "metadata": {},
     "output_type": "execute_result"
    }
   ],
   "source": [
    "zip_biz2010.head(5)"
   ]
  },
  {
   "cell_type": "code",
   "execution_count": null,
   "metadata": {
    "collapsed": true
   },
   "outputs": [],
   "source": [
    "this should fail"
   ]
  },
  {
   "cell_type": "code",
   "execution_count": null,
   "metadata": {
    "collapsed": true
   },
   "outputs": [],
   "source": []
  },
  {
   "cell_type": "code",
   "execution_count": null,
   "metadata": {
    "collapsed": true
   },
   "outputs": [],
   "source": []
  },
  {
   "cell_type": "markdown",
   "metadata": {},
   "source": [
    "### First biz 2000"
   ]
  },
  {
   "cell_type": "code",
   "execution_count": null,
   "metadata": {
    "collapsed": false
   },
   "outputs": [],
   "source": [
    "zip_biz2000.columns\n"
   ]
  },
  {
   "cell_type": "code",
   "execution_count": null,
   "metadata": {
    "collapsed": true
   },
   "outputs": [],
   "source": [
    "#Clean\n",
    "zip_biz2000 = zip_biz2000.drop([u'PO_NAME', u'year'], axis = 1)"
   ]
  },
  {
   "cell_type": "code",
   "execution_count": null,
   "metadata": {
    "collapsed": false
   },
   "outputs": [],
   "source": [
    "#create Density field\n",
    "zip_biz2000['densitybiz'] = (zip_biz2000['est2000'] / zip_biz2000['area'])"
   ]
  },
  {
   "cell_type": "code",
   "execution_count": null,
   "metadata": {
    "collapsed": false
   },
   "outputs": [],
   "source": [
    "zip_biz2000.head(5)"
   ]
  },
  {
   "cell_type": "markdown",
   "metadata": {},
   "source": [
    "### Second biz 2010"
   ]
  },
  {
   "cell_type": "code",
   "execution_count": null,
   "metadata": {
    "collapsed": false
   },
   "outputs": [],
   "source": [
    "dtype(biz2010['zip'])"
   ]
  },
  {
   "cell_type": "code",
   "execution_count": null,
   "metadata": {
    "collapsed": true
   },
   "outputs": [],
   "source": [
    "zip_biz2010 = pd.merge(zc_group, biz2010, left_on='postalCode', right_on='zip', how='right',)"
   ]
  },
  {
   "cell_type": "code",
   "execution_count": null,
   "metadata": {
    "collapsed": false
   },
   "outputs": [],
   "source": [
    "zip_biz2010.head(5)"
   ]
  },
  {
   "cell_type": "code",
   "execution_count": null,
   "metadata": {
    "collapsed": true
   },
   "outputs": [],
   "source": [
    "#Clean\n",
    "zip_biz2010 = zip_biz2010.drop([u'PO_NAME', u'year'], axis = 1)"
   ]
  },
  {
   "cell_type": "code",
   "execution_count": null,
   "metadata": {
    "collapsed": false
   },
   "outputs": [],
   "source": [
    "#create Density field\n",
    "zip_biz2010['densitybiz'] = (zip_biz2010['est2010'] / zip_biz2010['area'])"
   ]
  },
  {
   "cell_type": "code",
   "execution_count": null,
   "metadata": {
    "collapsed": false
   },
   "outputs": [],
   "source": [
    "zip_biz2010.head(5)"
   ]
  },
  {
   "cell_type": "markdown",
   "metadata": {},
   "source": [
    "Sanity Check zip_biz2010['area']) for 10005 =.07sqmi in our table\n",
    "\n",
    "http://www.unitedstateszipcodes.org/10005/ lists 10005 as \"Land Area 0.07 sq mi\""
   ]
  },
  {
   "cell_type": "code",
   "execution_count": null,
   "metadata": {
    "collapsed": true
   },
   "outputs": [],
   "source": []
  },
  {
   "cell_type": "code",
   "execution_count": null,
   "metadata": {
    "collapsed": false
   },
   "outputs": [],
   "source": [
    "#f, ax = plt.subplots(figsize=(10,10))\n",
    "#ax.get_xaxis().set_visible(False)\n",
    "#ax.get_yaxis().set_visible(False)\n",
    "#geo_zip_biz2010.plot(column='densitybiz',cmap = ,alpha=1,linewidth=0.1,ax=ax)\n",
    "#plt.title(\"Census Tract map of Brooklyn\")"
   ]
  },
  {
   "cell_type": "code",
   "execution_count": null,
   "metadata": {
    "collapsed": false,
    "scrolled": true
   },
   "outputs": [],
   "source": [
    "\n",
    "#f, ax = plt.subplots(figsize=(10,10))\n",
    "#ax.get_xaxis().set_visible(False)\n",
    "#ax.get_yaxis().set_visible(False)\n",
    "#geo_zip_biz2010.plot(column='densitybiz', colormap='Greys',alpha=1,linewidth=0.1,ax=ax)\n",
    "#plt.title(\"Population Density\")"
   ]
  },
  {
   "cell_type": "code",
   "execution_count": null,
   "metadata": {
    "collapsed": true
   },
   "outputs": [],
   "source": []
  }
 ],
 "metadata": {
  "kernelspec": {
   "display_name": "PUI2016_Python2",
   "language": "python",
   "name": "pui2016_python2"
  },
  "language_info": {
   "codemirror_mode": {
    "name": "ipython",
    "version": 2
   },
   "file_extension": ".py",
   "mimetype": "text/x-python",
   "name": "python",
   "nbconvert_exporter": "python",
   "pygments_lexer": "ipython2",
   "version": "2.7.12"
  }
 },
 "nbformat": 4,
 "nbformat_minor": 0
}
