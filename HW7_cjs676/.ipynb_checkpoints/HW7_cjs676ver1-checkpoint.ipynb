{
 "cells": [
  {
   "cell_type": "code",
   "execution_count": 23,
   "metadata": {
    "collapsed": false
   },
   "outputs": [
    {
     "name": "stdout",
     "output_type": "stream",
     "text": [
      "Populating the interactive namespace from numpy and matplotlib\n"
     ]
    }
   ],
   "source": [
    "import pylab as pl\n",
    "import pandas as pd\n",
    "import numpy as np\n",
    "import scipy.stats\n",
    "import statsmodels.api as sm\n",
    "%pylab inline\n",
    "from dateutil.parser import parse\n",
    "import os\n",
    "\n",
    "\n"
   ]
  },
  {
   "cell_type": "code",
   "execution_count": 12,
   "metadata": {
    "collapsed": false
   },
   "outputs": [],
   "source": [
    "dataframe = pd.read_csv('https://data.cityofnewyork.us/api/views/32y8-s55c/rows.csv?accessType=DOWNLOAD')"
   ]
  },
  {
   "cell_type": "code",
   "execution_count": 13,
   "metadata": {
    "collapsed": false
   },
   "outputs": [
    {
     "data": {
      "text/html": [
       "<div>\n",
       "<table border=\"1\" class=\"dataframe\">\n",
       "  <thead>\n",
       "    <tr style=\"text-align: right;\">\n",
       "      <th></th>\n",
       "      <th>Rank</th>\n",
       "      <th>Name</th>\n",
       "      <th>Unit</th>\n",
       "      <th>Date</th>\n",
       "    </tr>\n",
       "  </thead>\n",
       "  <tbody>\n",
       "    <tr>\n",
       "      <th>0</th>\n",
       "      <td>FIREFIGHTER</td>\n",
       "      <td>ROBERT WINTRINGHAM</td>\n",
       "      <td>ENGINE 1</td>\n",
       "      <td>AUGUST 24, 1865</td>\n",
       "    </tr>\n",
       "    <tr>\n",
       "      <th>1</th>\n",
       "      <td>FIREFIGHTER</td>\n",
       "      <td>GEORGE BELL</td>\n",
       "      <td>ENGINE 8</td>\n",
       "      <td>NOVEMBER 8, 1865</td>\n",
       "    </tr>\n",
       "    <tr>\n",
       "      <th>2</th>\n",
       "      <td>FIREFIGHTER</td>\n",
       "      <td>THOMAS IRVIN</td>\n",
       "      <td>ENGINE 4</td>\n",
       "      <td>DECEMBER 2, 1865</td>\n",
       "    </tr>\n",
       "    <tr>\n",
       "      <th>3</th>\n",
       "      <td>FIREFIGHTER</td>\n",
       "      <td>DOMINICK SICOT</td>\n",
       "      <td>ENGINE 4</td>\n",
       "      <td>DECEMBER 14, 1865</td>\n",
       "    </tr>\n",
       "    <tr>\n",
       "      <th>4</th>\n",
       "      <td>FIREFIGHTER</td>\n",
       "      <td>PETER H. WALSH</td>\n",
       "      <td>ENGINE 5</td>\n",
       "      <td>MAY 21, 1866</td>\n",
       "    </tr>\n",
       "  </tbody>\n",
       "</table>\n",
       "</div>"
      ],
      "text/plain": [
       "          Rank                Name      Unit               Date\n",
       "0  FIREFIGHTER  ROBERT WINTRINGHAM  ENGINE 1    AUGUST 24, 1865\n",
       "1  FIREFIGHTER         GEORGE BELL  ENGINE 8   NOVEMBER 8, 1865\n",
       "2  FIREFIGHTER        THOMAS IRVIN  ENGINE 4   DECEMBER 2, 1865\n",
       "3  FIREFIGHTER      DOMINICK SICOT  ENGINE 4  DECEMBER 14, 1865\n",
       "4  FIREFIGHTER      PETER H. WALSH  ENGINE 5       MAY 21, 1866"
      ]
     },
     "execution_count": 13,
     "metadata": {},
     "output_type": "execute_result"
    }
   ],
   "source": [
    "dataframe.head(5)"
   ]
  },
  {
   "cell_type": "code",
   "execution_count": 15,
   "metadata": {
    "collapsed": false
   },
   "outputs": [
    {
     "data": {
      "text/plain": [
       "Index(['Rank', 'Name', 'Unit', 'Date'], dtype='object')"
      ]
     },
     "execution_count": 15,
     "metadata": {},
     "output_type": "execute_result"
    }
   ],
   "source": [
    "dataframe.columns"
   ]
  },
  {
   "cell_type": "code",
   "execution_count": 16,
   "metadata": {
    "collapsed": false
   },
   "outputs": [
    {
     "data": {
      "text/plain": [
       "0      1865-08-24\n",
       "1      1865-11-08\n",
       "2      1865-12-02\n",
       "3      1865-12-14\n",
       "4      1866-05-21\n",
       "5      1866-05-21\n",
       "6      1867-08-27\n",
       "7      1868-04-16\n",
       "8      1869-10-06\n",
       "9      1869-10-24\n",
       "10     1870-12-04\n",
       "11     1871-03-27\n",
       "12     1872-06-29\n",
       "13     1872-09-08\n",
       "14     1873-02-09\n",
       "15     1873-10-24\n",
       "16     1874-08-16\n",
       "17     1875-09-14\n",
       "18     1875-09-14\n",
       "19     1875-09-14\n",
       "20     1876-02-08\n",
       "21     1876-02-08\n",
       "22     1876-02-11\n",
       "23     1877-11-01\n",
       "24     1878-03-14\n",
       "25     1879-01-07\n",
       "26     1879-01-14\n",
       "27     1879-12-09\n",
       "28     1880-01-01\n",
       "29     1880-01-20\n",
       "          ...    \n",
       "1139   2001-09-11\n",
       "1140   2001-09-11\n",
       "1141   2001-09-11\n",
       "1142   2001-09-11\n",
       "1143   2001-09-11\n",
       "1144   2001-09-11\n",
       "1145   2001-09-11\n",
       "1146   2001-09-11\n",
       "1147   2001-09-11\n",
       "1148   2001-09-11\n",
       "1149   2001-09-11\n",
       "1150   2001-09-11\n",
       "1151   2002-04-18\n",
       "1152   2003-09-27\n",
       "1153   2003-12-16\n",
       "1154   2004-11-29\n",
       "1155   2005-01-23\n",
       "1156   2005-01-23\n",
       "1157   2005-01-23\n",
       "1158   2005-04-23\n",
       "1159   2006-08-27\n",
       "1160   2006-08-28\n",
       "1161   2007-06-21\n",
       "1162   2007-08-18\n",
       "1163   2007-08-18\n",
       "1164   2008-01-03\n",
       "1165   2008-11-11\n",
       "1166   2008-11-23\n",
       "1167   2009-08-14\n",
       "1168   2012-04-16\n",
       "Name: Date, dtype: datetime64[ns]"
      ]
     },
     "execution_count": 16,
     "metadata": {},
     "output_type": "execute_result"
    }
   ],
   "source": [
    "pd.to_datetime(dataframe['Date'])"
   ]
  },
  {
   "cell_type": "code",
   "execution_count": 20,
   "metadata": {
    "collapsed": false
   },
   "outputs": [],
   "source": [
    "dataframe['Date2'] = pd.to_datetime(dataframe['Date'])\n"
   ]
  },
  {
   "cell_type": "code",
   "execution_count": null,
   "metadata": {
    "collapsed": true
   },
   "outputs": [],
   "source": []
  },
  {
   "cell_type": "code",
   "execution_count": 21,
   "metadata": {
    "collapsed": false
   },
   "outputs": [
    {
     "data": {
      "text/html": [
       "<div>\n",
       "<table border=\"1\" class=\"dataframe\">\n",
       "  <thead>\n",
       "    <tr style=\"text-align: right;\">\n",
       "      <th></th>\n",
       "      <th>Rank</th>\n",
       "      <th>Name</th>\n",
       "      <th>Unit</th>\n",
       "      <th>Date</th>\n",
       "      <th>Date2</th>\n",
       "    </tr>\n",
       "  </thead>\n",
       "  <tbody>\n",
       "    <tr>\n",
       "      <th>0</th>\n",
       "      <td>FIREFIGHTER</td>\n",
       "      <td>ROBERT WINTRINGHAM</td>\n",
       "      <td>ENGINE 1</td>\n",
       "      <td>AUGUST 24, 1865</td>\n",
       "      <td>1865-08-24</td>\n",
       "    </tr>\n",
       "    <tr>\n",
       "      <th>1</th>\n",
       "      <td>FIREFIGHTER</td>\n",
       "      <td>GEORGE BELL</td>\n",
       "      <td>ENGINE 8</td>\n",
       "      <td>NOVEMBER 8, 1865</td>\n",
       "      <td>1865-11-08</td>\n",
       "    </tr>\n",
       "    <tr>\n",
       "      <th>2</th>\n",
       "      <td>FIREFIGHTER</td>\n",
       "      <td>THOMAS IRVIN</td>\n",
       "      <td>ENGINE 4</td>\n",
       "      <td>DECEMBER 2, 1865</td>\n",
       "      <td>1865-12-02</td>\n",
       "    </tr>\n",
       "  </tbody>\n",
       "</table>\n",
       "</div>"
      ],
      "text/plain": [
       "          Rank                Name      Unit              Date      Date2\n",
       "0  FIREFIGHTER  ROBERT WINTRINGHAM  ENGINE 1   AUGUST 24, 1865 1865-08-24\n",
       "1  FIREFIGHTER         GEORGE BELL  ENGINE 8  NOVEMBER 8, 1865 1865-11-08\n",
       "2  FIREFIGHTER        THOMAS IRVIN  ENGINE 4  DECEMBER 2, 1865 1865-12-02"
      ]
     },
     "execution_count": 21,
     "metadata": {},
     "output_type": "execute_result"
    }
   ],
   "source": [
    "dataframe.head(3)\n"
   ]
  },
  {
   "cell_type": "code",
   "execution_count": 25,
   "metadata": {
    "collapsed": false
   },
   "outputs": [
    {
     "ename": "TypeError",
     "evalue": "invalid type promotion",
     "output_type": "error",
     "traceback": [
      "\u001b[0;31m---------------------------------------------------------------------------\u001b[0m",
      "\u001b[0;31mTypeError\u001b[0m                                 Traceback (most recent call last)",
      "\u001b[0;32m<ipython-input-25-8feadc22e5e3>\u001b[0m in \u001b[0;36m<module>\u001b[0;34m()\u001b[0m\n\u001b[1;32m      1\u001b[0m \u001b[0mbins\u001b[0m \u001b[0;34m=\u001b[0m \u001b[0mnp\u001b[0m\u001b[0;34m.\u001b[0m\u001b[0marange\u001b[0m\u001b[0;34m(\u001b[0m\u001b[0;36m10\u001b[0m\u001b[0;34m,\u001b[0m \u001b[0;36m99\u001b[0m\u001b[0;34m,\u001b[0m \u001b[0;36m5\u001b[0m\u001b[0;34m)\u001b[0m\u001b[0;34m\u001b[0m\u001b[0m\n\u001b[0;32m----> 2\u001b[0;31m axM = dataframe.Date2.groupby(pd.cut(dataframe.Date2, bins)).agg([count_nonzero]).plot(kind='bar', \n\u001b[0m\u001b[1;32m      3\u001b[0m                                                                 legend=False)\n\u001b[1;32m      4\u001b[0m \u001b[0maxM\u001b[0m\u001b[0;34m.\u001b[0m\u001b[0mset_title\u001b[0m\u001b[0;34m(\u001b[0m\u001b[0;34m\"male riders\"\u001b[0m\u001b[0;34m)\u001b[0m\u001b[0;34m\u001b[0m\u001b[0m\n",
      "\u001b[0;32m/opt/rh/anaconda/root/envs/PUI2016_Python3/lib/python3.5/site-packages/pandas/tools/tile.py\u001b[0m in \u001b[0;36mcut\u001b[0;34m(x, bins, right, labels, retbins, precision, include_lowest)\u001b[0m\n\u001b[1;32m    115\u001b[0m     return _bins_to_cuts(x, bins, right=right, labels=labels,\n\u001b[1;32m    116\u001b[0m                          \u001b[0mretbins\u001b[0m\u001b[0;34m=\u001b[0m\u001b[0mretbins\u001b[0m\u001b[0;34m,\u001b[0m \u001b[0mprecision\u001b[0m\u001b[0;34m=\u001b[0m\u001b[0mprecision\u001b[0m\u001b[0;34m,\u001b[0m\u001b[0;34m\u001b[0m\u001b[0m\n\u001b[0;32m--> 117\u001b[0;31m                          include_lowest=include_lowest)\n\u001b[0m\u001b[1;32m    118\u001b[0m \u001b[0;34m\u001b[0m\u001b[0m\n\u001b[1;32m    119\u001b[0m \u001b[0;34m\u001b[0m\u001b[0m\n",
      "\u001b[0;32m/opt/rh/anaconda/root/envs/PUI2016_Python3/lib/python3.5/site-packages/pandas/tools/tile.py\u001b[0m in \u001b[0;36m_bins_to_cuts\u001b[0;34m(x, bins, right, labels, retbins, precision, name, include_lowest)\u001b[0m\n\u001b[1;32m    187\u001b[0m \u001b[0;34m\u001b[0m\u001b[0m\n\u001b[1;32m    188\u001b[0m     \u001b[0mside\u001b[0m \u001b[0;34m=\u001b[0m \u001b[0;34m'left'\u001b[0m \u001b[0;32mif\u001b[0m \u001b[0mright\u001b[0m \u001b[0;32melse\u001b[0m \u001b[0;34m'right'\u001b[0m\u001b[0;34m\u001b[0m\u001b[0m\n\u001b[0;32m--> 189\u001b[0;31m     \u001b[0mids\u001b[0m \u001b[0;34m=\u001b[0m \u001b[0mbins\u001b[0m\u001b[0;34m.\u001b[0m\u001b[0msearchsorted\u001b[0m\u001b[0;34m(\u001b[0m\u001b[0mx\u001b[0m\u001b[0;34m,\u001b[0m \u001b[0mside\u001b[0m\u001b[0;34m=\u001b[0m\u001b[0mside\u001b[0m\u001b[0;34m)\u001b[0m\u001b[0;34m\u001b[0m\u001b[0m\n\u001b[0m\u001b[1;32m    190\u001b[0m \u001b[0;34m\u001b[0m\u001b[0m\n\u001b[1;32m    191\u001b[0m     \u001b[0;32mif\u001b[0m \u001b[0mlen\u001b[0m\u001b[0;34m(\u001b[0m\u001b[0malgos\u001b[0m\u001b[0;34m.\u001b[0m\u001b[0munique\u001b[0m\u001b[0;34m(\u001b[0m\u001b[0mbins\u001b[0m\u001b[0;34m)\u001b[0m\u001b[0;34m)\u001b[0m \u001b[0;34m<\u001b[0m \u001b[0mlen\u001b[0m\u001b[0;34m(\u001b[0m\u001b[0mbins\u001b[0m\u001b[0;34m)\u001b[0m\u001b[0;34m:\u001b[0m\u001b[0;34m\u001b[0m\u001b[0m\n",
      "\u001b[0;31mTypeError\u001b[0m: invalid type promotion"
     ]
    }
   ],
   "source": [
    "bins = np.arange(10, 99, 5)\n",
    "axM = dataframe.Date2.groupby(pd.cut(dataframe.Date2, bins)).agg([count_nonzero]).plot(kind='bar', \n",
    "                                                                legend=False)\n",
    "axM.set_title(\"male riders\")\n"
   ]
  },
  {
   "cell_type": "code",
   "execution_count": null,
   "metadata": {
    "collapsed": true
   },
   "outputs": [],
   "source": []
  }
 ],
 "metadata": {
  "kernelspec": {
   "display_name": "PUI2016_Python3",
   "language": "python",
   "name": "pui2016_python3"
  },
  "language_info": {
   "codemirror_mode": {
    "name": "ipython",
    "version": 3
   },
   "file_extension": ".py",
   "mimetype": "text/x-python",
   "name": "python",
   "nbconvert_exporter": "python",
   "pygments_lexer": "ipython3",
   "version": "3.5.2"
  }
 },
 "nbformat": 4,
 "nbformat_minor": 0
}
