{
 "cells": [
  {
   "cell_type": "code",
   "execution_count": 1,
   "metadata": {
    "collapsed": false
   },
   "outputs": [
    {
     "name": "stdout",
     "output_type": "stream",
     "text": [
      "Populating the interactive namespace from numpy and matplotlib\n"
     ]
    },
    {
     "name": "stderr",
     "output_type": "stream",
     "text": [
      "/opt/rh/anaconda/root/envs/PUI2016_Python2/lib/python2.7/site-packages/IPython/core/magics/pylab.py:161: UserWarning: pylab import has clobbered these variables: ['plt']\n",
      "`%matplotlib` prevents importing * from pylab and numpy\n",
      "  \"\\n`%matplotlib` prevents importing * from pylab and numpy\"\n"
     ]
    }
   ],
   "source": [
    "import ast\n",
    "# note this is python2 compatible only. the pykriging code is also python2 only\n",
    "import urllib2\n",
    "import urllib\n",
    "from cStringIO import StringIO\n",
    "import json\n",
    "import geopandas as gpd\n",
    "import pandas as pd\n",
    "import matplotlib as plt\n",
    "import os\n",
    "import numpy as np\n",
    "import pylab as pl\n",
    "from scipy.spatial.distance import pdist, squareform\n",
    "import sklearn as sk\n",
    "import scipy as sc\n",
    "%matplotlib inline\n",
    "%pylab inline\n"
   ]
  },
  {
   "cell_type": "code",
   "execution_count": 2,
   "metadata": {
    "collapsed": true
   },
   "outputs": [],
   "source": [
    "SQL_SOURCE = 'https://fb55.carto.com/api/v2/sql'\n",
    "\n",
    "def queryCartoDB(query, format='CSV', source=SQL_SOURCE):\n",
    "    \"\"\" queries a url with an sql compatible search\n",
    "    Arguments:\n",
    "    query : the sql query string\n",
    "    format : the expected format\n",
    "    source \" the url of the API\n",
    "    \"\"\"\n",
    "    data = urllib.urlencode({'format': format, 'q': query})\n",
    "    try:\n",
    "        response = urllib2.urlopen(source, data)\n",
    "    except urllib2.HTTPError, e:\n",
    "        raise ValueError('\\n'.join(ast.literal_eval(e.readline())['error']))\n",
    "    except Exception:\n",
    "        raise\n",
    "    return StringIO(response.read())"
   ]
  },
  {
   "cell_type": "code",
   "execution_count": 3,
   "metadata": {
    "collapsed": false
   },
   "outputs": [
    {
     "data": {
      "text/html": [
       "<div>\n",
       "<table border=\"1\" class=\"dataframe\">\n",
       "  <thead>\n",
       "    <tr style=\"text-align: right;\">\n",
       "      <th></th>\n",
       "      <th>count</th>\n",
       "      <th>zipcodes</th>\n",
       "    </tr>\n",
       "  </thead>\n",
       "  <tbody>\n",
       "    <tr>\n",
       "      <th>0</th>\n",
       "      <td>1699</td>\n",
       "      <td>10461</td>\n",
       "    </tr>\n",
       "    <tr>\n",
       "      <th>1</th>\n",
       "      <td>405</td>\n",
       "      <td>11373</td>\n",
       "    </tr>\n",
       "    <tr>\n",
       "      <th>2</th>\n",
       "      <td>1698</td>\n",
       "      <td>10451</td>\n",
       "    </tr>\n",
       "    <tr>\n",
       "      <th>3</th>\n",
       "      <td>220</td>\n",
       "      <td>11691</td>\n",
       "    </tr>\n",
       "    <tr>\n",
       "      <th>4</th>\n",
       "      <td>246</td>\n",
       "      <td>11375</td>\n",
       "    </tr>\n",
       "    <tr>\n",
       "      <th>5</th>\n",
       "      <td>494</td>\n",
       "      <td>10466</td>\n",
       "    </tr>\n",
       "    <tr>\n",
       "      <th>6</th>\n",
       "      <td>713</td>\n",
       "      <td>11212</td>\n",
       "    </tr>\n",
       "    <tr>\n",
       "      <th>7</th>\n",
       "      <td>167</td>\n",
       "      <td>11229</td>\n",
       "    </tr>\n",
       "    <tr>\n",
       "      <th>8</th>\n",
       "      <td>521</td>\n",
       "      <td>11215</td>\n",
       "    </tr>\n",
       "    <tr>\n",
       "      <th>9</th>\n",
       "      <td>386</td>\n",
       "      <td>11220</td>\n",
       "    </tr>\n",
       "    <tr>\n",
       "      <th>10</th>\n",
       "      <td>641</td>\n",
       "      <td>11355</td>\n",
       "    </tr>\n",
       "    <tr>\n",
       "      <th>11</th>\n",
       "      <td>376</td>\n",
       "      <td>11213</td>\n",
       "    </tr>\n",
       "    <tr>\n",
       "      <th>12</th>\n",
       "      <td>567</td>\n",
       "      <td>11418</td>\n",
       "    </tr>\n",
       "    <tr>\n",
       "      <th>13</th>\n",
       "      <td>411</td>\n",
       "      <td>10310</td>\n",
       "    </tr>\n",
       "    <tr>\n",
       "      <th>14</th>\n",
       "      <td>1829</td>\n",
       "      <td>11203</td>\n",
       "    </tr>\n",
       "    <tr>\n",
       "      <th>15</th>\n",
       "      <td>281</td>\n",
       "      <td>11102</td>\n",
       "    </tr>\n",
       "    <tr>\n",
       "      <th>16</th>\n",
       "      <td>222</td>\n",
       "      <td>11234</td>\n",
       "    </tr>\n",
       "    <tr>\n",
       "      <th>17</th>\n",
       "      <td>1156</td>\n",
       "      <td>11237</td>\n",
       "    </tr>\n",
       "    <tr>\n",
       "      <th>18</th>\n",
       "      <td>421</td>\n",
       "      <td>11219</td>\n",
       "    </tr>\n",
       "    <tr>\n",
       "      <th>19</th>\n",
       "      <td>822</td>\n",
       "      <td>10457</td>\n",
       "    </tr>\n",
       "    <tr>\n",
       "      <th>20</th>\n",
       "      <td>320</td>\n",
       "      <td>11235</td>\n",
       "    </tr>\n",
       "    <tr>\n",
       "      <th>21</th>\n",
       "      <td>466</td>\n",
       "      <td>11206</td>\n",
       "    </tr>\n",
       "    <tr>\n",
       "      <th>22</th>\n",
       "      <td>1072</td>\n",
       "      <td>10456</td>\n",
       "    </tr>\n",
       "    <tr>\n",
       "      <th>23</th>\n",
       "      <td>926</td>\n",
       "      <td>11040</td>\n",
       "    </tr>\n",
       "    <tr>\n",
       "      <th>24</th>\n",
       "      <td>940</td>\n",
       "      <td>11201</td>\n",
       "    </tr>\n",
       "    <tr>\n",
       "      <th>25</th>\n",
       "      <td>2164</td>\n",
       "      <td>10467</td>\n",
       "    </tr>\n",
       "    <tr>\n",
       "      <th>26</th>\n",
       "      <td>293</td>\n",
       "      <td>11432</td>\n",
       "    </tr>\n",
       "    <tr>\n",
       "      <th>27</th>\n",
       "      <td>447</td>\n",
       "      <td>10305</td>\n",
       "    </tr>\n",
       "    <tr>\n",
       "      <th>28</th>\n",
       "      <td>145</td>\n",
       "      <td>10309</td>\n",
       "    </tr>\n",
       "  </tbody>\n",
       "</table>\n",
       "</div>"
      ],
      "text/plain": [
       "    count  zipcodes\n",
       "0    1699     10461\n",
       "1     405     11373\n",
       "2    1698     10451\n",
       "3     220     11691\n",
       "4     246     11375\n",
       "5     494     10466\n",
       "6     713     11212\n",
       "7     167     11229\n",
       "8     521     11215\n",
       "9     386     11220\n",
       "10    641     11355\n",
       "11    376     11213\n",
       "12    567     11418\n",
       "13    411     10310\n",
       "14   1829     11203\n",
       "15    281     11102\n",
       "16    222     11234\n",
       "17   1156     11237\n",
       "18    421     11219\n",
       "19    822     10457\n",
       "20    320     11235\n",
       "21    466     11206\n",
       "22   1072     10456\n",
       "23    926     11040\n",
       "24    940     11201\n",
       "25   2164     10467\n",
       "26    293     11432\n",
       "27    447     10305\n",
       "28    145     10309"
      ]
     },
     "execution_count": 3,
     "metadata": {},
     "output_type": "execute_result"
    }
   ],
   "source": [
    "\n",
    "# fill in the query details in facilityQuery: \n",
    "# within a single query collect AND GROUP the data by zipcode\n",
    "facilityQuery = '''SELECT\n",
    "COUNT(*) as count,\n",
    "zipcodes\n",
    "FROM nycasthmasdismissals\n",
    "GROUP BY zipcodes\n",
    "'''\n",
    "facilityStream = queryCartoDB(facilityQuery, format='JSON')\n",
    "facilityData   = json.loads(facilityStream.read())\n",
    "facilityData\n",
    "facilities     = pd.DataFrame.from_dict(facilityData['rows'])\n",
    "facilities"
   ]
  },
  {
   "cell_type": "code",
   "execution_count": 4,
   "metadata": {
    "collapsed": false
   },
   "outputs": [
    {
     "data": {
      "text/plain": [
       "<cStringIO.StringI at 0x7fcccc502580>"
      ]
     },
     "execution_count": 4,
     "metadata": {},
     "output_type": "execute_result"
    }
   ],
   "source": [
    "queryCartoDB(facilityQuery, format='CSV', source=SQL_SOURCE)"
   ]
  },
  {
   "cell_type": "code",
   "execution_count": 5,
   "metadata": {
    "collapsed": false
   },
   "outputs": [
    {
     "name": "stdout",
     "output_type": "stream",
     "text": [
      "/home/cusp/cjs676/PUIdata\n"
     ]
    }
   ],
   "source": [
    "print(os.getenv('PUIDATA'))"
   ]
  },
  {
   "cell_type": "code",
   "execution_count": 6,
   "metadata": {
    "collapsed": false
   },
   "outputs": [],
   "source": [
    "#try = #curl -o \""
   ]
  },
  {
   "cell_type": "code",
   "execution_count": 7,
   "metadata": {
    "collapsed": false
   },
   "outputs": [],
   "source": [
    "zipcode_shape = gpd.read_file(os.getenv('PUIDATA') + '/' + 'ZIP_CODE_040114.shp')"
   ]
  },
  {
   "cell_type": "code",
   "execution_count": 8,
   "metadata": {
    "collapsed": false
   },
   "outputs": [
    {
     "data": {
      "text/html": [
       "<div>\n",
       "<table border=\"1\" class=\"dataframe\">\n",
       "  <thead>\n",
       "    <tr style=\"text-align: right;\">\n",
       "      <th></th>\n",
       "      <th>AREA</th>\n",
       "      <th>BLDGZIP</th>\n",
       "      <th>COUNTY</th>\n",
       "      <th>CTY_FIPS</th>\n",
       "      <th>POPULATION</th>\n",
       "      <th>PO_NAME</th>\n",
       "      <th>SHAPE_AREA</th>\n",
       "      <th>SHAPE_LEN</th>\n",
       "      <th>STATE</th>\n",
       "      <th>ST_FIPS</th>\n",
       "      <th>URL</th>\n",
       "      <th>ZIPCODE</th>\n",
       "      <th>geometry</th>\n",
       "    </tr>\n",
       "  </thead>\n",
       "  <tbody>\n",
       "    <tr>\n",
       "      <th>0</th>\n",
       "      <td>2.269930e+07</td>\n",
       "      <td>0</td>\n",
       "      <td>Queens</td>\n",
       "      <td>081</td>\n",
       "      <td>18681.0</td>\n",
       "      <td>Jamaica</td>\n",
       "      <td>0.0</td>\n",
       "      <td>0.0</td>\n",
       "      <td>NY</td>\n",
       "      <td>36</td>\n",
       "      <td>http://www.usps.com/</td>\n",
       "      <td>11436</td>\n",
       "      <td>POLYGON ((1038098.251871482 188138.3800067157,...</td>\n",
       "    </tr>\n",
       "    <tr>\n",
       "      <th>1</th>\n",
       "      <td>2.963100e+07</td>\n",
       "      <td>0</td>\n",
       "      <td>Kings</td>\n",
       "      <td>047</td>\n",
       "      <td>62426.0</td>\n",
       "      <td>Brooklyn</td>\n",
       "      <td>0.0</td>\n",
       "      <td>0.0</td>\n",
       "      <td>NY</td>\n",
       "      <td>36</td>\n",
       "      <td>http://www.usps.com/</td>\n",
       "      <td>11213</td>\n",
       "      <td>POLYGON ((1001613.712964058 186926.4395172149,...</td>\n",
       "    </tr>\n",
       "    <tr>\n",
       "      <th>2</th>\n",
       "      <td>4.197210e+07</td>\n",
       "      <td>0</td>\n",
       "      <td>Kings</td>\n",
       "      <td>047</td>\n",
       "      <td>83866.0</td>\n",
       "      <td>Brooklyn</td>\n",
       "      <td>0.0</td>\n",
       "      <td>0.0</td>\n",
       "      <td>NY</td>\n",
       "      <td>36</td>\n",
       "      <td>http://www.usps.com/</td>\n",
       "      <td>11212</td>\n",
       "      <td>POLYGON ((1011174.275535807 183696.33770971, 1...</td>\n",
       "    </tr>\n",
       "  </tbody>\n",
       "</table>\n",
       "</div>"
      ],
      "text/plain": [
       "           AREA BLDGZIP  COUNTY CTY_FIPS  POPULATION   PO_NAME  SHAPE_AREA  \\\n",
       "0  2.269930e+07       0  Queens      081     18681.0   Jamaica         0.0   \n",
       "1  2.963100e+07       0   Kings      047     62426.0  Brooklyn         0.0   \n",
       "2  4.197210e+07       0   Kings      047     83866.0  Brooklyn         0.0   \n",
       "\n",
       "   SHAPE_LEN STATE ST_FIPS                   URL ZIPCODE  \\\n",
       "0        0.0    NY      36  http://www.usps.com/   11436   \n",
       "1        0.0    NY      36  http://www.usps.com/   11213   \n",
       "2        0.0    NY      36  http://www.usps.com/   11212   \n",
       "\n",
       "                                            geometry  \n",
       "0  POLYGON ((1038098.251871482 188138.3800067157,...  \n",
       "1  POLYGON ((1001613.712964058 186926.4395172149,...  \n",
       "2  POLYGON ((1011174.275535807 183696.33770971, 1...  "
      ]
     },
     "execution_count": 8,
     "metadata": {},
     "output_type": "execute_result"
    }
   ],
   "source": [
    "zipcode_shape.head(3)"
   ]
  },
  {
   "cell_type": "code",
   "execution_count": 9,
   "metadata": {
    "collapsed": false
   },
   "outputs": [
    {
     "data": {
      "text/plain": [
       "Index([      u'AREA',    u'BLDGZIP',     u'COUNTY',   u'CTY_FIPS',\n",
       "       u'POPULATION',    u'PO_NAME', u'SHAPE_AREA',  u'SHAPE_LEN',\n",
       "            u'STATE',    u'ST_FIPS',        u'URL',    u'ZIPCODE',\n",
       "         u'geometry'],\n",
       "      dtype='object')"
      ]
     },
     "execution_count": 9,
     "metadata": {},
     "output_type": "execute_result"
    }
   ],
   "source": [
    "zipcode_shape.columns\n"
   ]
  },
  {
   "cell_type": "code",
   "execution_count": 10,
   "metadata": {
    "collapsed": false
   },
   "outputs": [],
   "source": [
    "zipcode_shape.drop([u'AREA',    u'BLDGZIP',     u'COUNTY',   u'CTY_FIPS',\n",
    "      u'POPULATION',    u'PO_NAME', u'SHAPE_AREA',  u'SHAPE_LEN',\n",
    "           u'STATE',    u'ST_FIPS',        u'URL'], axis=1, inplace=True)"
   ]
  },
  {
   "cell_type": "code",
   "execution_count": 11,
   "metadata": {
    "collapsed": false
   },
   "outputs": [
    {
     "data": {
      "text/plain": [
       "Index([u'ZIPCODE', u'geometry'], dtype='object')"
      ]
     },
     "execution_count": 11,
     "metadata": {},
     "output_type": "execute_result"
    }
   ],
   "source": [
    "zipcode_shape.columns"
   ]
  },
  {
   "cell_type": "code",
   "execution_count": 12,
   "metadata": {
    "collapsed": false
   },
   "outputs": [
    {
     "data": {
      "text/html": [
       "<div>\n",
       "<table border=\"1\" class=\"dataframe\">\n",
       "  <thead>\n",
       "    <tr style=\"text-align: right;\">\n",
       "      <th></th>\n",
       "      <th>ZIPCODE</th>\n",
       "      <th>geometry</th>\n",
       "    </tr>\n",
       "  </thead>\n",
       "  <tbody>\n",
       "    <tr>\n",
       "      <th>0</th>\n",
       "      <td>11436</td>\n",
       "      <td>POLYGON ((1038098.251871482 188138.3800067157,...</td>\n",
       "    </tr>\n",
       "    <tr>\n",
       "      <th>1</th>\n",
       "      <td>11213</td>\n",
       "      <td>POLYGON ((1001613.712964058 186926.4395172149,...</td>\n",
       "    </tr>\n",
       "    <tr>\n",
       "      <th>2</th>\n",
       "      <td>11212</td>\n",
       "      <td>POLYGON ((1011174.275535807 183696.33770971, 1...</td>\n",
       "    </tr>\n",
       "    <tr>\n",
       "      <th>3</th>\n",
       "      <td>11225</td>\n",
       "      <td>POLYGON ((995908.3654508889 183617.6128015518,...</td>\n",
       "    </tr>\n",
       "    <tr>\n",
       "      <th>4</th>\n",
       "      <td>11218</td>\n",
       "      <td>POLYGON ((991997.1134308875 176307.4958601296,...</td>\n",
       "    </tr>\n",
       "  </tbody>\n",
       "</table>\n",
       "</div>"
      ],
      "text/plain": [
       "  ZIPCODE                                           geometry\n",
       "0   11436  POLYGON ((1038098.251871482 188138.3800067157,...\n",
       "1   11213  POLYGON ((1001613.712964058 186926.4395172149,...\n",
       "2   11212  POLYGON ((1011174.275535807 183696.33770971, 1...\n",
       "3   11225  POLYGON ((995908.3654508889 183617.6128015518,...\n",
       "4   11218  POLYGON ((991997.1134308875 176307.4958601296,..."
      ]
     },
     "execution_count": 12,
     "metadata": {},
     "output_type": "execute_result"
    }
   ],
   "source": [
    "zipcode_shape.head()"
   ]
  },
  {
   "cell_type": "code",
   "execution_count": 13,
   "metadata": {
    "collapsed": false
   },
   "outputs": [],
   "source": [
    "zipcode_shape.rename(columns={'ZIPCODE': 'zipcodes'}, inplace=True)\n"
   ]
  },
  {
   "cell_type": "code",
   "execution_count": 14,
   "metadata": {
    "collapsed": false
   },
   "outputs": [
    {
     "data": {
      "text/html": [
       "<div>\n",
       "<table border=\"1\" class=\"dataframe\">\n",
       "  <thead>\n",
       "    <tr style=\"text-align: right;\">\n",
       "      <th></th>\n",
       "      <th>zipcodes</th>\n",
       "      <th>geometry</th>\n",
       "    </tr>\n",
       "  </thead>\n",
       "  <tbody>\n",
       "    <tr>\n",
       "      <th>0</th>\n",
       "      <td>11436</td>\n",
       "      <td>POLYGON ((1038098.251871482 188138.3800067157,...</td>\n",
       "    </tr>\n",
       "    <tr>\n",
       "      <th>1</th>\n",
       "      <td>11213</td>\n",
       "      <td>POLYGON ((1001613.712964058 186926.4395172149,...</td>\n",
       "    </tr>\n",
       "  </tbody>\n",
       "</table>\n",
       "</div>"
      ],
      "text/plain": [
       "  zipcodes                                           geometry\n",
       "0    11436  POLYGON ((1038098.251871482 188138.3800067157,...\n",
       "1    11213  POLYGON ((1001613.712964058 186926.4395172149,..."
      ]
     },
     "execution_count": 14,
     "metadata": {},
     "output_type": "execute_result"
    }
   ],
   "source": [
    "zipcode_shape.head(2)"
   ]
  },
  {
   "cell_type": "code",
   "execution_count": 15,
   "metadata": {
    "collapsed": false
   },
   "outputs": [],
   "source": [
    "zipcode_shape.zipcodes = zipcode_shape.zipcodes.astype(str)\n",
    "facilities.zipcodes = facilities.zipcodes.astype(str)"
   ]
  },
  {
   "cell_type": "code",
   "execution_count": 16,
   "metadata": {
    "collapsed": false
   },
   "outputs": [],
   "source": [
    "asthma_loc = facilities.merge(zipcode_shape, how='left', on='zipcodes')"
   ]
  },
  {
   "cell_type": "code",
   "execution_count": 17,
   "metadata": {
    "collapsed": false
   },
   "outputs": [
    {
     "data": {
      "text/html": [
       "<div>\n",
       "<table border=\"1\" class=\"dataframe\">\n",
       "  <thead>\n",
       "    <tr style=\"text-align: right;\">\n",
       "      <th></th>\n",
       "      <th>count</th>\n",
       "      <th>zipcodes</th>\n",
       "      <th>geometry</th>\n",
       "    </tr>\n",
       "  </thead>\n",
       "  <tbody>\n",
       "    <tr>\n",
       "      <th>0</th>\n",
       "      <td>1699</td>\n",
       "      <td>10461</td>\n",
       "      <td>POLYGON ((1029230.779448971 251468.9475710541,...</td>\n",
       "    </tr>\n",
       "    <tr>\n",
       "      <th>1</th>\n",
       "      <td>405</td>\n",
       "      <td>11373</td>\n",
       "      <td>POLYGON ((1015508.538520813 204353.9663418829,...</td>\n",
       "    </tr>\n",
       "    <tr>\n",
       "      <th>2</th>\n",
       "      <td>1698</td>\n",
       "      <td>10451</td>\n",
       "      <td>POLYGON ((1002809.989770979 240846.5980808884,...</td>\n",
       "    </tr>\n",
       "    <tr>\n",
       "      <th>3</th>\n",
       "      <td>220</td>\n",
       "      <td>11691</td>\n",
       "      <td>POLYGON ((1054519.887991399 162245.7592198849,...</td>\n",
       "    </tr>\n",
       "    <tr>\n",
       "      <th>4</th>\n",
       "      <td>246</td>\n",
       "      <td>11375</td>\n",
       "      <td>POLYGON ((1024087.848133817 207717.1410459727,...</td>\n",
       "    </tr>\n",
       "  </tbody>\n",
       "</table>\n",
       "</div>"
      ],
      "text/plain": [
       "   count zipcodes                                           geometry\n",
       "0   1699    10461  POLYGON ((1029230.779448971 251468.9475710541,...\n",
       "1    405    11373  POLYGON ((1015508.538520813 204353.9663418829,...\n",
       "2   1698    10451  POLYGON ((1002809.989770979 240846.5980808884,...\n",
       "3    220    11691  POLYGON ((1054519.887991399 162245.7592198849,...\n",
       "4    246    11375  POLYGON ((1024087.848133817 207717.1410459727,..."
      ]
     },
     "execution_count": 17,
     "metadata": {},
     "output_type": "execute_result"
    }
   ],
   "source": [
    "asthma_loc.head()"
   ]
  },
  {
   "cell_type": "code",
   "execution_count": 18,
   "metadata": {
    "collapsed": false
   },
   "outputs": [],
   "source": [
    "asthma_gp = gpd.GeoDataFrame(asthma_loc)"
   ]
  },
  {
   "cell_type": "code",
   "execution_count": 19,
   "metadata": {
    "collapsed": false
   },
   "outputs": [],
   "source": [
    "asthma_gp['centers'] = asthma_gp['geometry'].centroid\n"
   ]
  },
  {
   "cell_type": "code",
   "execution_count": 20,
   "metadata": {
    "collapsed": false,
    "scrolled": true
   },
   "outputs": [
    {
     "data": {
      "text/html": [
       "<div>\n",
       "<table border=\"1\" class=\"dataframe\">\n",
       "  <thead>\n",
       "    <tr style=\"text-align: right;\">\n",
       "      <th></th>\n",
       "      <th>count</th>\n",
       "      <th>zipcodes</th>\n",
       "      <th>geometry</th>\n",
       "      <th>centers</th>\n",
       "    </tr>\n",
       "  </thead>\n",
       "  <tbody>\n",
       "    <tr>\n",
       "      <th>0</th>\n",
       "      <td>1699</td>\n",
       "      <td>10461</td>\n",
       "      <td>POLYGON ((1029230.779448971 251468.9475710541,...</td>\n",
       "      <td>POINT (1028292.72437689 247902.4282787614)</td>\n",
       "    </tr>\n",
       "    <tr>\n",
       "      <th>1</th>\n",
       "      <td>405</td>\n",
       "      <td>11373</td>\n",
       "      <td>POLYGON ((1015508.538520813 204353.9663418829,...</td>\n",
       "      <td>POINT (1017941.215480481 208485.1046661779)</td>\n",
       "    </tr>\n",
       "    <tr>\n",
       "      <th>2</th>\n",
       "      <td>1698</td>\n",
       "      <td>10451</td>\n",
       "      <td>POLYGON ((1002809.989770979 240846.5980808884,...</td>\n",
       "      <td>POINT (1005358.961284301 238316.0675161843)</td>\n",
       "    </tr>\n",
       "  </tbody>\n",
       "</table>\n",
       "</div>"
      ],
      "text/plain": [
       "   count zipcodes                                           geometry  \\\n",
       "0   1699    10461  POLYGON ((1029230.779448971 251468.9475710541,...   \n",
       "1    405    11373  POLYGON ((1015508.538520813 204353.9663418829,...   \n",
       "2   1698    10451  POLYGON ((1002809.989770979 240846.5980808884,...   \n",
       "\n",
       "                                       centers  \n",
       "0   POINT (1028292.72437689 247902.4282787614)  \n",
       "1  POINT (1017941.215480481 208485.1046661779)  \n",
       "2  POINT (1005358.961284301 238316.0675161843)  "
      ]
     },
     "execution_count": 20,
     "metadata": {},
     "output_type": "execute_result"
    }
   ],
   "source": [
    "asthma_gp.head(3)"
   ]
  },
  {
   "cell_type": "code",
   "execution_count": 21,
   "metadata": {
    "collapsed": false
   },
   "outputs": [],
   "source": [
    "asthma_gp[\"x\"] = asthma_gp.centroid.map(lambda p: p.x)\n",
    "asthma_gp[\"y\"] = asthma_gp.centroid.map(lambda p: p.y)"
   ]
  },
  {
   "cell_type": "code",
   "execution_count": 22,
   "metadata": {
    "collapsed": false
   },
   "outputs": [
    {
     "data": {
      "text/html": [
       "<div>\n",
       "<table border=\"1\" class=\"dataframe\">\n",
       "  <thead>\n",
       "    <tr style=\"text-align: right;\">\n",
       "      <th></th>\n",
       "      <th>count</th>\n",
       "      <th>zipcodes</th>\n",
       "      <th>geometry</th>\n",
       "      <th>centers</th>\n",
       "      <th>x</th>\n",
       "      <th>y</th>\n",
       "    </tr>\n",
       "  </thead>\n",
       "  <tbody>\n",
       "    <tr>\n",
       "      <th>0</th>\n",
       "      <td>1699</td>\n",
       "      <td>10461</td>\n",
       "      <td>POLYGON ((1029230.779448971 251468.9475710541,...</td>\n",
       "      <td>POINT (1028292.72437689 247902.4282787614)</td>\n",
       "      <td>1.028293e+06</td>\n",
       "      <td>247902.428279</td>\n",
       "    </tr>\n",
       "    <tr>\n",
       "      <th>1</th>\n",
       "      <td>405</td>\n",
       "      <td>11373</td>\n",
       "      <td>POLYGON ((1015508.538520813 204353.9663418829,...</td>\n",
       "      <td>POINT (1017941.215480481 208485.1046661779)</td>\n",
       "      <td>1.017941e+06</td>\n",
       "      <td>208485.104666</td>\n",
       "    </tr>\n",
       "    <tr>\n",
       "      <th>2</th>\n",
       "      <td>1698</td>\n",
       "      <td>10451</td>\n",
       "      <td>POLYGON ((1002809.989770979 240846.5980808884,...</td>\n",
       "      <td>POINT (1005358.961284301 238316.0675161843)</td>\n",
       "      <td>1.005359e+06</td>\n",
       "      <td>238316.067516</td>\n",
       "    </tr>\n",
       "  </tbody>\n",
       "</table>\n",
       "</div>"
      ],
      "text/plain": [
       "   count zipcodes                                           geometry  \\\n",
       "0   1699    10461  POLYGON ((1029230.779448971 251468.9475710541,...   \n",
       "1    405    11373  POLYGON ((1015508.538520813 204353.9663418829,...   \n",
       "2   1698    10451  POLYGON ((1002809.989770979 240846.5980808884,...   \n",
       "\n",
       "                                       centers             x              y  \n",
       "0   POINT (1028292.72437689 247902.4282787614)  1.028293e+06  247902.428279  \n",
       "1  POINT (1017941.215480481 208485.1046661779)  1.017941e+06  208485.104666  \n",
       "2  POINT (1005358.961284301 238316.0675161843)  1.005359e+06  238316.067516  "
      ]
     },
     "execution_count": 22,
     "metadata": {},
     "output_type": "execute_result"
    }
   ],
   "source": [
    "asthma_gp.head(3)"
   ]
  },
  {
   "cell_type": "markdown",
   "metadata": {},
   "source": [
    "\n",
    "Create a 3xN numpy array with x-location, y-location, number of dismissals"
   ]
  },
  {
   "cell_type": "code",
   "execution_count": 23,
   "metadata": {
    "collapsed": true
   },
   "outputs": [],
   "source": [
    "krigdata = np.zeros((len(asthma_gp),3))"
   ]
  },
  {
   "cell_type": "code",
   "execution_count": 24,
   "metadata": {
    "collapsed": false
   },
   "outputs": [],
   "source": [
    "krigdata[:,0] = asthma_gp['count']\n",
    "for i in range(len(krigdata)):\n",
    "   krigdata[:,1][i] = asthma_gp['centers'][i].x\n",
    "   krigdata[:,2][i] = asthma_gp['centers'][i].y"
   ]
  },
  {
   "cell_type": "markdown",
   "metadata": {},
   "source": [
    "This should be a bar chart"
   ]
  },
  {
   "cell_type": "code",
   "execution_count": 25,
   "metadata": {
    "collapsed": false
   },
   "outputs": [
    {
     "data": {
      "text/plain": [
       "<matplotlib.text.Text at 0x7fcc852a8d90>"
      ]
     },
     "execution_count": 25,
     "metadata": {},
     "output_type": "execute_result"
    },
    {
     "data": {
      "image/png": "[encoded data removed]",
      "text/plain": [
       "<matplotlib.figure.Figure at 0x7fcc8529eb90>"
      ]
     },
     "metadata": {},
     "output_type": "display_data"
    }
   ],
   "source": [
    "pl.figure(figsize=(10,10))\n",
    "pl.scatter(krigdata[:,0], krigdata[:,1], c=krigdata[:,2], s=100, cmap='bone')\n",
    "pl.xlabel(\"Easting\", fontsize=20)\n",
    "pl.ylabel(\"Northing\", fontsize=20)\n",
    " \n",
    "pl.title('Hosptial Dismisals due to Asthma')"
   ]
  },
  {
   "cell_type": "markdown",
   "metadata": {},
   "source": [
    "Create and try to model the semi-variogram"
   ]
  },
  {
   "cell_type": "code",
   "execution_count": 26,
   "metadata": {
    "collapsed": true
   },
   "outputs": [],
   "source": [
    "squareform?\n"
   ]
  },
  {
   "cell_type": "code",
   "execution_count": 27,
   "metadata": {
    "collapsed": true
   },
   "outputs": [],
   "source": [
    "\n",
    "#print np.array(np.triu_indices(4))>0\n"
   ]
  },
  {
   "cell_type": "code",
   "execution_count": 28,
   "metadata": {
    "collapsed": true
   },
   "outputs": [],
   "source": [
    "def SVh_vctzd( P, h, bw ):\n",
    "    '''\n",
    "    Experimental semivariogram for a single lag\n",
    "    bw max distance\n",
    "    h lag\n",
    "    P data\n",
    "    '''\n",
    "    pdsv = squareform( pdist( P[:,:2] ) )\n",
    "    #print pdsv\n",
    "    N = pdsv.shape[0]\n",
    "    #print N\n",
    "    #print np.triu_indices(N)\n",
    "    Z = np.zeros((N,N))\n",
    "    Z = Z - P[:,2]\n",
    "    #print Z\n",
    "    Z = Z.T + P[:,2]\n",
    "    #print Z\n",
    "    Z = Z**2\n",
    "    #print Z\n",
    "    Zcd =  Z[(pdsv >= h - bw) * (pdsv <= h + bw) * \\\n",
    "            (~np.identity(N, dtype=bool))]\n",
    "\n",
    "    #print Zcd\n",
    "    return np.sum( Zcd ) / ( 2.0 * len( Zcd ) )\n",
    "\n",
    "\n"
   ]
  },
  {
   "cell_type": "code",
   "execution_count": 29,
   "metadata": {
    "collapsed": true
   },
   "outputs": [],
   "source": [
    "def SVh( P, h, bw ):\n",
    "    '''\n",
    "    Experimental semivariogram for a single lag\n",
    "    bw max distance\n",
    "    h lag\n",
    "    P data\n",
    "    '''\n",
    "    #distance matrix (eucledian)\n",
    "    pdsv = squareform( pdist( P[:,:2] ) )\n",
    "    #print pdsv\n",
    "    N = pdsv.shape[0]\n",
    "    #print N\n",
    "\n",
    "    Z = list()\n",
    "    for i in range(N):\n",
    "        for j in range(i+1, N):\n",
    "            #select only pair of points at the appropriate lag\n",
    "            if( pdsv[i,j] >= h - bw )and( pdsv[i,j] <= h + bw ):\n",
    "                Z.append( ( P[i,2] - P[j,2] )**2.0 )\n",
    "    #print Z\n",
    "    return np.sum( Z ) / ( 2.0 * len( Z ) )\n",
    "\n"
   ]
  },
  {
   "cell_type": "code",
   "execution_count": 30,
   "metadata": {
    "collapsed": true
   },
   "outputs": [],
   "source": [
    "def SV( P, hs, bw ):\n",
    "    '''\n",
    "    Experimental variogram for a collection of lags\n",
    "    '''\n",
    "    sv = list()\n",
    "    for h in hs:\n",
    "        #print h\n",
    "        sv.append( SVh( P, h, bw ) )\n",
    "        #sv.append( SVh_vctzd ( P, h, bw ) )\n",
    "    sv = [ [ hs[i], sv[i] ] for i in range( len( hs ) ) if sv[i] > 0 ]\n",
    "    return np.array( sv ).T"
   ]
  },
  {
   "cell_type": "code",
   "execution_count": 31,
   "metadata": {
    "collapsed": false
   },
   "outputs": [
    {
     "name": "stdout",
     "output_type": "stream",
     "text": [
      "[[0 1 2]\n",
      " [1 2 4]\n",
      " [0 1 3]\n",
      " [3 4 5]]\n",
      "nan\n",
      "nan\n"
     ]
    }
   ],
   "source": [
    "print np.array([[0,1,2],[1,2,4],[0,1,3],[3,4,5]])\n",
    "print SVh_vctzd( np.array([[0,1,2],[1,2,4],[0,1,3],[3,4,5]]), 1, 0.2 )\n",
    "print SVh( np.array([[0,1,2],[1,2,4],[0,1,3],[3,4,5]]), 1, 0.2 )"
   ]
  },
  {
   "cell_type": "code",
   "execution_count": 32,
   "metadata": {
    "collapsed": false
   },
   "outputs": [],
   "source": [
    "#print SVh( np.array(krigdata), 1, 0.2 )"
   ]
  },
  {
   "cell_type": "code",
   "execution_count": 33,
   "metadata": {
    "collapsed": false
   },
   "outputs": [],
   "source": [
    "mysv = SVh(krigdata, 1000, 500 )"
   ]
  },
  {
   "cell_type": "code",
   "execution_count": 34,
   "metadata": {
    "collapsed": false
   },
   "outputs": [
    {
     "name": "stdout",
     "output_type": "stream",
     "text": [
      "1000 loops, best of 3: 482 µs per loop\n"
     ]
    }
   ],
   "source": [
    "%timeit -n 1000 mysv = SVh( krigdata, 1000, 500 )"
   ]
  },
  {
   "cell_type": "code",
   "execution_count": 35,
   "metadata": {
    "collapsed": false
   },
   "outputs": [
    {
     "name": "stdout",
     "output_type": "stream",
     "text": [
      "1313444550.85\n"
     ]
    }
   ],
   "source": [
    "print  SVh( krigdata, 1000, 500 )"
   ]
  },
  {
   "cell_type": "code",
   "execution_count": 36,
   "metadata": {
    "collapsed": false
   },
   "outputs": [
    {
     "name": "stdout",
     "output_type": "stream",
     "text": [
      "1000 loops, best of 3: 137 µs per loop\n"
     ]
    }
   ],
   "source": [
    "%timeit -n 1000 mysv = SVh_vctzd( krigdata, 1000, 500 )"
   ]
  },
  {
   "cell_type": "code",
   "execution_count": 37,
   "metadata": {
    "collapsed": false
   },
   "outputs": [
    {
     "name": "stdout",
     "output_type": "stream",
     "text": [
      "1313444550.85\n"
     ]
    }
   ],
   "source": [
    "print  SVh_vctzd( krigdata, 1000, 500 )"
   ]
  },
  {
   "cell_type": "code",
   "execution_count": 38,
   "metadata": {
    "collapsed": false
   },
   "outputs": [
    {
     "name": "stdout",
     "output_type": "stream",
     "text": [
      "[[  1.00000000e+00   2.90000000e+01   5.70000000e+01   8.50000000e+01\n",
      "    1.13000000e+02   1.41000000e+02   1.69000000e+02   1.97000000e+02\n",
      "    2.25000000e+02   2.53000000e+02   2.81000000e+02   3.09000000e+02\n",
      "    3.37000000e+02   3.65000000e+02   3.93000000e+02   4.21000000e+02\n",
      "    4.49000000e+02   4.77000000e+02   5.05000000e+02   5.33000000e+02\n",
      "    5.61000000e+02   5.89000000e+02   6.17000000e+02   6.45000000e+02\n",
      "    6.73000000e+02   7.01000000e+02   7.29000000e+02   7.57000000e+02\n",
      "    7.85000000e+02   8.13000000e+02   8.41000000e+02   8.69000000e+02\n",
      "    8.97000000e+02   9.25000000e+02   9.53000000e+02   9.81000000e+02\n",
      "    1.00900000e+03   1.03700000e+03   1.06500000e+03   1.09300000e+03\n",
      "    1.12100000e+03   1.14900000e+03   1.17700000e+03   1.20500000e+03\n",
      "    1.23300000e+03   1.26100000e+03   1.28900000e+03   1.31700000e+03\n",
      "    1.34500000e+03   1.37300000e+03   1.40100000e+03   1.42900000e+03\n",
      "    1.45700000e+03   1.48500000e+03   1.51300000e+03   1.54100000e+03\n",
      "    1.56900000e+03   1.59700000e+03   1.62500000e+03   1.65300000e+03\n",
      "    1.68100000e+03   1.70900000e+03   1.73700000e+03   1.76500000e+03\n",
      "    1.79300000e+03   1.82100000e+03   1.84900000e+03   1.87700000e+03\n",
      "    1.90500000e+03   1.93300000e+03   1.96100000e+03   1.98900000e+03\n",
      "    2.01700000e+03   2.04500000e+03   2.07300000e+03   2.10100000e+03\n",
      "    2.12900000e+03   2.15700000e+03   2.18500000e+03   2.21300000e+03\n",
      "    2.24100000e+03   2.26900000e+03   2.29700000e+03   2.32500000e+03\n",
      "    2.35300000e+03   2.38100000e+03   2.40900000e+03   2.43700000e+03\n",
      "    2.46500000e+03   2.49300000e+03   2.52100000e+03   2.54900000e+03\n",
      "    2.57700000e+03   2.60500000e+03   2.63300000e+03   2.66100000e+03\n",
      "    2.68900000e+03   2.71700000e+03   2.74500000e+03   2.77300000e+03\n",
      "    2.80100000e+03   2.82900000e+03   2.85700000e+03   2.88500000e+03\n",
      "    2.91300000e+03   2.94100000e+03   2.96900000e+03   2.99700000e+03\n",
      "    3.02500000e+03   3.05300000e+03   3.08100000e+03   3.10900000e+03\n",
      "    3.13700000e+03   3.16500000e+03   3.19300000e+03   3.22100000e+03\n",
      "    3.24900000e+03   3.27700000e+03   3.30500000e+03   3.33300000e+03\n",
      "    3.36100000e+03   3.38900000e+03   3.41700000e+03   3.44500000e+03\n",
      "    3.47300000e+03   3.50100000e+03   3.52900000e+03   3.55700000e+03\n",
      "    3.58500000e+03   3.61300000e+03   3.64100000e+03   3.66900000e+03\n",
      "    3.69700000e+03   3.72500000e+03   3.75300000e+03   3.78100000e+03\n",
      "    3.80900000e+03   3.83700000e+03   3.86500000e+03   3.89300000e+03\n",
      "    3.92100000e+03   3.94900000e+03   3.97700000e+03   4.00500000e+03\n",
      "    4.03300000e+03   4.06100000e+03   4.08900000e+03   4.11700000e+03\n",
      "    4.14500000e+03   4.17300000e+03   4.20100000e+03   4.22900000e+03\n",
      "    4.25700000e+03   4.28500000e+03   4.31300000e+03   4.34100000e+03\n",
      "    4.36900000e+03   4.39700000e+03   4.42500000e+03   4.45300000e+03\n",
      "    4.48100000e+03   4.50900000e+03   4.53700000e+03   4.56500000e+03\n",
      "    4.59300000e+03   4.62100000e+03   4.64900000e+03   4.67700000e+03\n",
      "    4.70500000e+03   4.73300000e+03   4.76100000e+03   4.78900000e+03\n",
      "    4.81700000e+03   4.84500000e+03   4.87300000e+03   4.90100000e+03\n",
      "    4.92900000e+03   4.95700000e+03   4.98500000e+03   5.01300000e+03\n",
      "    5.04100000e+03   5.06900000e+03   5.09700000e+03   5.12500000e+03\n",
      "    5.15300000e+03   5.18100000e+03   5.20900000e+03   5.23700000e+03\n",
      "    5.26500000e+03   5.29300000e+03   5.32100000e+03   5.34900000e+03\n",
      "    5.37700000e+03   5.40500000e+03   5.43300000e+03   5.46100000e+03\n",
      "    5.48900000e+03   5.51700000e+03   5.54500000e+03   5.57300000e+03\n",
      "    5.60100000e+03   5.62900000e+03   5.65700000e+03   5.68500000e+03\n",
      "    5.71300000e+03   5.74100000e+03   5.76900000e+03   5.79700000e+03\n",
      "    5.82500000e+03   5.85300000e+03   5.88100000e+03   5.90900000e+03\n",
      "    5.93700000e+03   5.96500000e+03   5.99300000e+03   6.02100000e+03\n",
      "    6.04900000e+03   6.07700000e+03   6.10500000e+03   6.13300000e+03\n",
      "    6.16100000e+03   6.18900000e+03   6.21700000e+03   6.24500000e+03\n",
      "    6.27300000e+03   6.30100000e+03   6.32900000e+03   6.35700000e+03\n",
      "    6.38500000e+03   6.41300000e+03   6.44100000e+03   6.46900000e+03\n",
      "    6.49700000e+03   6.52500000e+03   6.55300000e+03   6.58100000e+03\n",
      "    6.60900000e+03   6.63700000e+03   6.66500000e+03   6.69300000e+03\n",
      "    6.72100000e+03   6.74900000e+03   6.77700000e+03   6.80500000e+03\n",
      "    6.83300000e+03   6.86100000e+03   6.88900000e+03   6.91700000e+03\n",
      "    6.94500000e+03   6.97300000e+03   7.00100000e+03   7.02900000e+03\n",
      "    7.05700000e+03   7.08500000e+03   7.11300000e+03   7.14100000e+03\n",
      "    7.16900000e+03   7.19700000e+03   7.22500000e+03   7.25300000e+03\n",
      "    7.28100000e+03   7.30900000e+03   7.33700000e+03   7.36500000e+03\n",
      "    7.39300000e+03   7.42100000e+03   7.44900000e+03   7.47700000e+03\n",
      "    7.50500000e+03   7.53300000e+03   7.56100000e+03   7.58900000e+03\n",
      "    7.61700000e+03   7.64500000e+03   7.67300000e+03   7.70100000e+03\n",
      "    7.72900000e+03   7.75700000e+03   7.78500000e+03   7.81300000e+03\n",
      "    7.84100000e+03   7.86900000e+03   7.89700000e+03   7.92500000e+03\n",
      "    7.95300000e+03   7.98100000e+03   8.00900000e+03   8.03700000e+03\n",
      "    8.06500000e+03   8.09300000e+03   8.12100000e+03   8.14900000e+03\n",
      "    8.17700000e+03   8.20500000e+03   8.23300000e+03   8.26100000e+03\n",
      "    8.28900000e+03   8.31700000e+03   8.34500000e+03   8.37300000e+03\n",
      "    8.40100000e+03   8.42900000e+03   8.45700000e+03   8.48500000e+03\n",
      "    8.51300000e+03   8.54100000e+03   8.56900000e+03   8.59700000e+03\n",
      "    8.62500000e+03   8.65300000e+03   8.68100000e+03   8.70900000e+03\n",
      "    8.73700000e+03   8.76500000e+03   8.79300000e+03   8.82100000e+03\n",
      "    8.84900000e+03   8.87700000e+03   8.90500000e+03   8.93300000e+03\n",
      "    8.96100000e+03   8.98900000e+03   9.01700000e+03   9.04500000e+03\n",
      "    9.07300000e+03   9.10100000e+03   9.12900000e+03   9.15700000e+03\n",
      "    9.18500000e+03   9.21300000e+03   9.24100000e+03   9.26900000e+03\n",
      "    9.29700000e+03   9.32500000e+03   9.35300000e+03   9.38100000e+03\n",
      "    9.40900000e+03   9.43700000e+03   9.46500000e+03   9.49300000e+03\n",
      "    9.52100000e+03   9.54900000e+03   9.57700000e+03   9.60500000e+03\n",
      "    9.63300000e+03   9.66100000e+03   9.68900000e+03   9.71700000e+03\n",
      "    9.74500000e+03   9.77300000e+03   9.80100000e+03   9.82900000e+03\n",
      "    9.85700000e+03   9.88500000e+03   9.91300000e+03   9.94100000e+03\n",
      "    9.96900000e+03   9.99700000e+03]\n",
      " [  9.71520012e+08   9.71520012e+08   9.71520012e+08   8.72660122e+08\n",
      "    8.72660122e+08   8.72660122e+08   8.72660122e+08   8.72660122e+08\n",
      "    8.72660122e+08   8.72660122e+08   8.72660122e+08   8.72660122e+08\n",
      "    7.06510267e+08   7.06510267e+08   7.06510267e+08   7.06510267e+08\n",
      "    7.49623013e+08   7.49623013e+08   7.75579020e+08   7.75579020e+08\n",
      "    7.75579020e+08   7.75579020e+08   7.75579020e+08   1.13779502e+09\n",
      "    1.13779502e+09   1.13779502e+09   1.13779502e+09   1.13779502e+09\n",
      "    1.13779502e+09   1.13779502e+09   1.00679377e+09   1.00679377e+09\n",
      "    1.00679377e+09   1.00679377e+09   1.12855783e+09   1.31344455e+09\n",
      "    1.31344455e+09   1.31344455e+09   1.13019463e+09   1.20607034e+09\n",
      "    1.05671819e+09   1.05671819e+09   1.05671819e+09   9.32506159e+08\n",
      "    9.32506159e+08   9.32506159e+08   9.32506159e+08   8.62596925e+08\n",
      "    9.44413953e+08   9.44413953e+08   9.44413953e+08   9.44413953e+08\n",
      "    9.47605375e+08   9.47605375e+08   9.54646428e+08   8.36569768e+08\n",
      "    8.64376255e+08   7.96756335e+08   4.82464499e+08   4.82464499e+08\n",
      "    4.82464499e+08   4.29761168e+08   4.29761168e+08   4.29761168e+08\n",
      "    4.29761168e+08   4.29761168e+08   4.29761168e+08   4.29761168e+08\n",
      "    4.29761168e+08   4.29761168e+08   2.70941055e+08   2.70941055e+08\n",
      "    2.70941055e+08   2.70941055e+08   3.00971801e+08   3.00971801e+08\n",
      "    2.82912941e+08   3.57707563e+08   3.57707563e+08   3.83169688e+08\n",
      "    4.66613515e+08   5.25458449e+08   5.25458449e+08   5.42545788e+08\n",
      "    5.42545788e+08   6.42624334e+08   6.42624334e+08   6.42624334e+08\n",
      "    6.42624334e+08   6.13091957e+08   6.13091957e+08   6.15881417e+08\n",
      "    6.15881417e+08   6.43580220e+08   6.43580220e+08   6.43580220e+08\n",
      "    7.15884181e+08   7.98706903e+08   7.49288414e+08   7.49288414e+08\n",
      "    7.49288414e+08   7.49288414e+08   7.49288414e+08   7.49288414e+08\n",
      "    9.66445748e+08   9.66445748e+08   9.66445748e+08   9.66445748e+08\n",
      "    9.66445748e+08   9.21026784e+08   9.29539168e+08   9.29539168e+08\n",
      "    1.02820729e+09   1.09875105e+09   1.12852644e+09   1.24766293e+09\n",
      "    1.24766293e+09   1.24290963e+09   1.10610738e+09   1.10610738e+09\n",
      "    1.10610738e+09   1.02235357e+09   1.02235357e+09   9.32440105e+08\n",
      "    1.10788703e+09   1.24819137e+09   1.33668890e+09   1.33668890e+09\n",
      "    1.33668890e+09   1.33668890e+09   1.43057825e+09   1.41010030e+09\n",
      "    1.41010030e+09   1.41010030e+09   1.53548368e+09   1.53548368e+09\n",
      "    1.53548368e+09   1.53548368e+09   1.40239660e+09   1.40239660e+09\n",
      "    1.14666331e+09   1.14666331e+09   1.05891110e+09   1.05891110e+09\n",
      "    1.05891110e+09   1.12940528e+09   1.12940528e+09   1.12940528e+09\n",
      "    1.12940528e+09   1.12940528e+09   1.00082778e+09   1.00082778e+09\n",
      "    1.00082778e+09   1.11423457e+09   1.11423457e+09   1.11423457e+09\n",
      "    1.11423457e+09   1.11423457e+09   1.32480934e+09   1.32480934e+09\n",
      "    1.11068510e+09   1.11068510e+09   9.51973800e+08   9.51973800e+08\n",
      "    9.51973800e+08   7.00075929e+08   7.00075929e+08   7.00075929e+08\n",
      "    7.00075929e+08   6.32632863e+08   6.32632863e+08   6.32632863e+08\n",
      "    6.70658756e+08   8.55356491e+08   9.53335323e+08   9.53335323e+08\n",
      "    9.17265735e+08   1.09954197e+09   1.09954197e+09   1.09954197e+09\n",
      "    1.09954197e+09   1.01765197e+09   8.58606100e+08   8.58606100e+08\n",
      "    8.58606100e+08   8.58606100e+08   9.71052875e+08   9.71052875e+08\n",
      "    9.71052875e+08   9.71052875e+08   9.71052875e+08   1.24993879e+09\n",
      "    1.24993879e+09   1.15300457e+09   1.15300457e+09   1.15300457e+09\n",
      "    1.01031961e+09   1.01031961e+09   8.98091767e+08   8.98091767e+08\n",
      "    8.98091767e+08   8.98091767e+08   8.98091767e+08   9.41739520e+08\n",
      "    1.02104675e+09   1.29071901e+09   1.29071901e+09   1.33003890e+09\n",
      "    1.33003890e+09   1.20467647e+09   1.20467647e+09   1.20467647e+09\n",
      "    1.20467647e+09   1.07133498e+09   1.07133498e+09   1.07133498e+09\n",
      "    1.07133498e+09   1.21640990e+09   1.28186203e+09   1.28186203e+09\n",
      "    1.28186203e+09   1.28186203e+09   1.28186203e+09   1.13683545e+09\n",
      "    1.13683545e+09   1.01170711e+09   1.01170711e+09   7.37902970e+08\n",
      "    7.37902970e+08   6.62814638e+08   6.62814638e+08   6.62814638e+08\n",
      "    7.67516511e+08   7.67516511e+08   8.63422449e+08   8.59668506e+08\n",
      "    8.99206169e+08   8.47152151e+08   8.47152151e+08   8.02841501e+08\n",
      "    8.02841501e+08   5.11348715e+08   5.11348715e+08   5.11348715e+08\n",
      "    6.61537232e+08   6.61537232e+08   6.61537232e+08   6.61537232e+08\n",
      "    6.61537232e+08   7.27230646e+08   7.27230646e+08   7.27230646e+08\n",
      "    7.27230646e+08   7.30016454e+08   6.76134925e+08   6.76134925e+08\n",
      "    6.76134925e+08   6.76134925e+08   6.76134925e+08   7.37744435e+08\n",
      "    7.00510552e+08   7.06475822e+08   7.06475822e+08   7.06475822e+08\n",
      "    7.35570945e+08   7.96794851e+08   7.96794851e+08   7.81090161e+08\n",
      "    7.81090161e+08   7.81090161e+08   7.81090161e+08   7.65199518e+08\n",
      "    6.89573334e+08   7.58742565e+08   6.64877833e+08   6.64877833e+08\n",
      "    6.50913885e+08   5.85791245e+08   5.85791245e+08   5.85791245e+08\n",
      "    3.88587350e+08   3.88587350e+08   3.88587350e+08   3.88587350e+08\n",
      "    3.88587350e+08   3.88587350e+08   3.88587350e+08   3.88587350e+08\n",
      "    3.88587350e+08   3.88587350e+08   4.16785377e+08   4.16785377e+08\n",
      "    3.96270553e+08   3.96270553e+08   5.22898285e+08   5.58295205e+08\n",
      "    5.79727383e+08   6.43401670e+08   6.38652932e+08   7.08063977e+08\n",
      "    5.69397609e+08   5.73903599e+08   5.73903599e+08   5.73903599e+08\n",
      "    5.73903599e+08   5.73903599e+08   5.73903599e+08   5.57647378e+08\n",
      "    5.57647378e+08   5.57647378e+08   6.08309371e+08   6.15202261e+08\n",
      "    6.15202261e+08   6.93829708e+08   6.93829708e+08   6.07371543e+08\n",
      "    6.07371543e+08   6.07371543e+08   6.07371543e+08   5.88836266e+08\n",
      "    5.88836266e+08   5.88836266e+08   5.88836266e+08   5.88836266e+08\n",
      "    6.39074861e+08   6.15894670e+08   6.15894670e+08   6.15894670e+08\n",
      "    6.52217459e+08   5.54028272e+08   5.54028272e+08   4.60410473e+08\n",
      "    4.60410473e+08   4.42878904e+08   4.42878904e+08   4.24300170e+08\n",
      "    4.24300170e+08   3.77050344e+08   6.49071164e+08   6.49071164e+08\n",
      "    6.49071164e+08   6.49071164e+08   6.49071164e+08   1.03297420e+09\n",
      "    1.03297420e+09   1.03297420e+09   1.03297420e+09   1.03297420e+09\n",
      "    1.03297420e+09   9.22593064e+08   9.22593064e+08   1.03764665e+09\n",
      "    9.39445962e+08   8.54292850e+08   8.54292850e+08   8.87923716e+08\n",
      "    8.87923716e+08   9.91204724e+08]]\n"
     ]
    }
   ],
   "source": [
    "lag = 28\n",
    "mysv = SV( krigdata, np.arange(1, 10000, lag), 500 )\n",
    "print mysv"
   ]
  },
  {
   "cell_type": "code",
   "execution_count": null,
   "metadata": {
    "collapsed": true
   },
   "outputs": [],
   "source": []
  },
  {
   "cell_type": "code",
   "execution_count": 39,
   "metadata": {
    "collapsed": false
   },
   "outputs": [
    {
     "data": {
      "text/plain": [
       "<matplotlib.text.Text at 0x7fcc65d644d0>"
      ]
     },
     "execution_count": 39,
     "metadata": {},
     "output_type": "execute_result"
    },
    {
     "data": {
      "image/png": "[encoded data removed]",
      "text/plain": [
       "<matplotlib.figure.Figure at 0x7fcc852a88d0>"
      ]
     },
     "metadata": {},
     "output_type": "display_data"
    }
   ],
   "source": [
    "# lags in 500 meter increments from zero to 10,000\n",
    "hs = np.arange(0, 10500, lag)\n",
    "#mysv = SV( x, hs, bw )\n",
    "pl.figure(figsize=(10,10))\n",
    "plot( mysv[0], mysv[1], '.-' )\n",
    "pl.xlabel('Lag [m]', fontsize=20)\n",
    "pl.ylabel('Semivariogram', fontsize=20)\n",
    "pl.title('Sample Semivariogram\\nporosity data, lag %dm'%lag, fontsize=20) "
   ]
  },
  {
   "cell_type": "markdown",
   "metadata": {},
   "source": [
    "The data does not show a significant nor consistent trend. The relationship of the data points does not seem to depend on distance to one another. "
   ]
  },
  {
   "cell_type": "code",
   "execution_count": null,
   "metadata": {
    "collapsed": true
   },
   "outputs": [],
   "source": []
  }
 ],
 "metadata": {
  "kernelspec": {
   "display_name": "PUI2016_Python2",
   "language": "python",
   "name": "pui2016_python2"
  },
  "language_info": {
   "codemirror_mode": {
    "name": "ipython",
    "version": 2
   },
   "file_extension": ".py",
   "mimetype": "text/x-python",
   "name": "python",
   "nbconvert_exporter": "python",
   "pygments_lexer": "ipython2",
   "version": "2.7.12"
  }
 },
 "nbformat": 4,
 "nbformat_minor": 0
}
