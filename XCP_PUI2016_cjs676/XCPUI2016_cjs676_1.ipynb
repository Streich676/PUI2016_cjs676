{
 "cells": [
  {
   "cell_type": "code",
   "execution_count": null,
   "metadata": {
    "collapsed": true
   },
   "outputs": [],
   "source": [
    "import numpy as np\n",
    "import os\n",
    "import sys"
   ]
  },
  {
   "cell_type": "markdown",
   "metadata": {},
   "source": [
    "Code was written on the PUI2016_Python2 Kernel"
   ]
  },
  {
   "cell_type": "markdown",
   "metadata": {},
   "source": [
    "Function to pull CitiBike data to PUIdata"
   ]
  },
  {
   "cell_type": "code",
   "execution_count": null,
   "metadata": {
    "collapsed": true
   },
   "outputs": [],
   "source": [
    "def getCitiBikeCSV(datestring):\n",
    "    '''Downloads citibike data and unzips it. If the data is downloaded by not unzippeds it zips it. Moves the data to $PUIDATA\n",
    "    Arguments:\n",
    "        date string as yyyymm\n",
    "    '''\n",
    "    print (\"Downloading\", datestring)\n",
    "    ### First I will heck that it is not already there\n",
    "    if not os.path.isfile(os.getenv(\"PUIDATA\") + \"/\" + datestring + \"-citibike-tripdata.csv\"):\n",
    "        if os.path.isfile(datestring + \"-citibike-tripdata.csv\"):\n",
    "            # if in the current dir just move it\n",
    "            if os.system(\"mv \" + datestring + \"-citibike-tripdata.csv \" + os.getenv(\"PUIDATA\")):\n",
    "                print (\"Error moving file!, Please check!\")\n",
    "        #otherwise start looking for the zip file\n",
    "        else:\n",
    "            if not os.path.isfile(os.getenv(\"PUIDATA\") + \"/\" + datestring + \"-citibike-tripdata.zip\"):\n",
    "                if not os.path.isfile(datestring + \"-citibike-tripdata.zip\"):\n",
    "                    os.system(\"curl -O https://s3.amazonaws.com/tripdata/\" + datestring + \"-citibike-tripdata.zip\")\n",
    "                ###  To move it I use the os.system() functions to run bash commands with arguments\n",
    "                os.system(\"mv \" + datestring + \"-citibike-tripdata.zip \" + os.getenv(\"PUIDATA\"))\n",
    "            ### unzip the csv \n",
    "            os.system(\"unzip \" + os.getenv(\"PUIDATA\") + \"/\" + datestring + \"-citibike-tripdata.zip\")\n",
    "            ## NOTE: old csv citibike data had a different name structure. \n",
    "            if '2014' in datestring:\n",
    "                os.system(\"mv \" + datestring[:4] + '-' +  datestring[4:] + \n",
    "                          \"\\ -\\ Citi\\ Bike\\ trip\\ data.csv \" + datestring + \"-citibike-tripdata.csv\")\n",
    "            os.system(\"mv \" + datestring + \"-citibike-tripdata.csv \" + os.getenv(\"PUIDATA\"))\n",
    "    ### One final check:\n",
    "    if not os.path.isfile(os.getenv(\"PUIDATA\") + \"/\" + datestring + \"-citibike-tripdata.csv\"):\n",
    "        print (\"WARNING!!! something is wrong: the file is not there!\")\n",
    "\n",
    "    else:\n",
    "        print (\"file in place, you can continue\")"
   ]
  },
  {
   "cell_type": "markdown",
   "metadata": {},
   "source": [
    "Pull CitiBike data for 2014"
   ]
  },
  {
   "cell_type": "code",
   "execution_count": null,
   "metadata": {
    "collapsed": false
   },
   "outputs": [],
   "source": [
    "for i in range (1,13):\n",
    "    if i < 10:\n",
    "        datestring = ('20140' + str(i))\n",
    "        getCitiBikeCSV(datestring) \n",
    "    else:\n",
    "        datestring = ('2014' + str(i))\n",
    "        getCitiBikeCSV(datestring)"
   ]
  },
  {
   "cell_type": "markdown",
   "metadata": {},
   "source": [
    "Pull CitiBike data for 2015\n"
   ]
  },
  {
   "cell_type": "code",
   "execution_count": null,
   "metadata": {
    "collapsed": false
   },
   "outputs": [],
   "source": [
    "for i in range (1,13):\n",
    "    if i < 10:\n",
    "        datestring = ('20150' + str(i))\n",
    "        getCitiBikeCSV(datestring) \n",
    "    else:\n",
    "        datestring = ('2015' + str(i))\n",
    "        getCitiBikeCSV(datestring) "
   ]
  },
  {
   "cell_type": "markdown",
   "metadata": {},
   "source": [
    "Pull Census Tract File"
   ]
  },
  {
   "cell_type": "code",
   "execution_count": null,
   "metadata": {
    "collapsed": false
   },
   "outputs": [],
   "source": [
    "os.system(\"curl -O http://www1.nyc.gov/assets/planning/download/zip/data-maps/open-data/nycb2010_16c.zip\")\n",
    "\n",
    "os.system(\"mv \" + \"nycb2010_16c.zip \" + os.getenv(\"PUIDATA\"))\n",
    "### unzip the csv \n",
    "os.system(\"unzip \" + os.getenv(\"PUIDATA\") + \"/\" + \"nycb2010_16c.zip\")\n",
    "\n",
    "if not os.path.isfile(os.getenv(\"PUIDATA\") + \"/\" + \"nycb2010_16c/nycb2010.shp\"):\n",
    "    print (\"WARNING!!! something is wrong: the file is not there!\")\n",
    "else:\n",
    "    print (\"file in place, you can continue\")"
   ]
  },
  {
   "cell_type": "code",
   "execution_count": null,
   "metadata": {
    "collapsed": false
   },
   "outputs": [],
   "source": [
    "print(os.getenv(\"PUIDATA\") + \"/\" + \"nycb2010_16c.zip\")"
   ]
  },
  {
   "cell_type": "markdown",
   "metadata": {},
   "source": [
    "Pull In LODES Data for 2014"
   ]
  },
  {
   "cell_type": "code",
   "execution_count": null,
   "metadata": {
    "collapsed": false
   },
   "outputs": [],
   "source": [
    "#os.system(\"curl -O http://lehd.ces.census.gov/data/lodes/LODES7/ny/od/ny_od_main_JT00_2014.csv.gz\")\n",
    "\n",
    "os.system(\"mv \" + \"ny_od_main_JT00_2014.csv.gz \" + os.getenv(\"PUIDATA\"))\n",
    "            ### unzip the csv \n",
    "os.system(\"gunzip -f \" + os.getenv(\"PUIDATA\") + \"/\" + \"ny_od_main_JT00_2014.csv.gz\")\n",
    "\n",
    "if not os.path.isfile(os.getenv(\"PUIDATA\") + \"/\" + \"ny_od_main_JT00_2014.csv\"):\n",
    "    print (\"WARNING!!! something is wrong: the file is not there!\")\n",
    "else:\n",
    "    print (\"file in place, you can continue\")"
   ]
  },
  {
   "cell_type": "markdown",
   "metadata": {},
   "source": [
    "#Get the TIGER Census file"
   ]
  },
  {
   "cell_type": "code",
   "execution_count": null,
   "metadata": {
    "collapsed": false
   },
   "outputs": [],
   "source": [
    "#os.system(\"curl -O http://www2.census.gov/geo/tiger/TIGER_DP/2011ACS/2011_ACS_5YR_BG_36.gdb.zip\")\n",
    "\n",
    "#os.system(\"mv \" + \"2011_ACS_5YR_BG_36.gdb.zip \" + os.getenv(\"PUIDATA\"))\n",
    "### unzip the csv \n",
    "#os.system(\"unzip \" + os.getenv(\"PUIDATA\") + \"/\" + \"2011_ACS_5YR_BG_36.gdb.zip\")\n",
    "\n",
    "#if not os.path.isfile(os.getenv(\"PUIDATA\") + \"/\" + \"nycb2010_16c.zip\"):\n",
    "#    print (\"WARNING!!! something is wrong: the file is not there!\")\n",
    "#else:\n",
    "#    print (\"file in place, you can continue\")\n",
    "\n",
    "\n"
   ]
  },
  {
   "cell_type": "code",
   "execution_count": null,
   "metadata": {
    "collapsed": true
   },
   "outputs": [],
   "source": []
  },
  {
   "cell_type": "code",
   "execution_count": null,
   "metadata": {
    "collapsed": true
   },
   "outputs": [],
   "source": []
  }
 ],
 "metadata": {
  "kernelspec": {
   "display_name": "PUI2016_Python2",
   "language": "python",
   "name": "pui2016_python2"
  },
  "language_info": {
   "codemirror_mode": {
    "name": "ipython",
    "version": 2
   },
   "file_extension": ".py",
   "mimetype": "text/x-python",
   "name": "python",
   "nbconvert_exporter": "python",
   "pygments_lexer": "ipython2",
   "version": "2.7.12"
  }
 },
 "nbformat": 4,
 "nbformat_minor": 0
}
