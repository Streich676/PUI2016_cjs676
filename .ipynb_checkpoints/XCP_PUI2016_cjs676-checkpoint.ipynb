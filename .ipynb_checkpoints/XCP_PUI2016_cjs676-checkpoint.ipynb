{
 "cells": [
  {
   "cell_type": "code",
   "execution_count": 1,
   "metadata": {
    "collapsed": true
   },
   "outputs": [],
   "source": [
    "import numpy as np\n",
    "import os\n",
    "import sys"
   ]
  },
  {
   "cell_type": "markdown",
   "metadata": {},
   "source": [
    "Function to pull CitiBike data to PUIdata"
   ]
  },
  {
   "cell_type": "code",
   "execution_count": 2,
   "metadata": {
    "collapsed": true
   },
   "outputs": [],
   "source": [
    "def getCitiBikeCSV(datestring):\n",
    "    '''Downloads citibike data and unzips it. If the data is downloaded by not unzippeds it zips it. Moves the data to $PUIDATA\n",
    "    Arguments:\n",
    "        date string as yyyymm\n",
    "    '''\n",
    "    print (\"Downloading\", datestring)\n",
    "    ### First I will heck that it is not already there\n",
    "    if not os.path.isfile(os.getenv(\"PUIDATA\") + \"/\" + datestring + \"-citibike-tripdata.csv\"):\n",
    "        if os.path.isfile(datestring + \"-citibike-tripdata.csv\"):\n",
    "            # if in the current dir just move it\n",
    "            if os.system(\"mv \" + datestring + \"-citibike-tripdata.csv \" + os.getenv(\"PUIDATA\")):\n",
    "                print (\"Error moving file!, Please check!\")\n",
    "        #otherwise start looking for the zip file\n",
    "        else:\n",
    "            if not os.path.isfile(os.getenv(\"PUIDATA\") + \"/\" + datestring + \"-citibike-tripdata.zip\"):\n",
    "                if not os.path.isfile(datestring + \"-citibike-tripdata.zip\"):\n",
    "                    os.system(\"curl -O https://s3.amazonaws.com/tripdata/\" + datestring + \"-citibike-tripdata.zip\")\n",
    "                ###  To move it I use the os.system() functions to run bash commands with arguments\n",
    "                os.system(\"mv \" + datestring + \"-citibike-tripdata.zip \" + os.getenv(\"PUIDATA\"))\n",
    "            ### unzip the csv \n",
    "            os.system(\"unzip \" + os.getenv(\"PUIDATA\") + \"/\" + datestring + \"-citibike-tripdata.zip\")\n",
    "            ## NOTE: old csv citibike data had a different name structure. \n",
    "            if '2014' in datestring:\n",
    "                os.system(\"mv \" + datestring[:4] + '-' +  datestring[4:] + \n",
    "                          \"\\ -\\ Citi\\ Bike\\ trip\\ data.csv \" + datestring + \"-citibike-tripdata.csv\")\n",
    "            os.system(\"mv \" + datestring + \"-citibike-tripdata.csv \" + os.getenv(\"PUIDATA\"))\n",
    "    ### One final check:\n",
    "    if not os.path.isfile(os.getenv(\"PUIDATA\") + \"/\" + datestring + \"-citibike-tripdata.csv\"):\n",
    "        print (\"WARNING!!! something is wrong: the file is not there!\")\n",
    "\n",
    "    else:\n",
    "        print (\"file in place, you can continue\")"
   ]
  },
  {
   "cell_type": "markdown",
   "metadata": {},
   "source": [
    "Pull CitiBike data for 2014\n"
   ]
  },
  {
   "cell_type": "code",
   "execution_count": 18,
   "metadata": {
    "collapsed": false
   },
   "outputs": [
    {
     "name": "stdout",
     "output_type": "stream",
     "text": [
      "('Downloading', '201401')\n",
      "file in place, you can continue\n",
      "('Downloading', '201402')\n",
      "file in place, you can continue\n",
      "('Downloading', '201403')\n",
      "file in place, you can continue\n",
      "('Downloading', '201404')\n",
      "file in place, you can continue\n",
      "('Downloading', '201405')\n",
      "file in place, you can continue\n",
      "('Downloading', '201406')\n",
      "file in place, you can continue\n",
      "('Downloading', '201407')\n",
      "file in place, you can continue\n",
      "('Downloading', '201408')\n",
      "file in place, you can continue\n",
      "('Downloading', '201409')\n",
      "file in place, you can continue\n",
      "('Downloading', '201410')\n",
      "file in place, you can continue\n",
      "('Downloading', '201411')\n",
      "file in place, you can continue\n",
      "('Downloading', '201412')\n",
      "file in place, you can continue\n"
     ]
    }
   ],
   "source": [
    "for i in range (1,13):\n",
    "    if i < 10:\n",
    "        datestring = ('20140' + str(i))\n",
    "        getCitiBikeCSV(datestring) \n",
    "    else:\n",
    "        datestring = ('2014' + str(i))\n",
    "        getCitiBikeCSV(datestring)  "
   ]
  },
  {
   "cell_type": "markdown",
   "metadata": {},
   "source": [
    "Pull CitiBike data for 2015"
   ]
  },
  {
   "cell_type": "code",
   "execution_count": 19,
   "metadata": {
    "collapsed": false
   },
   "outputs": [
    {
     "name": "stdout",
     "output_type": "stream",
     "text": [
      "('Downloading', '201501')\n",
      "file in place, you can continue\n",
      "('Downloading', '201502')\n",
      "file in place, you can continue\n",
      "('Downloading', '201503')\n",
      "file in place, you can continue\n",
      "('Downloading', '201504')\n",
      "file in place, you can continue\n",
      "('Downloading', '201505')\n",
      "file in place, you can continue\n",
      "('Downloading', '201506')\n",
      "file in place, you can continue\n",
      "('Downloading', '201507')\n",
      "file in place, you can continue\n",
      "('Downloading', '201508')\n",
      "file in place, you can continue\n",
      "('Downloading', '201509')\n",
      "file in place, you can continue\n",
      "('Downloading', '201510')\n",
      "file in place, you can continue\n",
      "('Downloading', '201511')\n",
      "file in place, you can continue\n",
      "('Downloading', '201512')\n",
      "file in place, you can continue\n"
     ]
    }
   ],
   "source": [
    "for i in range (1,13):\n",
    "    if i < 10:\n",
    "        datestring = ('20150' + str(i))\n",
    "        getCitiBikeCSV(datestring) \n",
    "    else:\n",
    "        datestring = ('2015' + str(i))\n",
    "        getCitiBikeCSV(datestring) \n",
    "\n",
    " "
   ]
  },
  {
   "cell_type": "markdown",
   "metadata": {
    "collapsed": true
   },
   "source": [
    "Pull census block shapefile"
   ]
  },
  {
   "cell_type": "code",
   "execution_count": 20,
   "metadata": {
    "collapsed": false
   },
   "outputs": [
    {
     "ename": "SyntaxError",
     "evalue": "invalid syntax (<ipython-input-20-ca44989acaad>, line 1)",
     "output_type": "error",
     "traceback": [
      "\u001b[0;36m  File \u001b[0;32m\"<ipython-input-20-ca44989acaad>\"\u001b[0;36m, line \u001b[0;32m1\u001b[0m\n\u001b[0;31m    curl -o 'data/NYCCB10.zip' http://www1.nyc.gov/assets/planning/download/zip/data-maps/open-data/nycb2010_16c.zip\u001b[0m\n\u001b[0m                             ^\u001b[0m\n\u001b[0;31mSyntaxError\u001b[0m\u001b[0;31m:\u001b[0m invalid syntax\n"
     ]
    }
   ],
   "source": [
    "curl -o 'data/NYCCB10.zip' http://www1.nyc.gov/assets/planning/download/zip/data-maps/open-data/nycb2010_16c.zip"
   ]
  },
  {
   "cell_type": "code",
   "execution_count": null,
   "metadata": {
    "collapsed": true
   },
   "outputs": [],
   "source": [
    "os.system(\"curl -O http://www1.nyc.gov/assets/planning/download/zip/data-maps/open-data/nycb2010_16c.zip\")\n",
    "\n",
    "#os.system(\"mv \" + datestring + \"-citibike-tripdata.zip \" + os.getenv(\"PUIDATA\"))\n",
    "            ### unzip the csv \n",
    "            #os.system(\"unzip \" + os.getenv(\"PUIDATA\") + \"/\" + datestring + \"-citibike-tripdata.zip\")"
   ]
  }
 ],
 "metadata": {
  "kernelspec": {
   "display_name": "PUI2016_Python2",
   "language": "python",
   "name": "pui2016_python2"
  },
  "language_info": {
   "codemirror_mode": {
    "name": "ipython",
    "version": 2
   },
   "file_extension": ".py",
   "mimetype": "text/x-python",
   "name": "python",
   "nbconvert_exporter": "python",
   "pygments_lexer": "ipython2",
   "version": "2.7.12"
  }
 },
 "nbformat": 4,
 "nbformat_minor": 0
}
